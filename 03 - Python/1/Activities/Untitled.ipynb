{
 "cells": [
  {
   "cell_type": "code",
   "execution_count": 1,
   "metadata": {},
   "outputs": [
    {
     "name": "stdout",
     "output_type": "stream",
     "text": [
      "0\n",
      "1\n",
      "2\n",
      "3\n",
      "4\n"
     ]
    }
   ],
   "source": [
    "for x in range(5):\n",
    "    print(x)\n",
    "    "
   ]
  },
  {
   "cell_type": "code",
   "execution_count": 2,
   "metadata": {},
   "outputs": [
    {
     "name": "stdout",
     "output_type": "stream",
     "text": [
      "2\n",
      "3\n",
      "4\n",
      "5\n",
      "6\n"
     ]
    }
   ],
   "source": [
    "for x in range(2, 7):\n",
    "    print(x)"
   ]
  },
  {
   "cell_type": "code",
   "execution_count": 3,
   "metadata": {},
   "outputs": [
    {
     "name": "stdout",
     "output_type": "stream",
     "text": [
      "cow\n",
      "chicken\n",
      "pig\n",
      "dog\n"
     ]
    }
   ],
   "source": [
    "farm = ['cow', 'chicken', 'pig', 'dog']\n",
    "for animal in farm:\n",
    "        print(animal)"
   ]
  },
  {
   "cell_type": "code",
   "execution_count": 4,
   "metadata": {},
   "outputs": [
    {
     "name": "stdout",
     "output_type": "stream",
     "text": [
      "How many numbers?2\n",
      "0\n",
      "1\n",
      "Would you like to continue? y or n:n\n"
     ]
    }
   ],
   "source": [
    "user_play = \"y\"\n",
    "start_number = 0\n",
    "\n",
    "while user_play == 'y':\n",
    "    user_number = int(input('How many numbers?'))\n",
    "    for x in range(start_number, user_number + start_number):\n",
    "        print(x)\n",
    "    start_number = start_number + int(user_number)\n",
    "    user_play = input(\"Would you like to continue? y or n:\")"
   ]
  },
  {
   "cell_type": "code",
   "execution_count": 5,
   "metadata": {},
   "outputs": [
    {
     "name": "stdout",
     "output_type": "stream",
     "text": [
      "What is your name?Tucker\n",
      "Hi Tucker!\n",
      "What is your age?14\n",
      "A well traveled soul are ye!\n"
     ]
    }
   ],
   "source": [
    "name = input(\"What is your name?\")\n",
    "print(\"Hi \" + name + \"!\")\n",
    "\n",
    "age = input(\"What is your age?\")\n",
    "if (int(age) < 8):\n",
    "    print(\"Aww, ye are just a babe!\")\n",
    "else:\n",
    "    print(\"A well traveled soul are ye!\")"
   ]
  },
  {
   "cell_type": "code",
   "execution_count": 7,
   "metadata": {},
   "outputs": [
    {
     "name": "stdout",
     "output_type": "stream",
     "text": [
      "[0] Snickers\n",
      "[1] Kit Kat\n",
      "[2] Sour Patch Kids\n",
      "[3] Juicy Fruit\n",
      "[4] Swedish Fish\n",
      "[5] Skittles\n",
      "[6] Hershey Bar\n",
      "[7] Starbursts\n",
      "[8] M&Ms\n"
     ]
    }
   ],
   "source": [
    "# The list of candies to print to the screen\n",
    "candy_list = [\n",
    "    \"Snickers\",\n",
    "    \"Kit Kat\",\n",
    "    \"Sour Patch Kids\",\n",
    "    \"Juicy Fruit\",\n",
    "    \"Swedish Fish\",\n",
    "    \"Skittles\",\n",
    "    \"Hershey Bar\",\n",
    "    \"Starbursts\",\n",
    "    \"M&Ms\"\n",
    "]\n",
    "\n",
    "# The amount of candy the user will be allowed to choose\n",
    "allowance = 5\n",
    "\n",
    "# The list used to store all of the candies selected inside of\n",
    "candy_cart = []\n",
    "\n",
    "for i in range(len(candy_list)):\n",
    "    print(\"[\" + str(i) + \"] \" + candy_list[i])\n",
    "\n",
    "\n",
    "\n"
   ]
  },
  {
   "cell_type": "code",
   "execution_count": 8,
   "metadata": {},
   "outputs": [
    {
     "name": "stdout",
     "output_type": "stream",
     "text": [
      "Which candy would you like to bring home?\n",
      "Enter the number of the candy you want: 1\n",
      "Enter the number of the candy you want: 2\n",
      "Enter the number of the candy you want: 3\n",
      "Enter the number of the candy you want: 4\n",
      "Enter the number of the candy you want: 5\n",
      "I brought home with me:\n",
      "Kit Kat\n",
      "Sour Patch Kids\n",
      "Juicy Fruit\n",
      "Swedish Fish\n",
      "Skittles\n"
     ]
    }
   ],
   "source": [
    "print(\"Which candy would you like to bring home?\")\n",
    "for x in range(allowance):\n",
    "    choice = input(\"Enter the number of the candy you want: \")\n",
    "    candy_cart.append(candy_list[int(choice)])\n",
    "\n",
    "print(\"I brought home with me:\")\n",
    "for candy in candy_cart:\n",
    "    print(candy)"
   ]
  },
  {
   "cell_type": "code",
   "execution_count": 9,
   "metadata": {},
   "outputs": [
    {
     "name": "stdout",
     "output_type": "stream",
     "text": [
      "Which candy would you like to bring home?\n",
      "Input the number of the candy you want: 2\n",
      "Would you like to make another selection? ('yes' or 'no') n\n",
      "I brought home with me...\n",
      "Kit Kat\n",
      "Sour Patch Kids\n",
      "Juicy Fruit\n",
      "Swedish Fish\n",
      "Skittles\n",
      "Sour Patch Kids\n"
     ]
    }
   ],
   "source": [
    "answer = \"yes\"\n",
    "\n",
    "\n",
    "while answer == \"yes\":\n",
    "\n",
    "    # Ask which candy the user would like to bring ho\n",
    "    print(\"Which candy would you like to bring home?\")\n",
    "    selected = input(\"Input the number of the candy you want: \")\n",
    "\n",
    "    # Add the candy at the index chosen to the candy_cart list\n",
    "    candy_cart.append(candy_list[int(selected)])\n",
    "\n",
    "    # ask the user if they want more candy\n",
    "    answer = input(\"Would you like to make another selection? ('yes' or 'no') \")\n",
    "\n",
    "\n",
    "# Loop through the candy_cart to say what candies were brought home\n",
    "print(\"I brought home with me...\")\n",
    "for candy in candy_cart:\n",
    "    print(candy)\n"
   ]
  },
  {
   "cell_type": "code",
   "execution_count": 10,
   "metadata": {},
   "outputs": [
    {
     "name": "stdout",
     "output_type": "stream",
     "text": [
      "Welcome to the House of Pies! Here are our pies:\n",
      "---------------------------------------------------------------------\n",
      "(1) Pecan, (2) Apple Crisp, (3) Bean, (4) Banoffee,  (5) Black Bun, (6) Blueberry, (7) Buko, (8) Burek,  (9) Tamale, (10) Steak \n",
      "Which would you like? 1\n",
      "------------------------------------------------------------------------\n",
      "Great! We'll have that Pecan right out for you.\n",
      "Would you like to make another purchase: (y)es or (n)o? n\n",
      "------------------------------------------------------------------------\n",
      "You purchased a total of 1.\n"
     ]
    }
   ],
   "source": [
    "shopping = 'y'\n",
    "\n",
    "# List to track pie purchases\n",
    "pie_purchases = []\n",
    "\n",
    "# Pie List\n",
    "pie_list = [\"Pecan\", \"Apple Crisp\", \"Bean\", \"Banoffee\", \"Black Bun\",\n",
    "            \"Blueberry\", \"Buko\", \"Burek\", \"Tamale\", \"Steak\"]\n",
    "\n",
    "# Display initial message\n",
    "print(\"Welcome to the House of Pies! Here are our pies:\")\n",
    "\n",
    "# While we are still shopping...\n",
    "while shopping == \"y\":\n",
    "\n",
    "    # Show pie selection prompt\n",
    "    print(\"---------------------------------------------------------------------\")\n",
    "    print(\"(1) Pecan, (2) Apple Crisp, (3) Bean, (4) Banoffee, \" +\n",
    "          \" (5) Black Bun, (6) Blueberry, (7) Buko, (8) Burek, \" +\n",
    "          \" (9) Tamale, (10) Steak \")\n",
    "\n",
    "    pie_choice = input(\"Which would you like? \")\n",
    "\n",
    "    # Add pie to the pie list\n",
    "    pie_purchases.append(pie_choice)\n",
    "\n",
    "    print(\"------------------------------------------------------------------------\")\n",
    "\n",
    "    # Inform the customer of the pie purchase\n",
    "    print(\"Great! We'll have that \" + pie_list[int(pie_choice) - 1] + \" right out for you.\")\n",
    "\n",
    "    # Provide exit option\n",
    "    shopping = input(\"Would you like to make another purchase: (y)es or (n)o? \")\n",
    "\n",
    "# Once the pie list is complete\n",
    "print(\"------------------------------------------------------------------------\")\n",
    "print(\"You purchased a total of \" + str(len(pie_purchases)) + \".\")\n"
   ]
  },
  {
   "cell_type": "code",
   "execution_count": 11,
   "metadata": {},
   "outputs": [
    {
     "name": "stdout",
     "output_type": "stream",
     "text": [
      "abcdefghijklmnopqrstuvwxyzABCDEFGHIJKLMNOPQRSTUVWXYZ\n",
      "8\n",
      "9\n",
      "3\n",
      "1\n",
      "7\n",
      "9\n",
      "3\n",
      "8\n",
      "7\n",
      "4\n"
     ]
    }
   ],
   "source": [
    "# Import the random and string Module\n",
    "import random\n",
    "import string\n",
    "\n",
    "# Utilize the string module's custom method: \".ascii_letters\"\n",
    "print(string.ascii_letters)\n",
    "\n",
    "# Utilize the random module's custom method randint\n",
    "for x in range(10):\n",
    "    print(random.randint(1, 10))\n"
   ]
  },
  {
   "cell_type": "code",
   "execution_count": 12,
   "metadata": {},
   "outputs": [
    {
     "name": "stdout",
     "output_type": "stream",
     "text": [
      "2\n",
      "7\n",
      "10\n",
      "7\n",
      "4\n",
      "9\n",
      "4\n",
      "9\n",
      "5\n",
      "8\n"
     ]
    }
   ],
   "source": [
    "for x in range(10):\n",
    "    print(random.randint(1, 10))"
   ]
  },
  {
   "cell_type": "code",
   "execution_count": 4,
   "metadata": {},
   "outputs": [
    {
     "name": "stdout",
     "output_type": "stream",
     "text": [
      "Hello, Bob!\n"
     ]
    }
   ],
   "source": [
    "def print_name(name):\n",
    "    print(f\"Hello, \" + name + \"!\")\n",
    "\n",
    "print_name(\"Bob\")"
   ]
  },
  {
   "cell_type": "code",
   "execution_count": 13,
   "metadata": {},
   "outputs": [
    {
     "name": "stdout",
     "output_type": "stream",
     "text": [
      "The values within the list are:\n",
      "1\n",
      "2\n",
      "3\n",
      "4\n",
      "5\n",
      "6\n",
      "7\n",
      "8\n",
      "The length of the list is: 8\n",
      "------------\n",
      "The values within the list are:\n",
      "9\n",
      "10\n",
      "11\n",
      "12\n",
      "13\n",
      "14\n",
      "15\n",
      "16\n",
      "The length of the list is: 8\n",
      "------------\n"
     ]
    }
   ],
   "source": [
    "list_one = [1, 2, 3, 4, 5, 6, 7, 8]\n",
    "list_two = [9, 10, 11, 12, 13, 14, 15, 16]\n",
    "\n",
    "def list_information(simple_list):\n",
    "    print('The values within the list are:')\n",
    "    for value in simple_list:\n",
    "        print(value)\n",
    "    print(f\"The length of the list is: \" + str(len(simple_list)))\n",
    "    print(\"-\" * 12)\n",
    "          \n",
    "list_information(list_one)\n",
    "list_information(list_two)"
   ]
  },
  {
   "cell_type": "code",
   "execution_count": null,
   "metadata": {},
   "outputs": [],
   "source": []
  }
 ],
 "metadata": {
  "kernelspec": {
   "display_name": "Python [conda env:PyData] *",
   "language": "python",
   "name": "conda-env-PyData-py"
  },
  "language_info": {
   "codemirror_mode": {
    "name": "ipython",
    "version": 3
   },
   "file_extension": ".py",
   "mimetype": "text/x-python",
   "name": "python",
   "nbconvert_exporter": "python",
   "pygments_lexer": "ipython3",
   "version": "3.6.10"
  }
 },
 "nbformat": 4,
 "nbformat_minor": 4
}
