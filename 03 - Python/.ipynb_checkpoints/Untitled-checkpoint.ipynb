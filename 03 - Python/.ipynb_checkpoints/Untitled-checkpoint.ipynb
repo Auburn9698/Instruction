{
 "cells": [
  {
   "cell_type": "code",
   "execution_count": 1,
   "metadata": {},
   "outputs": [
    {
     "name": "stdout",
     "output_type": "stream",
     "text": [
      "31\n",
      "28\n",
      "30\n",
      "31\n",
      "31\n",
      "30\n",
      "31\n",
      "31\n",
      "30\n",
      "31\n",
      "30\n",
      "31\n"
     ]
    }
   ],
   "source": [
    "days_in_month = [31, 28, 30, 31, 31, 30, 31, 31, 30, 31, 30, 31]\n",
    "for i in days_in_month:\n",
    "    print(i)\n",
    "\n"
   ]
  },
  {
   "cell_type": "code",
   "execution_count": 2,
   "metadata": {},
   "outputs": [
    {
     "data": {
      "text/plain": [
       "365"
      ]
     },
     "execution_count": 2,
     "metadata": {},
     "output_type": "execute_result"
    }
   ],
   "source": [
    "num_days = 0\n",
    "for i in range(12):\n",
    "    num_days += days_in_month[i]\n",
    "\n",
    "num_days"
   ]
  },
  {
   "cell_type": "code",
   "execution_count": 3,
   "metadata": {},
   "outputs": [
    {
     "data": {
      "text/plain": [
       "365"
      ]
     },
     "execution_count": 3,
     "metadata": {},
     "output_type": "execute_result"
    }
   ],
   "source": [
    "num_days = 0\n",
    "for i in days_in_month:\n",
    "    num_days += i\n",
    "num_days"
   ]
  },
  {
   "cell_type": "code",
   "execution_count": 4,
   "metadata": {},
   "outputs": [
    {
     "data": {
      "text/plain": [
       "365"
      ]
     },
     "execution_count": 4,
     "metadata": {},
     "output_type": "execute_result"
    }
   ],
   "source": [
    "num_days = sum(days_in_month)\n",
    "num_days"
   ]
  },
  {
   "cell_type": "code",
   "execution_count": 5,
   "metadata": {},
   "outputs": [],
   "source": [
    "age = 0"
   ]
  },
  {
   "cell_type": "code",
   "execution_count": 7,
   "metadata": {},
   "outputs": [
    {
     "name": "stdout",
     "output_type": "stream",
     "text": [
      "Enter the age of a person.  Enter -1 when done.10\n",
      "Enter the age of a person.  Enter -1 when done.-1\n"
     ]
    }
   ],
   "source": [
    "ages = []\n",
    "age = int(input(\"Enter the age of a person.  Enter -1 when done.\"))\n",
    "while age != -1:\n",
    "    ages.append(age)\n",
    "    age = int(input(\"Enter the age of a person.  Enter -1 when done.\"))"
   ]
  },
  {
   "cell_type": "code",
   "execution_count": 8,
   "metadata": {},
   "outputs": [
    {
     "data": {
      "text/plain": [
       "[10]"
      ]
     },
     "execution_count": 8,
     "metadata": {},
     "output_type": "execute_result"
    }
   ],
   "source": [
    "ages\n"
   ]
  },
  {
   "cell_type": "code",
   "execution_count": 9,
   "metadata": {},
   "outputs": [
    {
     "data": {
      "text/plain": [
       "[10]"
      ]
     },
     "execution_count": 9,
     "metadata": {},
     "output_type": "execute_result"
    }
   ],
   "source": [
    "ages[:]"
   ]
  },
  {
   "cell_type": "code",
   "execution_count": 10,
   "metadata": {},
   "outputs": [
    {
     "data": {
      "text/plain": [
       "[30, 31, 31]"
      ]
     },
     "execution_count": 10,
     "metadata": {},
     "output_type": "execute_result"
    }
   ],
   "source": [
    "days_in_summer = days_in_month[5:8]\n",
    "days_in_summer"
   ]
  },
  {
   "cell_type": "code",
   "execution_count": 11,
   "metadata": {},
   "outputs": [],
   "source": [
    "teststr = \"This Is A Test String\"\n",
    "lower = teststr.lower()\n",
    "capped = teststr.capitalize()\n"
   ]
  },
  {
   "cell_type": "code",
   "execution_count": 12,
   "metadata": {},
   "outputs": [
    {
     "data": {
      "text/plain": [
       "'this is a test string'"
      ]
     },
     "execution_count": 12,
     "metadata": {},
     "output_type": "execute_result"
    }
   ],
   "source": [
    "lower"
   ]
  },
  {
   "cell_type": "code",
   "execution_count": 13,
   "metadata": {},
   "outputs": [
    {
     "data": {
      "text/plain": [
       "'This is a test string'"
      ]
     },
     "execution_count": 13,
     "metadata": {},
     "output_type": "execute_result"
    }
   ],
   "source": [
    "capped"
   ]
  },
  {
   "cell_type": "code",
   "execution_count": 14,
   "metadata": {},
   "outputs": [
    {
     "name": "stdout",
     "output_type": "stream",
     "text": [
      "this is a test string\n"
     ]
    }
   ],
   "source": [
    "print(lower)"
   ]
  },
  {
   "cell_type": "code",
   "execution_count": 15,
   "metadata": {},
   "outputs": [
    {
     "name": "stdout",
     "output_type": "stream",
     "text": [
      "This is a test string\n"
     ]
    }
   ],
   "source": [
    "print(capped)"
   ]
  },
  {
   "cell_type": "code",
   "execution_count": 16,
   "metadata": {},
   "outputs": [
    {
     "name": "stdout",
     "output_type": "stream",
     "text": [
      "[1, 2, 3]\n"
     ]
    }
   ],
   "source": [
    "list_of_lists = [[1, 2, 3], [4, 5, 6], [7, 8, 9,]]\n",
    "print(list_of_lists[0])"
   ]
  },
  {
   "cell_type": "code",
   "execution_count": 17,
   "metadata": {},
   "outputs": [
    {
     "name": "stdout",
     "output_type": "stream",
     "text": [
      "7\n"
     ]
    }
   ],
   "source": [
    "print (list_of_lists[2][0])"
   ]
  },
  {
   "cell_type": "code",
   "execution_count": 18,
   "metadata": {},
   "outputs": [
    {
     "name": "stdout",
     "output_type": "stream",
     "text": [
      "Buick\n",
      "Centry\n",
      "2007\n"
     ]
    }
   ],
   "source": [
    "car_tuple = \"Buick\", \"Centry\", 2007\n",
    "make, model, year = car_tuple\n",
    "print(make)\n",
    "print(model)\n",
    "print(year)"
   ]
  },
  {
   "cell_type": "code",
   "execution_count": 19,
   "metadata": {},
   "outputs": [
    {
     "name": "stdout",
     "output_type": "stream",
     "text": [
      "Enter the name of a person.  Enter 'stop' when done.Tom\n",
      "What is the age of Tom? 42\n",
      "Enter the name of a person.  Enter 'stop' when done.jenny\n",
      "What is the age of jenny? 34\n",
      "Enter the name of a person.  Enter 'stop' when done.stop\n",
      "The name of the oldest person is Tom\n"
     ]
    }
   ],
   "source": [
    "names = []\n",
    "ages = []\n",
    "name = input(\"Enter the name of a person.  Enter 'stop' when done.\")\n",
    "while name != \"stop\":\n",
    "    age = int(input(\"What is the age of \" + name + \"? \"))\n",
    "    names.append(name)\n",
    "    ages.append(age)\n",
    "    name = input(\"Enter the name of a person.  Enter 'stop' when done.\")\n",
    "    \n",
    "maxindex = 0\n",
    "for i in range(1, len(ages)):\n",
    "    if ages[i] > ages[maxindex]:\n",
    "        maxindex = i\n",
    "    \n",
    "print(\"The name of the oldest person is\", names[maxindex])"
   ]
  },
  {
   "cell_type": "code",
   "execution_count": 20,
   "metadata": {},
   "outputs": [
    {
     "name": "stdout",
     "output_type": "stream",
     "text": [
      "(888)867-5309\n"
     ]
    }
   ],
   "source": [
    "phone_num = \"888-867-5309\"\n",
    "area_code, prefix, suffix = phone_num.split('-')\n",
    "print('('+area_code+')'+prefix+'-'+suffix)"
   ]
  },
  {
   "cell_type": "code",
   "execution_count": 21,
   "metadata": {},
   "outputs": [
    {
     "name": "stdout",
     "output_type": "stream",
     "text": [
      "(888) 867-5309\n"
     ]
    }
   ],
   "source": [
    "phone_num = \"888-867-5309\"\n",
    "area_code, prefix, suffix = phone_num.split('-')\n",
    "print(f'({area_code}) {prefix}-{suffix}')"
   ]
  },
  {
   "cell_type": "code",
   "execution_count": 22,
   "metadata": {},
   "outputs": [
    {
     "name": "stdout",
     "output_type": "stream",
     "text": [
      "256\n"
     ]
    }
   ],
   "source": [
    "def something2(a, b):\n",
    "    for i in range(a):\n",
    "        b = b*b\n",
    "    return b\n",
    "print (something2(3, 2))"
   ]
  },
  {
   "cell_type": "code",
   "execution_count": 23,
   "metadata": {},
   "outputs": [
    {
     "name": "stdout",
     "output_type": "stream",
     "text": [
      "4 6\n"
     ]
    }
   ],
   "source": [
    " def something3(a):\n",
    "        return a-1, a +1\n",
    "a, b = something3(5)\n",
    "print (a,b)"
   ]
  },
  {
   "cell_type": "code",
   "execution_count": 24,
   "metadata": {},
   "outputs": [
    {
     "name": "stdout",
     "output_type": "stream",
     "text": [
      "21\n"
     ]
    }
   ],
   "source": [
    "def something4(a):\n",
    "    sum = 0\n",
    "    for b in a:\n",
    "        if b < 0:\n",
    "            sum -=b\n",
    "        else:\n",
    "            sum +=b\n",
    "    return sum\n",
    "print (something4([2, -4, 3, -1, 7, -4]))"
   ]
  },
  {
   "cell_type": "code",
   "execution_count": 25,
   "metadata": {},
   "outputs": [
    {
     "name": "stdout",
     "output_type": "stream",
     "text": [
      "alright\n",
      "alright\n",
      "alright\n",
      "alright\n"
     ]
    }
   ],
   "source": [
    "def print_string(numtimes, string):\n",
    "    for i in range(numtimes):\n",
    "        print(string)\n",
    "\n",
    "print_string(4, 'alright')"
   ]
  },
  {
   "cell_type": "code",
   "execution_count": 27,
   "metadata": {},
   "outputs": [
    {
     "name": "stdout",
     "output_type": "stream",
     "text": [
      "Warning, you are about to enter sensitive information\n",
      "Do you wish to continue?  (Y/N)n\n",
      "Enter your nameVicky\n",
      "Enter your address100 Blah St\n",
      "Enter your card number69696969696969\n",
      " Name: Vicky, Address: 100 Blah St, Credit Card: 69696969696969\n"
     ]
    }
   ],
   "source": [
    "def warn():\n",
    "    print(\"Warning, you are about to enter sensitive information\")\n",
    "    ans = input(\"Do you wish to continue?  (Y/N)\")\n",
    "    if (ans == 'n') or (ans =='N'):\n",
    "        quit\n",
    "\n",
    "warn()\n",
    "name = input(\"Enter your name\")\n",
    "address = input(\"Enter your address\")\n",
    "ccn = input(\"Enter your card number\")\n",
    "\n",
    "print(f' Name: {name}, Address: {address}, Credit Card: {ccn}')"
   ]
  },
  {
   "cell_type": "code",
   "execution_count": 30,
   "metadata": {},
   "outputs": [
    {
     "name": "stdout",
     "output_type": "stream",
     "text": [
      "Enter your first name: Greg\n",
      "Enter your last name: Atkinson\n"
     ]
    },
    {
     "data": {
      "text/plain": [
       "('Greg', 'Atkinson')"
      ]
     },
     "execution_count": 30,
     "metadata": {},
     "output_type": "execute_result"
    }
   ],
   "source": [
    "def get_name():\n",
    "    first = input(\"Enter your first name: \")\n",
    "    last = input(\"Enter your last name: \")\n",
    "    return first, last\n",
    "\n",
    "#userfirst, userlast = get_name()\n",
    "get_name()\n"
   ]
  },
  {
   "cell_type": "code",
   "execution_count": 31,
   "metadata": {},
   "outputs": [],
   "source": [
    "def getSum(x):\n",
    "    sum = 0\n",
    "    for i in range(x+1):\n",
    "        sum += i\n",
    "    return sum\n",
    "total = getSum(100)"
   ]
  },
  {
   "cell_type": "code",
   "execution_count": 32,
   "metadata": {},
   "outputs": [
    {
     "data": {
      "text/plain": [
       "5050"
      ]
     },
     "execution_count": 32,
     "metadata": {},
     "output_type": "execute_result"
    }
   ],
   "source": [
    "total"
   ]
  },
  {
   "cell_type": "code",
   "execution_count": 33,
   "metadata": {},
   "outputs": [
    {
     "data": {
      "text/plain": [
       "5050.0"
      ]
     },
     "execution_count": 33,
     "metadata": {},
     "output_type": "execute_result"
    }
   ],
   "source": [
    "def getSum2(x):\n",
    "    return x * (x+1) / 2\n",
    "total2 = getSum2(100)\n",
    "total2"
   ]
  },
  {
   "cell_type": "code",
   "execution_count": 34,
   "metadata": {},
   "outputs": [
    {
     "name": "stdout",
     "output_type": "stream",
     "text": [
      "The sum of range 1 to 100 is:  5050\n",
      "The sum of range 20 to 60 is:  1640\n"
     ]
    }
   ],
   "source": [
    "def getRangeSum(a, b):\n",
    "    sum = 0\n",
    "    for i in range(a, b+1):\n",
    "        sum += i\n",
    "    return sum\n",
    "\n",
    "print(\"The sum of range 1 to 100 is: \", getRangeSum(1, 100))\n",
    "print(\"The sum of range 20 to 60 is: \", getRangeSum(20, 60))"
   ]
  },
  {
   "cell_type": "code",
   "execution_count": 35,
   "metadata": {},
   "outputs": [
    {
     "name": "stdout",
     "output_type": "stream",
     "text": [
      "The sum of range 1 to 100 is:  5050.0\n",
      "The sum of range 20 to 60 is:  1640.0\n"
     ]
    }
   ],
   "source": [
    "def getSum3(x):\n",
    "    return x * (x+1) / 2\n",
    "\n",
    "def getRangeSum3(a, b):\n",
    "    return getSum3(b) - getSum3(a-1)\n",
    "print(\"The sum of range 1 to 100 is: \", getRangeSum3(1, 100))\n",
    "print(\"The sum of range 20 to 60 is: \", getRangeSum3(20, 60))"
   ]
  },
  {
   "cell_type": "code",
   "execution_count": 36,
   "metadata": {},
   "outputs": [
    {
     "name": "stdout",
     "output_type": "stream",
     "text": [
      "Help on function greet in module __main__:\n",
      "\n",
      "greet(n)\n",
      "    Print a greeting\n",
      "    Print text \"Hello, <name>\" for parameter<name>.\n",
      "\n",
      "Hello, Tucker\n"
     ]
    }
   ],
   "source": [
    "def greet(n):\n",
    "    \"\"\"Print a greeting\n",
    "    Print text \"Hello, <name>\" for parameter<name>.   \"\"\"\n",
    "    print(\"Hello, \"+ n)\n",
    "    \n",
    "help(greet)\n",
    "greet(\"Tucker\")"
   ]
  },
  {
   "cell_type": "code",
   "execution_count": 37,
   "metadata": {},
   "outputs": [
    {
     "name": "stdout",
     "output_type": "stream",
     "text": [
      "4\n"
     ]
    }
   ],
   "source": [
    "def countChar(char, testString):\n",
    "    count = 0\n",
    "    for i in range(len(testString)):\n",
    "        if testString[i] == char:\n",
    "            count +=1\n",
    "    return count\n",
    "    \n",
    "print(countChar(\"e\", \"The quick red fox jumps over the lazy brown dog.\"))"
   ]
  },
  {
   "cell_type": "code",
   "execution_count": 46,
   "metadata": {},
   "outputs": [
    {
     "data": {
      "text/plain": [
       "7"
      ]
     },
     "execution_count": 46,
     "metadata": {},
     "output_type": "execute_result"
    }
   ],
   "source": [
    "def maxval(val1, val2):\n",
    "    if val1 > val2:\n",
    "        return val1\n",
    "    else:\n",
    "        return val2\n",
    "\n",
    "maxval(7, 5)\n"
   ]
  },
  {
   "cell_type": "code",
   "execution_count": 49,
   "metadata": {},
   "outputs": [],
   "source": [
    "a = 7\n",
    "b = 11\n",
    "c = maxval(a, b)"
   ]
  },
  {
   "cell_type": "code",
   "execution_count": 50,
   "metadata": {},
   "outputs": [
    {
     "data": {
      "text/plain": [
       "11"
      ]
     },
     "execution_count": 50,
     "metadata": {},
     "output_type": "execute_result"
    }
   ],
   "source": [
    "c"
   ]
  },
  {
   "cell_type": "code",
   "execution_count": 57,
   "metadata": {},
   "outputs": [
    {
     "data": {
      "text/plain": [
       "85.0"
      ]
     },
     "execution_count": 57,
     "metadata": {},
     "output_type": "execute_result"
    }
   ],
   "source": [
    "def testscore(numcorrect, total):\n",
    "    numcorrect += 5                # For giving everyone 5 extra points; could be left out\n",
    "    percent = (numcorrect / total) * 100\n",
    "    return percent\n",
    "a = 12\n",
    "b = 20\n",
    "c = testscore(a, b)\n",
    "c\n"
   ]
  },
  {
   "cell_type": "code",
   "execution_count": 64,
   "metadata": {},
   "outputs": [
    {
     "data": {
      "text/plain": [
       "90.0"
      ]
     },
     "execution_count": 64,
     "metadata": {},
     "output_type": "execute_result"
    }
   ],
   "source": [
    "def testscore2(numcorrect, total):\n",
    "    numcorrect += 5                # For giving everyone 5 extra points; could be left out\n",
    "    temp_val = (numcorrect / total)\n",
    "    return temp_val * 100\n",
    "\n",
    "a = 13\n",
    "b = 20\n",
    "c = testscore2(a, b)\n",
    "c"
   ]
  },
  {
   "cell_type": "code",
   "execution_count": 65,
   "metadata": {},
   "outputs": [
    {
     "data": {
      "text/plain": [
       "90.0"
      ]
     },
     "execution_count": 65,
     "metadata": {},
     "output_type": "execute_result"
    }
   ],
   "source": [
    "def testscore2(numcorrect, total):\n",
    "    numcorrect += 5                # For giving everyone 5 extra points; could be left out\n",
    "    a = (numcorrect / total)\n",
    "    return (a * 100)\n",
    "\n",
    "a = 13\n",
    "b = 20\n",
    "c = testscore2(a, b)\n",
    "c"
   ]
  },
  {
   "cell_type": "code",
   "execution_count": 71,
   "metadata": {},
   "outputs": [
    {
     "data": {
      "text/plain": [
       "85.0"
      ]
     },
     "execution_count": 71,
     "metadata": {},
     "output_type": "execute_result"
    }
   ],
   "source": [
    "# Best way to write this function:\n",
    "\n",
    "def testscore2(numcorrect, total, bonus):\n",
    "\n",
    "    numcorrect += bonus                # For giving everyone 5 extra points; could be left out\n",
    "    temp_val = (numcorrect / total)\n",
    "    return temp_val * 100\n",
    "\n",
    "a = 12\n",
    "b = 20\n",
    "c = 5\n",
    "d = testscore2(a, b, c)\n",
    "d"
   ]
  },
  {
   "cell_type": "code",
   "execution_count": 73,
   "metadata": {},
   "outputs": [
    {
     "name": "stdout",
     "output_type": "stream",
     "text": [
      "0\n"
     ]
    }
   ],
   "source": [
    "def initialize():\n",
    "    fuel = 100.0\n",
    "    \n",
    "fuel = 0\n",
    "initialize()\n",
    "print(fuel)"
   ]
  },
  {
   "cell_type": "code",
   "execution_count": 74,
   "metadata": {},
   "outputs": [
    {
     "name": "stdout",
     "output_type": "stream",
     "text": [
      "100.0\n"
     ]
    }
   ],
   "source": [
    "def initialize():\n",
    "    global fuel\n",
    "    fuel = 100.0\n",
    "    \n",
    "fuel = 0\n",
    "initialize()\n",
    "print(fuel)"
   ]
  },
  {
   "cell_type": "code",
   "execution_count": 77,
   "metadata": {},
   "outputs": [
    {
     "name": "stdout",
     "output_type": "stream",
     "text": [
      "3\n"
     ]
    }
   ],
   "source": [
    "# Mutable vs Immmutable variable examples:\n",
    "# Integers are immutable:\n",
    "\n",
    "def adder(val1, val2):\n",
    "    val1 += val2\n",
    "    \n",
    "num1 = 3\n",
    "num2 = 4\n",
    "adder(num1, num2)\n",
    "print(num1)"
   ]
  },
  {
   "cell_type": "code",
   "execution_count": 81,
   "metadata": {},
   "outputs": [
    {
     "name": "stdout",
     "output_type": "stream",
     "text": [
      "3\n"
     ]
    }
   ],
   "source": [
    "# Mutable vs Immmutable variable examples:\n",
    "# Integers are immutable:\n",
    "\n",
    "def adder(val1, val2):\n",
    "    product = val1 + val2\n",
    "    return product\n",
    "    \n",
    "num1 = 3\n",
    "num2 = 4\n",
    "adder(num1, num2)\n",
    "print(num1)"
   ]
  },
  {
   "cell_type": "code",
   "execution_count": 82,
   "metadata": {},
   "outputs": [
    {
     "name": "stdout",
     "output_type": "stream",
     "text": [
      "[1, 2, 3, 4]\n"
     ]
    }
   ],
   "source": [
    "# Lists are mutable:\n",
    "\n",
    "def adder(val1, val2):\n",
    "    val1 += val2\n",
    "    \n",
    "num1 = [1, 2]\n",
    "num2 = [3, 4]\n",
    "adder(num1, num2)\n",
    "print(num1)"
   ]
  },
  {
   "cell_type": "code",
   "execution_count": 90,
   "metadata": {},
   "outputs": [
    {
     "name": "stdout",
     "output_type": "stream",
     "text": [
      "[3, 5, 7]\n"
     ]
    }
   ],
   "source": [
    "list1 = [3, 5]\n",
    "list2 = list1\n",
    "list2 += [7]\n",
    "print(list1)"
   ]
  },
  {
   "cell_type": "code",
   "execution_count": 91,
   "metadata": {},
   "outputs": [
    {
     "name": "stdout",
     "output_type": "stream",
     "text": [
      "[3, 5, 7]\n"
     ]
    }
   ],
   "source": [
    "print(list2)"
   ]
  },
  {
   "cell_type": "code",
   "execution_count": 93,
   "metadata": {},
   "outputs": [
    {
     "name": "stdout",
     "output_type": "stream",
     "text": [
      "[2, 4, 6, 8]\n"
     ]
    }
   ],
   "source": [
    "list3 = [2, 4, 6]\n",
    "list3 += [8]\n",
    "print(list3)\n"
   ]
  },
  {
   "cell_type": "code",
   "execution_count": 95,
   "metadata": {},
   "outputs": [
    {
     "name": "stdout",
     "output_type": "stream",
     "text": [
      "[1, 2, 3, 7]\n",
      "[4, 5, 6]\n"
     ]
    }
   ],
   "source": [
    "# a gets changed by the function, since the function modifies the list:\n",
    "# b is not changed by the function, since the function tries to assign a completely new value to it\n",
    "\n",
    "def doSomething(in1, in2):\n",
    "    in1 += [7]\n",
    "    in2 = [8]\n",
    "\n",
    "a = [1, 2, 3]\n",
    "b = [4, 5, 6]\n",
    "doSomething(a, b)\n",
    "print(a)\n",
    "print(b)"
   ]
  },
  {
   "cell_type": "code",
   "execution_count": 96,
   "metadata": {},
   "outputs": [
    {
     "name": "stdout",
     "output_type": "stream",
     "text": [
      "150\n"
     ]
    }
   ],
   "source": [
    "# Specifying a parameter's default value inside the function in case the caller doesn't specify it:\n",
    "\n",
    "def calc_mileage(gallons, mpg=20.0):\n",
    "    return gallons * mpg\n",
    "\n",
    "# Calling the function like usual by specifying both parameters:\n",
    "\n",
    "print(calc_mileage(10, 15))\n"
   ]
  },
  {
   "cell_type": "code",
   "execution_count": 114,
   "metadata": {},
   "outputs": [
    {
     "name": "stdout",
     "output_type": "stream",
     "text": [
      "200.0\n"
     ]
    }
   ],
   "source": [
    "# Calling the function by leaving off the parameter that has a default value:\n",
    "# Use default values only if the default will be a fixed immutable value\n",
    "\n",
    "print (calc_mileage(10))"
   ]
  },
  {
   "cell_type": "code",
   "execution_count": 115,
   "metadata": {},
   "outputs": [
    {
     "name": "stdout",
     "output_type": "stream",
     "text": [
      "You will never believe what I saw in Chicago.  It was a green dinosaur and it was eating spaghetti.\n",
      "You will never believe what I saw in Chicago.  It was a green kangaroo and it was eating spaghetti.\n",
      "You will never believe what I saw in Chicago.  It was a dead parrot and it was eating spaghetti.\n",
      "You will never believe what I saw in New York.  It was a happy dog and it was eating spaghetti.\n",
      "You will never believe what I saw in Dallas.  It was a tired platyplus and it was eating pizza.\n",
      "You will never believe what I saw in Chicago.  It was a green dinosaur and it was eating wings.\n"
     ]
    }
   ],
   "source": [
    "def madlib(animal=\"dinosaur\", adjective=\"green\", city=\"Chicago\", food=\"spaghetti\"):\n",
    "    return(f'You will never believe what I saw in {city}.  It was a {adjective} {animal} and it was eating {food}.')\n",
    "    #return \"You'll never believe what I saw in \" + city \".  It was a \" + animal\", and it was eating \" + food\".\"\n",
    "    \n",
    "print(madlib())\n",
    "print(madlib(\"kangaroo\"))\n",
    "print(madlib(\"parrot\", \"dead\"))\n",
    "print(madlib(\"dog\", \"happy\", \"New York\"))\n",
    "print(madlib(\"platyplus\", \"tired\", \"Dallas\", \"pizza\"))\n",
    "print(madlib(food = 'wings'))"
   ]
  },
  {
   "cell_type": "code",
   "execution_count": 119,
   "metadata": {},
   "outputs": [
    {
     "name": "stdout",
     "output_type": "stream",
     "text": [
      "test\n",
      "pass\n"
     ]
    }
   ],
   "source": [
    "def madlib2(word = 'test'):\n",
    "    return word\n",
    "\n",
    "print(madlib2())\n",
    "print (madlib2('pass'))"
   ]
  },
  {
   "cell_type": "code",
   "execution_count": 5,
   "metadata": {},
   "outputs": [
    {
     "name": "stdout",
     "output_type": "stream",
     "text": [
      "5:01 CT\n"
     ]
    }
   ],
   "source": [
    "import random\n",
    "\n",
    "TimeZoneList = ['ET', 'CT', 'MT', 'PT']\n",
    "ArrivalTimeZone = random.choice(TimeZoneList)\n",
    "\n",
    "print(f'5:01 {ArrivalTimeZone}')"
   ]
  },
  {
   "cell_type": "code",
   "execution_count": null,
   "metadata": {},
   "outputs": [],
   "source": []
  }
 ],
 "metadata": {
  "kernelspec": {
   "display_name": "Python [conda env:PyData] *",
   "language": "python",
   "name": "conda-env-PyData-py"
  },
  "language_info": {
   "codemirror_mode": {
    "name": "ipython",
    "version": 3
   },
   "file_extension": ".py",
   "mimetype": "text/x-python",
   "name": "python",
   "nbconvert_exporter": "python",
   "pygments_lexer": "ipython3",
   "version": "3.6.10"
  }
 },
 "nbformat": 4,
 "nbformat_minor": 4
}
