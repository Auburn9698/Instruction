{
 "cells": [
  {
   "cell_type": "code",
   "execution_count": 1,
   "metadata": {},
   "outputs": [],
   "source": [
    "# Dependencies\n",
    "import json\n",
    "import requests\n",
    "from config import api_key\n",
    "from pprint import pprint\n",
    "from datetime import datetime\n",
    "url = \"http://api.openweathermap.org/data/2.5/weather?\"\n",
    "city = \"Bujumbura\"\n",
    "units = \"metric\""
   ]
  },
  {
   "cell_type": "code",
   "execution_count": 2,
   "metadata": {},
   "outputs": [],
   "source": [
    "# Build query URL and request your results in Celsius\n",
    "\n",
    "query_url = f\"{url}appid={api_key}&q={city}&units={units}\"\n",
    "\n",
    "#query_url = f\"{url}appid={api_key}&q={city}&units={units}\"\n",
    "\n",
    "\n",
    "# Get weather data\n",
    "\n",
    "weather_response = requests.get(query_url)\n",
    "weather_json = weather_response.json()\n",
    "\n",
    "#weather_response = requests.get(query_url)\n",
    "#weather_json = weather_response.json()"
   ]
  },
  {
   "cell_type": "code",
   "execution_count": 3,
   "metadata": {},
   "outputs": [
    {
     "name": "stdout",
     "output_type": "stream",
     "text": [
      "The Weather API responded with: {'coord': {'lon': 29.36, 'lat': -3.38}, 'weather': [{'id': 500, 'main': 'Rain', 'description': 'light rain', 'icon': '10n'}], 'base': 'stations', 'main': {'temp': 24.02, 'feels_like': 26.11, 'temp_min': 24.02, 'temp_max': 24.02, 'pressure': 1013, 'humidity': 67, 'sea_level': 1013, 'grnd_level': 925}, 'visibility': 10000, 'wind': {'speed': 0.71, 'deg': 128}, 'rain': {'1h': 0.28}, 'clouds': {'all': 66}, 'dt': 1602435437, 'sys': {'country': 'BI', 'sunrise': 1602387841, 'sunset': 1602431647}, 'timezone': 7200, 'id': 425378, 'name': 'Bujumbura', 'cod': 200}.\n"
     ]
    }
   ],
   "source": [
    "print(f\"The Weather API responded with: {weather_json}.\")\n",
    "\n",
    "#print(f\"The weather API responded with: {weather_json}.\")"
   ]
  },
  {
   "cell_type": "code",
   "execution_count": 4,
   "metadata": {},
   "outputs": [
    {
     "name": "stdout",
     "output_type": "stream",
     "text": [
      "{'base': 'stations',\n",
      " 'clouds': {'all': 66},\n",
      " 'cod': 200,\n",
      " 'coord': {'lat': -3.38, 'lon': 29.36},\n",
      " 'dt': 1602435437,\n",
      " 'id': 425378,\n",
      " 'main': {'feels_like': 26.11,\n",
      "          'grnd_level': 925,\n",
      "          'humidity': 67,\n",
      "          'pressure': 1013,\n",
      "          'sea_level': 1013,\n",
      "          'temp': 24.02,\n",
      "          'temp_max': 24.02,\n",
      "          'temp_min': 24.02},\n",
      " 'name': 'Bujumbura',\n",
      " 'rain': {'1h': 0.28},\n",
      " 'sys': {'country': 'BI', 'sunrise': 1602387841, 'sunset': 1602431647},\n",
      " 'timezone': 7200,\n",
      " 'visibility': 10000,\n",
      " 'weather': [{'description': 'light rain',\n",
      "              'icon': '10n',\n",
      "              'id': 500,\n",
      "              'main': 'Rain'}],\n",
      " 'wind': {'deg': 128, 'speed': 0.71}}\n"
     ]
    }
   ],
   "source": [
    "# Using pprint\n",
    "pprint(weather_json)\n",
    "\n",
    "#pprint(weather_json)  "
   ]
  },
  {
   "cell_type": "code",
   "execution_count": 9,
   "metadata": {},
   "outputs": [
    {
     "name": "stdout",
     "output_type": "stream",
     "text": [
      "{\n",
      " \"coord\": {\n",
      "  \"lon\": 29.36,\n",
      "  \"lat\": -3.38\n",
      " },\n",
      " \"weather\": [\n",
      "  {\n",
      "   \"id\": 500,\n",
      "   \"main\": \"Rain\",\n",
      "   \"description\": \"light rain\",\n",
      "   \"icon\": \"10d\"\n",
      "  }\n",
      " ],\n",
      " \"base\": \"stations\",\n",
      " \"main\": {\n",
      "  \"temp\": 26.33,\n",
      "  \"feels_like\": 28.07,\n",
      "  \"temp_min\": 26.33,\n",
      "  \"temp_max\": 26.33,\n",
      "  \"pressure\": 1010,\n",
      "  \"humidity\": 59,\n",
      "  \"sea_level\": 1010,\n",
      "  \"grnd_level\": 924\n",
      " },\n",
      " \"visibility\": 10000,\n",
      " \"wind\": {\n",
      "  \"speed\": 1.3,\n",
      "  \"deg\": 214\n",
      " },\n",
      " \"rain\": {\n",
      "  \"1h\": 0.51\n",
      " },\n",
      " \"clouds\": {\n",
      "  \"all\": 83\n",
      " },\n",
      " \"dt\": 1602343226,\n",
      " \"sys\": {\n",
      "  \"country\": \"BI\",\n",
      "  \"sunrise\": 1602301462,\n",
      "  \"sunset\": 1602345257\n",
      " },\n",
      " \"timezone\": 7200,\n",
      " \"id\": 425378,\n",
      " \"name\": \"Bujumbura\",\n",
      " \"cod\": 200\n",
      "}\n"
     ]
    }
   ],
   "source": [
    " #Printing the same way with json.dumps\n",
    "print(json.dumps(weather_json, indent=1)) "
   ]
  },
  {
   "cell_type": "code",
   "execution_count": 7,
   "metadata": {},
   "outputs": [
    {
     "name": "stdout",
     "output_type": "stream",
     "text": [
      "The weather in Bujumburu is 24.02.\n"
     ]
    }
   ],
   "source": [
    "# Get temperature from JSON response\n",
    "temp = weather_json[\"main\"][\"temp\"]\n",
    "print(f\"The weather in Bujumburu is {temp}.\")\n",
    "\n",
    "#temp = weather_json[\"main\"][\"temp\"]\n",
    "#print(f\"The weather in Bujumburu is {temp}\")"
   ]
  },
  {
   "cell_type": "code",
   "execution_count": 10,
   "metadata": {},
   "outputs": [],
   "source": [
    "# Report temperature"
   ]
  },
  {
   "cell_type": "code",
   "execution_count": null,
   "metadata": {},
   "outputs": [],
   "source": []
  },
  {
   "cell_type": "code",
   "execution_count": 10,
   "metadata": {},
   "outputs": [
    {
     "name": "stdout",
     "output_type": "stream",
     "text": [
      "The temperature in Bujumburu is 24.02C or 75.24F.\n"
     ]
    }
   ],
   "source": [
    "## Bonus\n",
    "\n",
    "# Augment your code to report the temperature in both Fahrenheit _and_ Celsius.\n",
    "units = [\"metric\", \"imperial\"]\n",
    "\n",
    "temps = []\n",
    "for unit in units:\n",
    "    query_url = url + \"appid=\" + api_key + \"&q=\" + city + \"&units=\" + unit\n",
    "    weather_response = requests.get(query_url)\n",
    "    weather_json = weather_response.json()\n",
    "    temp = weather_json[\"main\"][\"temp\"]\n",
    "    temps.append(temp)\n",
    "    \n",
    "print(f\"The temperature in Bujumburu is {temps[0]}C or {temps[1]}F.\")\n",
    "\n",
    "\n",
    "# temperatures = []\n",
    "#for unit in units:\n",
    "#    query_url = url + \"appid=\" api_key + \"&q=\" + city + \"&units=\" + unit\n",
    "\n",
    "    \n",
    "## finish this with the saved pciture\n"
   ]
  },
  {
   "cell_type": "code",
   "execution_count": null,
   "metadata": {},
   "outputs": [],
   "source": [
    "\n"
   ]
  }
 ],
 "metadata": {
  "kernelspec": {
   "display_name": "Python 3",
   "language": "python",
   "name": "python3"
  },
  "language_info": {
   "codemirror_mode": {
    "name": "ipython",
    "version": 3
   },
   "file_extension": ".py",
   "mimetype": "text/x-python",
   "name": "python",
   "nbconvert_exporter": "python",
   "pygments_lexer": "ipython3",
   "version": "3.6.10"
  },
  "varInspector": {
   "cols": {
    "lenName": 16,
    "lenType": 16,
    "lenVar": 40
   },
   "kernels_config": {
    "python": {
     "delete_cmd_postfix": "",
     "delete_cmd_prefix": "del ",
     "library": "var_list.py",
     "varRefreshCmd": "print(var_dic_list())"
    },
    "r": {
     "delete_cmd_postfix": ") ",
     "delete_cmd_prefix": "rm(",
     "library": "var_list.r",
     "varRefreshCmd": "cat(var_dic_list()) "
    }
   },
   "types_to_exclude": [
    "module",
    "function",
    "builtin_function_or_method",
    "instance",
    "_Feature"
   ],
   "window_display": false
  }
 },
 "nbformat": 4,
 "nbformat_minor": 2
}
