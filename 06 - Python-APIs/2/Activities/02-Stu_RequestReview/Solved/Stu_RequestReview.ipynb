{
 "cells": [
  {
   "cell_type": "code",
   "execution_count": 9,
   "metadata": {},
   "outputs": [],
   "source": [
    "# Dependencies\n",
    "import json\n",
    "import requests\n",
    "from pprint import pprint"
   ]
  },
  {
   "cell_type": "code",
   "execution_count": 10,
   "metadata": {},
   "outputs": [
    {
     "name": "stdout",
     "output_type": "stream",
     "text": [
      "200\n"
     ]
    }
   ],
   "source": [
    "# Specify the URL\n",
    "url = \"http://nyt-mongo-scraper.herokuapp.com/api/headlines\"\n",
    "\n",
    "# Make request and store response\n",
    "response = requests.get(url)\n",
    "\n",
    "#response = requests.get(url)\n",
    "\n",
    "# Print status code\n",
    "print(response.status_code)\n",
    "\n",
    "#print(response.status_code)"
   ]
  },
  {
   "cell_type": "code",
   "execution_count": 11,
   "metadata": {},
   "outputs": [
    {
     "name": "stdout",
     "output_type": "stream",
     "text": [
      "[{'__v': 0,\n",
      "  '_id': '5f81eea3559c6800153357e5',\n",
      "  'date': '2020-10-10T17:25:55.032Z',\n",
      "  'headline': 'James Murdoch, Rebellious Scion',\n",
      "  'saved': False,\n",
      "  'summary': 'Increasingly uncomfortable with News Corp, Rupert’s younger son '\n",
      "             'chose chickens and sheep over Fox. He insists he doesn’t watch '\n",
      "             '“Succession.”',\n",
      "  'url': 'https://www.nytimes.com/2020/10/10/style/james-murdoch-maureen-dowd.html'},\n",
      " {'__v': 0,\n",
      "  '_id': '5f81eea3559c6800153357e3',\n",
      "  'date': '2020-10-10T17:25:55.031Z',\n",
      "  'headline': 'Let’s Make a Deal',\n",
      "  'saved': False,\n",
      "  'summary': 'The nation needs another round of federal aid. President Trump '\n",
      "             'and Congress need to rise to the moment.',\n",
      "  'url': 'https://www.nytimes.com/2020/10/09/opinion/coronavirus-stimulus-federal-aid.html'},\n",
      " {'__v': 0,\n",
      "  '_id': '5f81eea3559c6800153357e4',\n",
      "  'date': '2020-10-10T17:25:55.031Z',\n",
      "  'headline': 'The First Semester of College Has Never Been Stranger',\n",
      "  'saved': False,\n",
      "  'summary': 'The pandemic has made it harder to meet people. Classes and '\n",
      "             'clubs have moved online. Students often eat alone. But they’re '\n",
      "             'making the most of it.',\n",
      "  'url': 'https://www.nytimes.com/2020/10/08/us/college-freshmen-coronavirus.html'},\n",
      " {'__v': 0,\n",
      "  '_id': '5f81eea3559c6800153357e2',\n",
      "  'date': '2020-10-10T17:25:55.031Z',\n",
      "  'headline': 'The WeekenderDid you follow the headlines this week? Take our '\n",
      "              'quiz.',\n",
      "  'saved': False,\n",
      "  'summary': 'The collapse of Venezuela’s oil production. Mariah Carey’s '\n",
      "             'tell-all. Hope for the Afghan peace talks. The champion of Fat '\n",
      "             'Bear Week. And more.',\n",
      "  'url': 'https://www.nytimes.com/interactive/2020/10/09/briefing/the-weekender.html'},\n",
      " {'__v': 0,\n",
      "  '_id': '5f81eea3559c6800153357df',\n",
      "  'date': '2020-10-10T17:25:55.030Z',\n",
      "  'headline': 'Huge Absentee Vote in Key States Favors Democrats So Far',\n",
      "  'saved': False,\n",
      "  'summary': 'In Wisconsin, about 146,000 people voted by mail in the 2016 '\n",
      "             'general election. This fall, about 647,000 people have already '\n",
      "             'voted absentee, many in Democratic strongholds.',\n",
      "  'url': 'https://www.nytimes.com/2020/10/10/us/politics/early-voting-swing-states.html'},\n",
      " {'__v': 0,\n",
      "  '_id': '5f81eea3559c6800153357dd',\n",
      "  'date': '2020-10-10T17:25:55.030Z',\n",
      "  'headline': 'Battered by Trump, the C.D.C.’s Director Faces Pressure to '\n",
      "              'Speak OutPelosi Pans Trump’s $1.8 Trillion Coronavirus Relief '\n",
      "              'ProposalEurope’s Economic Recovery Is a Summer Memory',\n",
      "  'saved': False,\n",
      "  'summary': 'The agency prides itself on avoiding Washington partisanship. '\n",
      "             'But the White House has successfully pushed the agency to revise '\n",
      "             'its guidelines.Speaker Nancy Pelosi said the proposal “amounted '\n",
      "             'to one step forward, two steps back.” Follow updates here.As the '\n",
      "             'coronavirus resumes spreading rapidly across the continent, '\n",
      "             'hopes for an economic revival have given way to diminished '\n",
      "             'expectations.',\n",
      "  'url': 'https://www.nytimes.com/2020/10/10/us/politics/trump-cdc-coronavirus.html'},\n",
      " {'__v': 0,\n",
      "  '_id': '5f81eea3559c6800153357de',\n",
      "  'date': '2020-10-10T17:25:55.030Z',\n",
      "  'headline': 'Pelosi Pans Trump’s $1.8 Trillion Coronavirus Relief Proposal',\n",
      "  'saved': False,\n",
      "  'summary': 'Speaker Nancy Pelosi said the proposal “amounted to one step '\n",
      "             'forward, two steps back.” Follow updates here.',\n",
      "  'url': 'https://www.nytimes.com/2020/10/10/us/politics/trump-cdc-coronavirus.html'},\n",
      " {'__v': 0,\n",
      "  '_id': '5f81eea3559c6800153357e0',\n",
      "  'date': '2020-10-10T17:25:55.030Z',\n",
      "  'headline': 'Trump Told Supporters to ‘Watch’ Voting. His Staff Is More Than '\n",
      "              'Watching.President Trump is eager to campaign as he trails Joe '\n",
      "              'Biden in polls. Here’s what happened this week in the 2020 '\n",
      "              'race.',\n",
      "  'saved': False,\n",
      "  'summary': 'The campaign has aggressive plans for poll monitoring and other '\n",
      "             'tactics that Democrats say are efforts at vote suppression.',\n",
      "  'url': 'https://www.nytimes.com/2020/10/09/us/politics/trump-campaign-poll-watch.html'},\n",
      " {'__v': 0,\n",
      "  '_id': '5f81eea3559c6800153357dc',\n",
      "  'date': '2020-10-10T17:25:55.027Z',\n",
      "  'headline': 'Trump to Host In-Person Event at White House Days After '\n",
      "              'HospitalizationHow Long Should Trump Be in Isolation?With the '\n",
      "              'Election Near, Trump Leans on Barr and Pompeo for a Lift',\n",
      "  'saved': False,\n",
      "  'summary': 'The Trump campaign sent over 2,000 invitations to an event, '\n",
      "             'raising concerns from health experts. Here’s the latest.Some '\n",
      "             'White House staff members who were exposed to the virus have not '\n",
      "             'followed public health guidance to quarantine or '\n",
      "             'self-isolate.Secretary of State Mike Pompeo said he would '\n",
      "             'release Hillary Clinton’s emails. Attorney General William Barr '\n",
      "             'resisted pressure to prosecute Trump foes.',\n",
      "  'url': 'https://www.nytimes.comhttps://www.nytimes.com/live/2020/10/10/us/trump-vs-biden'},\n",
      " {'__v': 0,\n",
      "  '_id': '5f7f9c8718f5fc0015265900',\n",
      "  'date': '2020-10-08T23:11:03.246Z',\n",
      "  'headline': 'The Plot Against Gretchen Whitmer Shows the Danger of Private '\n",
      "              'Militias',\n",
      "  'saved': False,\n",
      "  'summary': 'These groups have no constitutional right to exist.',\n",
      "  'url': 'https://www.nytimes.com/2020/10/08/opinion/militias-gretchen-whitmer.html'},\n",
      " {'__v': 0,\n",
      "  '_id': '5f7f9c8718f5fc0015265902',\n",
      "  'date': '2020-10-08T23:11:03.246Z',\n",
      "  'headline': 'How President Trump Ruined Political Comedy',\n",
      "  'saved': False,\n",
      "  'summary': 'The Trump years created a bumper crop of liberal comedy shows — '\n",
      "             'almost all of which have been canceled. Why is the president so '\n",
      "             'impervious to satire?',\n",
      "  'url': 'https://www.nytimes.com/2020/10/07/magazine/trump-liberal-comedy-tv.html'},\n",
      " {'__v': 0,\n",
      "  '_id': '5f7f9c8718f5fc0015265901',\n",
      "  'date': '2020-10-08T23:11:03.246Z',\n",
      "  'headline': 'The Many Sides of Novak Djokovic, Out There for All to See',\n",
      "  'saved': False,\n",
      "  'summary': 'Djokovic is nothing like Roger Federer and Rafael Nadal. Where '\n",
      "             'they are private and controlled, he is an irreverent, emotional '\n",
      "             'exhibitionist.',\n",
      "  'url': 'https://www.nytimes.com/2020/10/08/sports/tennis/the-many-sides-of-novak-djokovic-out-there-for-all-to-see.html'},\n",
      " {'__v': 0,\n",
      "  '_id': '5f7f9c8718f5fc00152658fc',\n",
      "  'date': '2020-10-08T23:11:03.245Z',\n",
      "  'headline': 'Trump’s Treatment Was Tested With Cells Derived From Fetal '\n",
      "              'TissueWith ‘Cure’ Comment, Trump Again Exaggerates on a '\n",
      "              'Covid-19 TherapyHow the White House Flouted Basic Coronavirus '\n",
      "              'Rules',\n",
      "  'saved': False,\n",
      "  'summary': 'The antibody cocktail that President Trump had called a “cure” '\n",
      "             'was developed using a practice his administration had moved to '\n",
      "             'restrict. Here’s the latest on Covid-19.An experimental antibody '\n",
      "             'cocktail taken by the president has not yet been proven '\n",
      "             'effective against the illness caused by the coronavirus.No '\n",
      "             'masks, no social distancing, no quarantine. See how, months into '\n",
      "             'the pandemic, officials ignored public health guidance as an '\n",
      "             'outbreak spread.',\n",
      "  'url': 'https://www.nytimes.comhttps://www.nytimes.com/live/2020/10/08/world/covid-coronavirus'},\n",
      " {'__v': 0,\n",
      "  '_id': '5f7f9c8718f5fc00152658ff',\n",
      "  'date': '2020-10-08T23:11:03.245Z',\n",
      "  'headline': 'Black LinkedIn Is Thriving. Does LinkedIn Have a Problem With '\n",
      "              'That?',\n",
      "  'saved': False,\n",
      "  'summary': 'The social network’s tone has long reflected corporate America: '\n",
      "             'staid, monolithic, white. Now Black users are speaking up — and '\n",
      "             'saying the site is limiting their voice.',\n",
      "  'url': 'https://www.nytimes.com/2020/10/08/business/black-linkedin.html'},\n",
      " {'__v': 0,\n",
      "  '_id': '5f7f9c8718f5fc00152658fe',\n",
      "  'date': '2020-10-08T23:11:03.245Z',\n",
      "  'headline': 'Jim Dwyer, Pulitzer Prize-Winning Journalist, Dies at 63',\n",
      "  'saved': False,\n",
      "  'summary': 'Working for New York Newsday, The Daily News and The Times, he '\n",
      "             'covered the human stories of New York in dramatic prose and '\n",
      "             'crusaded against injustice.',\n",
      "  'url': 'https://www.nytimes.com/2020/10/08/nyregion/jim-dwyer-dead.html'},\n",
      " {'__v': 0,\n",
      "  '_id': '5f7f9c8718f5fc00152658fd',\n",
      "  'date': '2020-10-08T23:11:03.245Z',\n",
      "  'headline': 'F.B.I. Says Michigan Group Plotted to Kidnap Gov. Gretchen '\n",
      "              'Whitmer',\n",
      "  'saved': False,\n",
      "  'summary': 'Authorities charged 13 men, some of whom were accused of '\n",
      "             'plotting to storm the State Capitol building and planning to '\n",
      "             'start a civil war.',\n",
      "  'url': 'https://www.nytimes.com/2020/10/08/us/gretchen-whitmer-michigan-militia.html'},\n",
      " {'__v': 0,\n",
      "  '_id': '5f7f9c8718f5fc00152658fb',\n",
      "  'date': '2020-10-08T23:11:03.244Z',\n",
      "  'headline': 'Top Trump Fund-Raiser Charged in Foreign Influence '\n",
      "              'CaseConfusion Reigns as Stimulus Talks Continue',\n",
      "  'saved': False,\n",
      "  'summary': 'Federal authorities accused Elliott Broidy of violating lobbying '\n",
      "             'laws in his efforts to resolve an investigation into the '\n",
      "             'embezzlement of a Malaysian investment fund.Mixed messages from '\n",
      "             'the president and his advisers have muddled an already '\n",
      "             'tumultuous negotiation.',\n",
      "  'url': 'https://www.nytimes.com/2020/10/08/us/politics/elliott-broidy-trump-fundraiser.html'}]\n"
     ]
    }
   ],
   "source": [
    "# JSON-ify response\n",
    "response_json = response.json()\n",
    "\n",
    "#response_json = response.json()\n",
    "pprint(response_json)"
   ]
  },
  {
   "cell_type": "code",
   "execution_count": 13,
   "metadata": {
    "scrolled": true
   },
   "outputs": [
    {
     "name": "stdout",
     "output_type": "stream",
     "text": [
      "The first response is: {\n",
      "  \"saved\": false,\n",
      "  \"_id\": \"5f81eea3559c6800153357e5\",\n",
      "  \"headline\": \"James Murdoch, Rebellious Scion\",\n",
      "  \"summary\": \"Increasingly uncomfortable with News Corp, Rupert\\u2019s younger son chose chickens and sheep over Fox. He insists he doesn\\u2019t watch \\u201cSuccession.\\u201d\",\n",
      "  \"url\": \"https://www.nytimes.com/2020/10/10/style/james-murdoch-maureen-dowd.html\",\n",
      "  \"date\": \"2020-10-10T17:25:55.032Z\",\n",
      "  \"__v\": 0\n",
      "}.\n",
      "The last response is: {\n",
      "  \"saved\": false,\n",
      "  \"_id\": \"5f7f9c8718f5fc00152658fb\",\n",
      "  \"headline\": \"Top Trump Fund-Raiser Charged in Foreign Influence CaseConfusion Reigns as Stimulus Talks Continue\",\n",
      "  \"summary\": \"Federal authorities accused Elliott Broidy of violating lobbying laws in his efforts to resolve an investigation into the embezzlement of a Malaysian investment fund.Mixed messages from the president and his advisers have muddled an already tumultuous negotiation.\",\n",
      "  \"url\": \"https://www.nytimes.com/2020/10/08/us/politics/elliott-broidy-trump-fundraiser.html\",\n",
      "  \"date\": \"2020-10-08T23:11:03.244Z\",\n",
      "  \"__v\": 0\n",
      "}.\n"
     ]
    }
   ],
   "source": [
    "# Print first and last articles\n",
    "\n",
    "print(f\"The first response is: {json.dumps(response_json[0], indent=2)}.\")\n",
    "print(f\"The last response is: {json.dumps(response_json[-1], indent=2)}.\")\n",
    "\n",
    "#print(f\"The first response is {json.dumps(response_json[0], indent=2)}.\")\n",
    "#print(f\"The last response is {json.dumps(response_json[-1], indent=2)}.\")"
   ]
  },
  {
   "cell_type": "code",
   "execution_count": 17,
   "metadata": {},
   "outputs": [
    {
     "name": "stdout",
     "output_type": "stream",
     "text": [
      "We received 17 responses.\n"
     ]
    }
   ],
   "source": [
    "\n",
    "#print(len(response_json))\n",
    "\n",
    "print(f\"We received {len(response_json)} responses.\")"
   ]
  },
  {
   "cell_type": "code",
   "execution_count": null,
   "metadata": {},
   "outputs": [],
   "source": []
  }
 ],
 "metadata": {
  "kernelspec": {
   "display_name": "Python 3",
   "language": "python",
   "name": "python3"
  },
  "language_info": {
   "codemirror_mode": {
    "name": "ipython",
    "version": 3
   },
   "file_extension": ".py",
   "mimetype": "text/x-python",
   "name": "python",
   "nbconvert_exporter": "python",
   "pygments_lexer": "ipython3",
   "version": "3.6.10"
  },
  "varInspector": {
   "cols": {
    "lenName": 16,
    "lenType": 16,
    "lenVar": 40
   },
   "kernels_config": {
    "python": {
     "delete_cmd_postfix": "",
     "delete_cmd_prefix": "del ",
     "library": "var_list.py",
     "varRefreshCmd": "print(var_dic_list())"
    },
    "r": {
     "delete_cmd_postfix": ") ",
     "delete_cmd_prefix": "rm(",
     "library": "var_list.r",
     "varRefreshCmd": "cat(var_dic_list()) "
    }
   },
   "types_to_exclude": [
    "module",
    "function",
    "builtin_function_or_method",
    "instance",
    "_Feature"
   ],
   "window_display": false
  }
 },
 "nbformat": 4,
 "nbformat_minor": 2
}
