{
 "cells": [
  {
   "cell_type": "code",
   "execution_count": 6,
   "metadata": {},
   "outputs": [],
   "source": [
    "#Dependencies\n",
    "import requests\n",
    "import json\n",
    "import pandas as pd\n",
    "import numpy as np # Probably wasn't needed here\n",
    "import matplotlib.pyplot as plt"
   ]
  },
  {
   "cell_type": "code",
   "execution_count": 12,
   "metadata": {},
   "outputs": [],
   "source": [
    "# list of tv show titles to query\n",
    "tv_shows = [\"Altered Carbon\", \"Grey's Anatomy\", \"This is Us\", \"The Flash\",\n",
    "            \"Vikings\", \"Shameless\", \"Arrow\", \"Peaky Blinders\", \"Dirk Gently\"]\n",
    "\n",
    "# tv maze show search base url\n",
    "base_url = \"http://api.tvmaze.com/search/shows?q=\"\n",
    "\n",
    "# set up lists to hold response data for name and rating\n",
    "titles = []\n",
    "ratings = []\n",
    "\n",
    "# loop through tv show titles, make requests and parse\n",
    "for show in tv_shows:\n",
    "    target_url = base_url + show\n",
    "    response = requests.get(target_url).json()\n",
    "    titles.append(response[0]['show']['name'])\n",
    "    ratings.append(response[0]['show']['rating']['average'])"
   ]
  },
  {
   "cell_type": "code",
   "execution_count": 14,
   "metadata": {},
   "outputs": [
    {
     "name": "stdout",
     "output_type": "stream",
     "text": [
      "[{'score': 40.3532, 'show': {'id': 3570, 'url': 'http://www.tvmaze.com/shows/3570/dirk-gently', 'name': 'Dirk Gently', 'type': 'Scripted', 'language': 'English', 'genres': ['Drama', 'Comedy', 'Crime'], 'status': 'Ended', 'runtime': 55, 'premiered': '2012-03-05', 'officialSite': 'http://www.bbc.co.uk/programmes/b01d8jmz', 'schedule': {'time': '21:00', 'days': ['Monday']}, 'rating': {'average': 7.3}, 'weight': 65, 'network': {'id': 51, 'name': 'BBC Four', 'country': {'name': 'United Kingdom', 'code': 'GB', 'timezone': 'Europe/London'}}, 'webChannel': None, 'externals': {'tvrage': 27204, 'thetvdb': 213081, 'imdb': 'tt2303367'}, 'image': {'medium': 'http://static.tvmaze.com/uploads/images/medium_portrait/18/46777.jpg', 'original': 'http://static.tvmaze.com/uploads/images/original_untouched/18/46777.jpg'}, 'summary': \"<p>Drama series featuring writer Douglas Adams's holistic detective Dirk Gently, who operates based on the fundamental interconnectedness of all things.</p>\", 'updated': 1583465337, '_links': {'self': {'href': 'http://api.tvmaze.com/shows/3570'}, 'previousepisode': {'href': 'http://api.tvmaze.com/episodes/233137'}}}}, {'score': 5.887689, 'show': {'id': 11405, 'url': 'http://www.tvmaze.com/shows/11405/dirk-gentlys-holistic-detective-agency', 'name': \"Dirk Gently's Holistic Detective Agency\", 'type': 'Scripted', 'language': 'English', 'genres': ['Comedy', 'Science-Fiction', 'Mystery'], 'status': 'Ended', 'runtime': 60, 'premiered': '2016-10-22', 'officialSite': 'http://www.bbcamerica.com/shows/dirk-gentlys-holistic-detective-agency', 'schedule': {'time': '21:00', 'days': ['Saturday']}, 'rating': {'average': 8.6}, 'weight': 75, 'network': {'id': 15, 'name': 'BBC America', 'country': {'name': 'United States', 'code': 'US', 'timezone': 'America/New_York'}}, 'webChannel': None, 'externals': {'tvrage': None, 'thetvdb': 312505, 'imdb': 'tt4047038'}, 'image': {'medium': 'http://static.tvmaze.com/uploads/images/medium_portrait/133/332939.jpg', 'original': 'http://static.tvmaze.com/uploads/images/original_untouched/133/332939.jpg'}, 'summary': \"<p>Corpses—cops—trap—cult—assassins—Pararibulitis—vampires—lottery ticket—kitten—corgi—<i>Everything is connected!</i></p><p>Welcome to the world of <b>Dirk Gently's Holistic Detective Agency</b>; a trippy mystery that thrusts a reluctant sidekick into the bizarre world of an unconventional detective who believes in the interconnectedness of all things. When washed-up rocker Todd Brotzman stumbles upon the murder scene of a millionaire, all hell breaks loose. Eccentric detective, Dirk Gently, wholly believes they're destined to untangle the peculiar events surrounding the mystery together, whether Todd likes it or not! A collection of wild and dangerous characters' further infiltrate and complicate their world, each episode landing them a few random steps closer to uncovering the truth.</p><p>The series is an adaptation of the wildly popular novels by Douglas Adams.</p>\", 'updated': 1573667857, '_links': {'self': {'href': 'http://api.tvmaze.com/shows/11405'}, 'previousepisode': {'href': 'http://api.tvmaze.com/episodes/1359674'}}}}]\n"
     ]
    }
   ],
   "source": [
    "print(response)"
   ]
  },
  {
   "cell_type": "code",
   "execution_count": 13,
   "metadata": {},
   "outputs": [
    {
     "data": {
      "text/plain": [
       "{'score': 40.3532,\n",
       " 'show': {'id': 3570,\n",
       "  'url': 'http://www.tvmaze.com/shows/3570/dirk-gently',\n",
       "  'name': 'Dirk Gently',\n",
       "  'type': 'Scripted',\n",
       "  'language': 'English',\n",
       "  'genres': ['Drama', 'Comedy', 'Crime'],\n",
       "  'status': 'Ended',\n",
       "  'runtime': 55,\n",
       "  'premiered': '2012-03-05',\n",
       "  'officialSite': 'http://www.bbc.co.uk/programmes/b01d8jmz',\n",
       "  'schedule': {'time': '21:00', 'days': ['Monday']},\n",
       "  'rating': {'average': 7.3},\n",
       "  'weight': 65,\n",
       "  'network': {'id': 51,\n",
       "   'name': 'BBC Four',\n",
       "   'country': {'name': 'United Kingdom',\n",
       "    'code': 'GB',\n",
       "    'timezone': 'Europe/London'}},\n",
       "  'webChannel': None,\n",
       "  'externals': {'tvrage': 27204, 'thetvdb': 213081, 'imdb': 'tt2303367'},\n",
       "  'image': {'medium': 'http://static.tvmaze.com/uploads/images/medium_portrait/18/46777.jpg',\n",
       "   'original': 'http://static.tvmaze.com/uploads/images/original_untouched/18/46777.jpg'},\n",
       "  'summary': \"<p>Drama series featuring writer Douglas Adams's holistic detective Dirk Gently, who operates based on the fundamental interconnectedness of all things.</p>\",\n",
       "  'updated': 1583465337,\n",
       "  '_links': {'self': {'href': 'http://api.tvmaze.com/shows/3570'},\n",
       "   'previousepisode': {'href': 'http://api.tvmaze.com/episodes/233137'}}}}"
      ]
     },
     "execution_count": 13,
     "metadata": {},
     "output_type": "execute_result"
    }
   ],
   "source": [
    "response[0]"
   ]
  },
  {
   "cell_type": "code",
   "execution_count": 3,
   "metadata": {},
   "outputs": [
    {
     "data": {
      "text/html": [
       "<div>\n",
       "<style scoped>\n",
       "    .dataframe tbody tr th:only-of-type {\n",
       "        vertical-align: middle;\n",
       "    }\n",
       "\n",
       "    .dataframe tbody tr th {\n",
       "        vertical-align: top;\n",
       "    }\n",
       "\n",
       "    .dataframe thead th {\n",
       "        text-align: right;\n",
       "    }\n",
       "</style>\n",
       "<table border=\"1\" class=\"dataframe\">\n",
       "  <thead>\n",
       "    <tr style=\"text-align: right;\">\n",
       "      <th></th>\n",
       "      <th>title</th>\n",
       "      <th>rating</th>\n",
       "    </tr>\n",
       "  </thead>\n",
       "  <tbody>\n",
       "    <tr>\n",
       "      <th>0</th>\n",
       "      <td>Altered Carbon</td>\n",
       "      <td>8.1</td>\n",
       "    </tr>\n",
       "    <tr>\n",
       "      <th>1</th>\n",
       "      <td>Grey's Anatomy</td>\n",
       "      <td>8.0</td>\n",
       "    </tr>\n",
       "    <tr>\n",
       "      <th>2</th>\n",
       "      <td>This Is Us</td>\n",
       "      <td>8.1</td>\n",
       "    </tr>\n",
       "    <tr>\n",
       "      <th>3</th>\n",
       "      <td>The Flash</td>\n",
       "      <td>7.9</td>\n",
       "    </tr>\n",
       "    <tr>\n",
       "      <th>4</th>\n",
       "      <td>Vikings</td>\n",
       "      <td>8.7</td>\n",
       "    </tr>\n",
       "    <tr>\n",
       "      <th>5</th>\n",
       "      <td>Shameless</td>\n",
       "      <td>8.6</td>\n",
       "    </tr>\n",
       "    <tr>\n",
       "      <th>6</th>\n",
       "      <td>Arrow</td>\n",
       "      <td>7.4</td>\n",
       "    </tr>\n",
       "    <tr>\n",
       "      <th>7</th>\n",
       "      <td>Peaky Blinders</td>\n",
       "      <td>8.8</td>\n",
       "    </tr>\n",
       "    <tr>\n",
       "      <th>8</th>\n",
       "      <td>Dirk Gently</td>\n",
       "      <td>7.3</td>\n",
       "    </tr>\n",
       "  </tbody>\n",
       "</table>\n",
       "</div>"
      ],
      "text/plain": [
       "            title  rating\n",
       "0  Altered Carbon     8.1\n",
       "1  Grey's Anatomy     8.0\n",
       "2      This Is Us     8.1\n",
       "3       The Flash     7.9\n",
       "4         Vikings     8.7\n",
       "5       Shameless     8.6\n",
       "6           Arrow     7.4\n",
       "7  Peaky Blinders     8.8\n",
       "8     Dirk Gently     7.3"
      ]
     },
     "execution_count": 3,
     "metadata": {},
     "output_type": "execute_result"
    }
   ],
   "source": [
    "# create dataframe\n",
    "shows_df = pd.DataFrame({\n",
    "    \"title\": titles,\n",
    "    \"rating\": ratings\n",
    "})\n",
    "\n",
    "shows_df"
   ]
  },
  {
   "cell_type": "code",
   "execution_count": 18,
   "metadata": {},
   "outputs": [
    {
     "data": {
      "text/plain": [
       "<matplotlib.axes._subplots.AxesSubplot at 0x2a8ea140d68>"
      ]
     },
     "execution_count": 18,
     "metadata": {},
     "output_type": "execute_result"
    },
    {
     "data": {
      "image/png": "[encoded data removed]",
      "text/plain": [
       "<Figure size 720x360 with 1 Axes>"
      ]
     },
     "metadata": {
      "needs_background": "light"
     },
     "output_type": "display_data"
    }
   ],
   "source": [
    "# Plotting with pandas \n",
    "shows_df.plot('title', 'rating', kind='bar', figsize=(10,5), rot=45)"
   ]
  },
  {
   "cell_type": "code",
   "execution_count": null,
   "metadata": {},
   "outputs": [],
   "source": []
  }
 ],
 "metadata": {
  "kernelspec": {
   "display_name": "Python 3",
   "language": "python",
   "name": "python3"
  },
  "language_info": {
   "codemirror_mode": {
    "name": "ipython",
    "version": 3
   },
   "file_extension": ".py",
   "mimetype": "text/x-python",
   "name": "python",
   "nbconvert_exporter": "python",
   "pygments_lexer": "ipython3",
   "version": "3.6.10"
  },
  "varInspector": {
   "cols": {
    "lenName": 16,
    "lenType": 16,
    "lenVar": 40
   },
   "kernels_config": {
    "python": {
     "delete_cmd_postfix": "",
     "delete_cmd_prefix": "del ",
     "library": "var_list.py",
     "varRefreshCmd": "print(var_dic_list())"
    },
    "r": {
     "delete_cmd_postfix": ") ",
     "delete_cmd_prefix": "rm(",
     "library": "var_list.r",
     "varRefreshCmd": "cat(var_dic_list()) "
    }
   },
   "types_to_exclude": [
    "module",
    "function",
    "builtin_function_or_method",
    "instance",
    "_Feature"
   ],
   "window_display": false
  }
 },
 "nbformat": 4,
 "nbformat_minor": 2
}
