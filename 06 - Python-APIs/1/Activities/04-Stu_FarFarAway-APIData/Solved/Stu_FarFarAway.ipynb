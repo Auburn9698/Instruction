{
 "cells": [
  {
   "cell_type": "code",
   "execution_count": 1,
   "metadata": {},
   "outputs": [],
   "source": [
    "# Dependencies\n",
    "import requests\n",
    "import json"
   ]
  },
  {
   "cell_type": "code",
   "execution_count": 3,
   "metadata": {},
   "outputs": [],
   "source": [
    "# URL for GET requests to retrieve Star Wars character data\n",
    "base_url = \"https://swapi.dev/api/people/\""
   ]
  },
  {
   "cell_type": "code",
   "execution_count": 4,
   "metadata": {},
   "outputs": [
    {
     "name": "stdout",
     "output_type": "stream",
     "text": [
      "https://swapi.dev/api/people/4\n"
     ]
    }
   ],
   "source": [
    "# Create a url with a specific character id\n",
    "character_id = '4'\n",
    "url = base_url + character_id\n",
    "print(url)"
   ]
  },
  {
   "cell_type": "code",
   "execution_count": 6,
   "metadata": {},
   "outputs": [
    {
     "name": "stdout",
     "output_type": "stream",
     "text": [
      "https://swapi.dev/api/people/4/\n"
     ]
    }
   ],
   "source": [
    "# Perform a get request for this character\n",
    "response = requests.get(url)\n",
    "print(response.url)\n",
    "\n",
    "#response = requests.get(url)\n",
    "#print(response.url)"
   ]
  },
  {
   "cell_type": "code",
   "execution_count": 7,
   "metadata": {},
   "outputs": [
    {
     "name": "stdout",
     "output_type": "stream",
     "text": [
      "{\n",
      "    \"birth_year\": \"41.9BBY\",\n",
      "    \"created\": \"2014-12-10T15:18:20.704000Z\",\n",
      "    \"edited\": \"2014-12-20T21:17:50.313000Z\",\n",
      "    \"eye_color\": \"yellow\",\n",
      "    \"films\": [\n",
      "        \"http://swapi.dev/api/films/1/\",\n",
      "        \"http://swapi.dev/api/films/2/\",\n",
      "        \"http://swapi.dev/api/films/3/\",\n",
      "        \"http://swapi.dev/api/films/6/\"\n",
      "    ],\n",
      "    \"gender\": \"male\",\n",
      "    \"hair_color\": \"none\",\n",
      "    \"height\": \"202\",\n",
      "    \"homeworld\": \"http://swapi.dev/api/planets/1/\",\n",
      "    \"mass\": \"136\",\n",
      "    \"name\": \"Darth Vader\",\n",
      "    \"skin_color\": \"white\",\n",
      "    \"species\": [],\n",
      "    \"starships\": [\n",
      "        \"http://swapi.dev/api/starships/13/\"\n",
      "    ],\n",
      "    \"url\": \"http://swapi.dev/api/people/4/\",\n",
      "    \"vehicles\": []\n",
      "}\n"
     ]
    }
   ],
   "source": [
    "# Storing the JSON response within a variable\n",
    "data = response.json()\n",
    "\n",
    "print(json.dumps(data, indent = 4, sort_keys=True))\n",
    "\n",
    "\n",
    "#data = response.json()\n",
    "# Use json.dumps to print the json\n",
    "#print(json.dumps(data, indent=4, sort_keys=True))"
   ]
  },
  {
   "cell_type": "code",
   "execution_count": 9,
   "metadata": {},
   "outputs": [
    {
     "name": "stdout",
     "output_type": "stream",
     "text": [
      "Darth Vader\n"
     ]
    }
   ],
   "source": [
    "# Print the name of the character retrieved\n",
    "character = data[\"name\"]\n",
    "print(character)\n",
    "#character_name = data[\"name\"]\n",
    "#print(character_name)"
   ]
  },
  {
   "cell_type": "code",
   "execution_count": 10,
   "metadata": {},
   "outputs": [
    {
     "name": "stdout",
     "output_type": "stream",
     "text": [
      "4\n"
     ]
    }
   ],
   "source": [
    "# Print the number of films that they were in (hint: use len())\n",
    "film_number = len(data[\"films\"])\n",
    "print(film_number)\n",
    "\n",
    "#film_number = len(data[\"films\"])\n",
    "#print(film_number)"
   ]
  },
  {
   "cell_type": "code",
   "execution_count": 11,
   "metadata": {},
   "outputs": [
    {
     "data": {
      "text/plain": [
       "{'name': 'TIE Advanced x1',\n",
       " 'model': 'Twin Ion Engine Advanced x1',\n",
       " 'manufacturer': 'Sienar Fleet Systems',\n",
       " 'cost_in_credits': 'unknown',\n",
       " 'length': '9.2',\n",
       " 'max_atmosphering_speed': '1200',\n",
       " 'crew': '1',\n",
       " 'passengers': '0',\n",
       " 'cargo_capacity': '150',\n",
       " 'consumables': '5 days',\n",
       " 'hyperdrive_rating': '1.0',\n",
       " 'MGLT': '105',\n",
       " 'starship_class': 'Starfighter',\n",
       " 'pilots': ['http://swapi.dev/api/people/4/'],\n",
       " 'films': ['http://swapi.dev/api/films/1/'],\n",
       " 'created': '2014-12-12T11:21:32.991000Z',\n",
       " 'edited': '2014-12-20T21:23:49.889000Z',\n",
       " 'url': 'http://swapi.dev/api/starships/13/'}"
      ]
     },
     "execution_count": 11,
     "metadata": {},
     "output_type": "execute_result"
    }
   ],
   "source": [
    "# Request the starships URL found in the starships property of the\n",
    "# previously retreived json, then use the response to figure out what this \n",
    "# character's first starship was\n",
    "first_ship_url = data[\"starships\"][0]\n",
    "ship_response = requests.get(first_ship_url).json()\n",
    "ship_response\n",
    "\n",
    "\n",
    "first_ship_url = data[\"starships\"][0]\n",
    "ship_response = requests.get(first_ship_url).json()\n",
    "ship_response"
   ]
  },
  {
   "cell_type": "code",
   "execution_count": 12,
   "metadata": {},
   "outputs": [
    {
     "name": "stdout",
     "output_type": "stream",
     "text": [
      "Their first ship was: TIE Advanced x1\n"
     ]
    }
   ],
   "source": [
    "# Print the name of the character's first starship\n",
    "first_ship = ship_response[\"name\"]\n",
    "print(f\"Their first ship was: {first_ship}\")\n",
    "\n",
    "#first_ship = ship_response[\"name\"]\n",
    "#print(f\"Their first ship: {first_ship}\")"
   ]
  },
  {
   "cell_type": "code",
   "execution_count": 13,
   "metadata": {},
   "outputs": [
    {
     "data": {
      "text/plain": [
       "['http://swapi.dev/api/films/1/',\n",
       " 'http://swapi.dev/api/films/2/',\n",
       " 'http://swapi.dev/api/films/3/',\n",
       " 'http://swapi.dev/api/films/6/']"
      ]
     },
     "execution_count": 13,
     "metadata": {},
     "output_type": "execute_result"
    }
   ],
   "source": [
    "data['films']"
   ]
  },
  {
   "cell_type": "code",
   "execution_count": 15,
   "metadata": {},
   "outputs": [
    {
     "name": "stdout",
     "output_type": "stream",
     "text": [
      "Darth Vader was in: \n",
      "['A New Hope', 'The Empire Strikes Back', 'Return of the Jedi', 'Revenge of the Sith']\n"
     ]
    }
   ],
   "source": [
    "# BONUS    * Collect and print out all of the films a character appeared in.\n",
    "\n",
    "films = []\n",
    "for film in data['films']:\n",
    "    our_film = requests.get(film).json()\n",
    "    film_title = our_film[\"title\"]\n",
    "    films.append(film_title)\n",
    "\n",
    "print(f\"{character} was in: \")\n",
    "print(films)\n",
    "\n",
    "\n",
    "#films = []\n",
    "#for film in data['films']:\n",
    "#    our_film = requests.get(film).json()\n",
    "#    film_title = our_film[\"title\"]\n",
    "#    films.append(film_title)\n",
    "#    \n",
    "#print(f\"{character_name} was in:\")\n",
    "#print(films)"
   ]
  },
  {
   "cell_type": "code",
   "execution_count": 22,
   "metadata": {},
   "outputs": [
    {
     "data": {
      "text/plain": [
       "{'title': 'Revenge of the Sith',\n",
       " 'episode_id': 3,\n",
       " 'opening_crawl': 'War! The Republic is crumbling\\r\\nunder attacks by the ruthless\\r\\nSith Lord, Count Dooku.\\r\\nThere are heroes on both sides.\\r\\nEvil is everywhere.\\r\\n\\r\\nIn a stunning move, the\\r\\nfiendish droid leader, General\\r\\nGrievous, has swept into the\\r\\nRepublic capital and kidnapped\\r\\nChancellor Palpatine, leader of\\r\\nthe Galactic Senate.\\r\\n\\r\\nAs the Separatist Droid Army\\r\\nattempts to flee the besieged\\r\\ncapital with their valuable\\r\\nhostage, two Jedi Knights lead a\\r\\ndesperate mission to rescue the\\r\\ncaptive Chancellor....',\n",
       " 'director': 'George Lucas',\n",
       " 'producer': 'Rick McCallum',\n",
       " 'release_date': '2005-05-19',\n",
       " 'characters': ['http://swapi.dev/api/people/1/',\n",
       "  'http://swapi.dev/api/people/2/',\n",
       "  'http://swapi.dev/api/people/3/',\n",
       "  'http://swapi.dev/api/people/4/',\n",
       "  'http://swapi.dev/api/people/5/',\n",
       "  'http://swapi.dev/api/people/6/',\n",
       "  'http://swapi.dev/api/people/7/',\n",
       "  'http://swapi.dev/api/people/10/',\n",
       "  'http://swapi.dev/api/people/11/',\n",
       "  'http://swapi.dev/api/people/12/',\n",
       "  'http://swapi.dev/api/people/13/',\n",
       "  'http://swapi.dev/api/people/20/',\n",
       "  'http://swapi.dev/api/people/21/',\n",
       "  'http://swapi.dev/api/people/33/',\n",
       "  'http://swapi.dev/api/people/35/',\n",
       "  'http://swapi.dev/api/people/46/',\n",
       "  'http://swapi.dev/api/people/51/',\n",
       "  'http://swapi.dev/api/people/52/',\n",
       "  'http://swapi.dev/api/people/53/',\n",
       "  'http://swapi.dev/api/people/54/',\n",
       "  'http://swapi.dev/api/people/55/',\n",
       "  'http://swapi.dev/api/people/56/',\n",
       "  'http://swapi.dev/api/people/58/',\n",
       "  'http://swapi.dev/api/people/63/',\n",
       "  'http://swapi.dev/api/people/64/',\n",
       "  'http://swapi.dev/api/people/67/',\n",
       "  'http://swapi.dev/api/people/68/',\n",
       "  'http://swapi.dev/api/people/75/',\n",
       "  'http://swapi.dev/api/people/78/',\n",
       "  'http://swapi.dev/api/people/79/',\n",
       "  'http://swapi.dev/api/people/80/',\n",
       "  'http://swapi.dev/api/people/81/',\n",
       "  'http://swapi.dev/api/people/82/',\n",
       "  'http://swapi.dev/api/people/83/'],\n",
       " 'planets': ['http://swapi.dev/api/planets/1/',\n",
       "  'http://swapi.dev/api/planets/2/',\n",
       "  'http://swapi.dev/api/planets/5/',\n",
       "  'http://swapi.dev/api/planets/8/',\n",
       "  'http://swapi.dev/api/planets/9/',\n",
       "  'http://swapi.dev/api/planets/12/',\n",
       "  'http://swapi.dev/api/planets/13/',\n",
       "  'http://swapi.dev/api/planets/14/',\n",
       "  'http://swapi.dev/api/planets/15/',\n",
       "  'http://swapi.dev/api/planets/16/',\n",
       "  'http://swapi.dev/api/planets/17/',\n",
       "  'http://swapi.dev/api/planets/18/',\n",
       "  'http://swapi.dev/api/planets/19/'],\n",
       " 'starships': ['http://swapi.dev/api/starships/2/',\n",
       "  'http://swapi.dev/api/starships/32/',\n",
       "  'http://swapi.dev/api/starships/48/',\n",
       "  'http://swapi.dev/api/starships/59/',\n",
       "  'http://swapi.dev/api/starships/61/',\n",
       "  'http://swapi.dev/api/starships/63/',\n",
       "  'http://swapi.dev/api/starships/64/',\n",
       "  'http://swapi.dev/api/starships/65/',\n",
       "  'http://swapi.dev/api/starships/66/',\n",
       "  'http://swapi.dev/api/starships/68/',\n",
       "  'http://swapi.dev/api/starships/74/',\n",
       "  'http://swapi.dev/api/starships/75/'],\n",
       " 'vehicles': ['http://swapi.dev/api/vehicles/33/',\n",
       "  'http://swapi.dev/api/vehicles/50/',\n",
       "  'http://swapi.dev/api/vehicles/53/',\n",
       "  'http://swapi.dev/api/vehicles/56/',\n",
       "  'http://swapi.dev/api/vehicles/60/',\n",
       "  'http://swapi.dev/api/vehicles/62/',\n",
       "  'http://swapi.dev/api/vehicles/67/',\n",
       "  'http://swapi.dev/api/vehicles/69/',\n",
       "  'http://swapi.dev/api/vehicles/70/',\n",
       "  'http://swapi.dev/api/vehicles/71/',\n",
       "  'http://swapi.dev/api/vehicles/72/',\n",
       "  'http://swapi.dev/api/vehicles/73/',\n",
       "  'http://swapi.dev/api/vehicles/76/'],\n",
       " 'species': ['http://swapi.dev/api/species/1/',\n",
       "  'http://swapi.dev/api/species/2/',\n",
       "  'http://swapi.dev/api/species/3/',\n",
       "  'http://swapi.dev/api/species/6/',\n",
       "  'http://swapi.dev/api/species/15/',\n",
       "  'http://swapi.dev/api/species/19/',\n",
       "  'http://swapi.dev/api/species/20/',\n",
       "  'http://swapi.dev/api/species/23/',\n",
       "  'http://swapi.dev/api/species/24/',\n",
       "  'http://swapi.dev/api/species/25/',\n",
       "  'http://swapi.dev/api/species/26/',\n",
       "  'http://swapi.dev/api/species/27/',\n",
       "  'http://swapi.dev/api/species/28/',\n",
       "  'http://swapi.dev/api/species/29/',\n",
       "  'http://swapi.dev/api/species/30/',\n",
       "  'http://swapi.dev/api/species/33/',\n",
       "  'http://swapi.dev/api/species/34/',\n",
       "  'http://swapi.dev/api/species/35/',\n",
       "  'http://swapi.dev/api/species/36/',\n",
       "  'http://swapi.dev/api/species/37/'],\n",
       " 'created': '2014-12-20T18:49:38.403000Z',\n",
       " 'edited': '2014-12-20T20:47:52.073000Z',\n",
       " 'url': 'http://swapi.dev/api/films/6/'}"
      ]
     },
     "execution_count": 22,
     "metadata": {},
     "output_type": "execute_result"
    }
   ],
   "source": [
    "our_film"
   ]
  },
  {
   "cell_type": "code",
   "execution_count": null,
   "metadata": {},
   "outputs": [],
   "source": []
  }
 ],
 "metadata": {
  "kernelspec": {
   "display_name": "Python 3",
   "language": "python",
   "name": "python3"
  },
  "language_info": {
   "codemirror_mode": {
    "name": "ipython",
    "version": 3
   },
   "file_extension": ".py",
   "mimetype": "text/x-python",
   "name": "python",
   "nbconvert_exporter": "python",
   "pygments_lexer": "ipython3",
   "version": "3.6.10"
  },
  "varInspector": {
   "cols": {
    "lenName": 16,
    "lenType": 16,
    "lenVar": 40
   },
   "kernels_config": {
    "python": {
     "delete_cmd_postfix": "",
     "delete_cmd_prefix": "del ",
     "library": "var_list.py",
     "varRefreshCmd": "print(var_dic_list())"
    },
    "r": {
     "delete_cmd_postfix": ") ",
     "delete_cmd_prefix": "rm(",
     "library": "var_list.r",
     "varRefreshCmd": "cat(var_dic_list()) "
    }
   },
   "types_to_exclude": [
    "module",
    "function",
    "builtin_function_or_method",
    "instance",
    "_Feature"
   ],
   "window_display": false
  }
 },
 "nbformat": 4,
 "nbformat_minor": 2
}
