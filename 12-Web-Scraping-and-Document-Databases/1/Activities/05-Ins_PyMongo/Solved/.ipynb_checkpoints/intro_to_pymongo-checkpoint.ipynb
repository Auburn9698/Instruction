{
 "cells": [
  {
   "cell_type": "code",
   "execution_count": 1,
   "metadata": {},
   "outputs": [],
   "source": [
    "# Module used to connect Python with MongoDb\n",
    "import pymongo"
   ]
  },
  {
   "cell_type": "code",
   "execution_count": 2,
   "metadata": {},
   "outputs": [],
   "source": [
    "# The default port used by MongoDB is 27017\n",
    "# https://docs.mongodb.com/manual/reference/default-mongodb-port/\n",
    "conn = 'mongodb://localhost:27017'\n",
    "client = pymongo.MongoClient(conn)\n",
    "\n",
    "# Define the 'classDB' database in Mongo\n",
    "db = client.classDB"
   ]
  },
  {
   "cell_type": "code",
   "execution_count": 3,
   "metadata": {},
   "outputs": [
    {
     "name": "stdout",
     "output_type": "stream",
     "text": [
      "{'_id': ObjectId('5fd22b75ac9ea2b8075c2aa5'), 'name': 'Mariah', 'age': 23.0, 'favorite_python_library': 'Seaborn', 'hobbies': ['Coding', 'Reading', 'Running']}\n",
      "{'_id': ObjectId('5fd22b75ac9ea2b8075c2aa6'), 'name': 'Ricky', 'age': 34.0, 'favorite_python_library': 'Matplotlib', 'hobbies': ['Not Coding', 'Not Reading', 'Not Running', 'Guitar']}\n"
     ]
    }
   ],
   "source": [
    "# Query all students\n",
    "# Here, db.students refers to the collection 'classroom '\n",
    "classroom = db.classroom.find()\n",
    "\n",
    "# Iterate through each student in the collection\n",
    "for student in classroom:\n",
    "    print(student)"
   ]
  },
  {
   "cell_type": "code",
   "execution_count": 4,
   "metadata": {},
   "outputs": [
    {
     "name": "stdout",
     "output_type": "stream",
     "text": [
      "{'_id': ObjectId('5fd22b75ac9ea2b8075c2aa5'), 'name': 'Mariah', 'age': 23.0, 'favorite_python_library': 'Seaborn', 'hobbies': ['Coding', 'Reading', 'Running']}\n",
      "{'_id': ObjectId('5fd22b75ac9ea2b8075c2aa6'), 'name': 'Ricky', 'age': 34.0, 'favorite_python_library': 'Matplotlib', 'hobbies': ['Not Coding', 'Not Reading', 'Not Running', 'Guitar']}\n",
      "{'_id': ObjectId('5fd24cae3b9424e46288a02c'), 'name': 'Ahmed', 'row': 3, 'favorite_python_library': 'Matplotlib', 'hobbies': ['Running', 'Stargazing', 'Reading']}\n"
     ]
    }
   ],
   "source": [
    "# Insert a document into the 'students' collection\n",
    "db.classroom.insert_one(\n",
    "    {\n",
    "        'name': 'Ahmed',\n",
    "        'row': 3,\n",
    "        'favorite_python_library': 'Matplotlib',\n",
    "        'hobbies': ['Running', 'Stargazing', 'Reading']\n",
    "    }\n",
    ")\n",
    "\n",
    "# query the classroom collection\n",
    "classroom = db.classroom.find()\n",
    "\n",
    "# see change in collection\n",
    "for student in classroom:\n",
    "    print(student)"
   ]
  },
  {
   "cell_type": "code",
   "execution_count": 5,
   "metadata": {},
   "outputs": [
    {
     "name": "stdout",
     "output_type": "stream",
     "text": [
      "{'_id': ObjectId('5fd22b75ac9ea2b8075c2aa5'), 'name': 'Mariah', 'age': 23.0, 'favorite_python_library': 'Seaborn', 'hobbies': ['Coding', 'Reading', 'Running']}\n",
      "{'_id': ObjectId('5fd22b75ac9ea2b8075c2aa6'), 'name': 'Ricky', 'age': 34.0, 'favorite_python_library': 'Matplotlib', 'hobbies': ['Not Coding', 'Not Reading', 'Not Running', 'Guitar']}\n",
      "{'_id': ObjectId('5fd24cae3b9424e46288a02c'), 'name': 'Ahmed', 'row': 4, 'favorite_python_library': 'pandas', 'hobbies': ['Running', 'Stargazing', 'Reading']}\n"
     ]
    }
   ],
   "source": [
    "# Update a document\n",
    "\n",
    "# Tom added the , 'favorite_python_library': 'pandas' to show updating two different things:\n",
    "\n",
    "db.classroom.update_one(\n",
    "    {'name': 'Ahmed'},\n",
    "    {'$set':\n",
    "        {'row': 4, 'favorite_python_library': 'pandas'}\n",
    "     }\n",
    ")\n",
    "\n",
    "# query the classroom collection\n",
    "classroom = db.classroom.find()\n",
    "\n",
    "# see change in collection\n",
    "for student in classroom:\n",
    "    print(student)"
   ]
  },
  {
   "cell_type": "code",
   "execution_count": 7,
   "metadata": {},
   "outputs": [
    {
     "name": "stdout",
     "output_type": "stream",
     "text": [
      "{'_id': ObjectId('5fd22b75ac9ea2b8075c2aa5'), 'name': 'Mariah', 'age': 23.0, 'favorite_python_library': 'Seaborn', 'hobbies': ['Coding', 'Reading', 'Running']}\n",
      "{'_id': ObjectId('5fd22b75ac9ea2b8075c2aa6'), 'name': 'Ricky', 'age': 34.0, 'favorite_python_library': 'Matplotlib', 'hobbies': ['Not Coding', 'Not Reading', 'Not Running', 'Guitar']}\n",
      "{'_id': ObjectId('5fd24cae3b9424e46288a02c'), 'name': 'Ahmed', 'row': 4, 'favorite_python_library': 'pandas', 'hobbies': ['Running', 'Stargazing', 'Reading', 'Listening to country music']}\n",
      "{'_id': ObjectId('5fd24d3cac9ea2b8075c2aab'), 'name': 'Srikanth', 'age': 28.0, 'favorite_python_library': 'Pandas', 'hobbies': ['Netflix', 'Guitar', 'Traveling']}\n"
     ]
    }
   ],
   "source": [
    "classroom = db.classroom.find()\n",
    "\n",
    "for student in classroom:\n",
    "    print(student)"
   ]
  },
  {
   "cell_type": "code",
   "execution_count": 8,
   "metadata": {},
   "outputs": [
    {
     "name": "stdout",
     "output_type": "stream",
     "text": [
      "{'_id': ObjectId('5fd22b75ac9ea2b8075c2aa5'), 'name': 'Mariah', 'age': 23.0, 'favorite_python_library': 'Seaborn', 'hobbies': ['Coding', 'Reading', 'Running']}\n",
      "{'_id': ObjectId('5fd22b75ac9ea2b8075c2aa6'), 'name': 'Ricky', 'age': 34.0, 'favorite_python_library': 'Matplotlib', 'hobbies': ['Not Coding', 'Not Reading', 'Not Running', 'Guitar']}\n",
      "{'_id': ObjectId('5fd24cae3b9424e46288a02c'), 'name': 'Ahmed', 'row': 4, 'favorite_python_library': 'pandas', 'hobbies': ['Running', 'Stargazing', 'Reading', 'Listening to country music', 'Listening to country music']}\n",
      "{'_id': ObjectId('5fd24d3cac9ea2b8075c2aab'), 'name': 'Srikanth', 'age': 28.0, 'favorite_python_library': 'Pandas', 'hobbies': ['Netflix', 'Guitar', 'Traveling']}\n"
     ]
    }
   ],
   "source": [
    "# Add an item to a document array\n",
    "\n",
    "# (To push, (like append) to something, it has to be an array, like 'hobbies': ['Running', 'Stargazing', 'Reading'] \n",
    "#  or it will break.)\n",
    "\n",
    "db.classroom.update_one(\n",
    "    {'name': 'Ahmed'},\n",
    "    {'$push':\n",
    "        {'hobbies': 'Listening to country music'}\n",
    "     }\n",
    ")\n",
    "\n",
    "# query the classroom collection\n",
    "classroom = db.classroom.find()\n",
    "\n",
    "# see change in collection\n",
    "for student in classroom:\n",
    "    print(student)"
   ]
  },
  {
   "cell_type": "code",
   "execution_count": 10,
   "metadata": {},
   "outputs": [
    {
     "name": "stdout",
     "output_type": "stream",
     "text": [
      "{'_id': ObjectId('5fb71d8db590fe416dfdc46f'), 'name': 'Mariah', 'age': 23.0, 'favorite_python_library': 'Seaborn', 'hobbies': ['Coding', 'Reading', 'Running']}\n",
      "{'_id': ObjectId('5fb71dc0b590fe416dfdc470'), 'name': 'Ricky', 'age': 34.0, 'favorite_python_library': 'Matplotlib', 'hobbies': ['Not Coding', 'Not Reading', 'Not Running', 'Guitar']}\n",
      "{'_id': ObjectId('5fb71e31b590fe416dfdc471'), 'name': 'Srikanth', 'age': 28.0, 'favorite_python_library': 'Pandas', 'hobbies': ['Netflix', 'Guitar', 'Traveling']}\n",
      "{'_id': ObjectId('5fbeac545566ecaf825a3eab'), 'name': 'Ahmed', 'favorite_python_library': 'pandas', 'hobbies': ['Running', 'Stargazing', 'Reading', 'Listening to country music']}\n"
     ]
    }
   ],
   "source": [
    "# Delete a field from a document\n",
    "\n",
    "# Class Note: The \"\" is just a placeholder, for blank:\n",
    "\n",
    "db.classroom.update_one({'name': 'Ahmed'},\n",
    "                        {'$unset':\n",
    "                         {'row': \"\"}\n",
    "                         }\n",
    "                        )\n",
    "\n",
    "# query the classroom collection\n",
    "classroom = db.classroom.find()\n",
    "\n",
    "# see change in collection\n",
    "for student in classroom:\n",
    "    print(student)"
   ]
  },
  {
   "cell_type": "code",
   "execution_count": 10,
   "metadata": {},
   "outputs": [
    {
     "name": "stdout",
     "output_type": "stream",
     "text": [
      "{'_id': ObjectId('5fb71d8db590fe416dfdc46f'), 'name': 'Mariah', 'age': 23.0, 'favorite_python_library': 'Seaborn', 'hobbies': ['Coding', 'Reading', 'Running']}\n",
      "{'_id': ObjectId('5fb71dc0b590fe416dfdc470'), 'name': 'Ricky', 'age': 34.0, 'favorite_python_library': 'Matplotlib', 'hobbies': ['Not Coding', 'Not Reading', 'Not Running', 'Guitar']}\n",
      "{'_id': ObjectId('5fb71e31b590fe416dfdc471'), 'name': 'Srikanth', 'age': 28.0, 'favorite_python_library': 'Pandas', 'hobbies': ['Netflix', 'Guitar', 'Traveling']}\n"
     ]
    }
   ],
   "source": [
    "# Delete a document from a collection\n",
    "db.classroom.delete_one(\n",
    "    {'name': 'Ahmed'}\n",
    ")\n",
    "\n",
    "# query the classroom collection\n",
    "classroom = db.classroom.find()\n",
    "\n",
    "# see change in collection\n",
    "for student in classroom:\n",
    "    print(student)"
   ]
  },
  {
   "cell_type": "code",
   "execution_count": null,
   "metadata": {},
   "outputs": [],
   "source": []
  }
 ],
 "metadata": {
  "kernelspec": {
   "display_name": "Python 3",
   "language": "python",
   "name": "python3"
  },
  "language_info": {
   "codemirror_mode": {
    "name": "ipython",
    "version": 3
   },
   "file_extension": ".py",
   "mimetype": "text/x-python",
   "name": "python",
   "nbconvert_exporter": "python",
   "pygments_lexer": "ipython3",
   "version": "3.6.10"
  }
 },
 "nbformat": 4,
 "nbformat_minor": 2
}
