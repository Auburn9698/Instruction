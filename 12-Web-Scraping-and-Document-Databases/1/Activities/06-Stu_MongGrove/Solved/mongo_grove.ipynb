{
 "cells": [
  {
   "cell_type": "code",
   "execution_count": 1,
   "metadata": {},
   "outputs": [],
   "source": [
    "# Dependencies\n",
    "import pymongo\n",
    "import datetime"
   ]
  },
  {
   "cell_type": "code",
   "execution_count": 2,
   "metadata": {},
   "outputs": [],
   "source": [
    "# The default port used by MongoDB is 27017\n",
    "# https://docs.mongodb.com/manual/reference/default-mongodb-port/\n",
    "conn = 'mongodb://localhost:27017'\n",
    "client = pymongo.MongoClient(conn)\n",
    "\n",
    "# Declare the database\n",
    "db = client.fruits_db\n",
    "\n",
    "# Declare the collection\n",
    "fruits = db.fruits"
   ]
  },
  {
   "cell_type": "code",
   "execution_count": 5,
   "metadata": {},
   "outputs": [
    {
     "data": {
      "text/plain": [
       "<pymongo.results.InsertOneResult at 0x148f8a59d08>"
      ]
     },
     "execution_count": 5,
     "metadata": {},
     "output_type": "execute_result"
    }
   ],
   "source": [
    "# Part I\n",
    "# A dictionary that represents the document to be inserted\n",
    "post = {\n",
    "    'vendor': 'fruit star',\n",
    "    'fruit': 'raspberry',\n",
    "    'quantity': 21,\n",
    "    'ripeness': 2,\n",
    "    'date': datetime.datetime.utcnow()\n",
    "}\n",
    "# Insert the document into the database\n",
    "# The database and collection, if they don't already exist, will be created at this point.\n",
    "fruits.insert_one(post)"
   ]
  },
  {
   "cell_type": "code",
   "execution_count": 6,
   "metadata": {},
   "outputs": [
    {
     "data": {
      "text/plain": [
       "datetime.datetime(2020, 11, 21, 15, 33, 40, 265324)"
      ]
     },
     "execution_count": 6,
     "metadata": {},
     "output_type": "execute_result"
    }
   ],
   "source": [
    "datetime.datetime.utcnow()"
   ]
  },
  {
   "cell_type": "code",
   "execution_count": 7,
   "metadata": {},
   "outputs": [
    {
     "name": "stdout",
     "output_type": "stream",
     "text": [
      "Vendor name: Tom's Fruit Market\n",
      "Type of fruit: Pineapple\n",
      "Number of boxes received: 3\n",
      "Ripeness of fruit (1 is unripe; 2 is ripe, 3 is over-ripe: 2\n"
     ]
    },
    {
     "data": {
      "text/plain": [
       "<pymongo.results.InsertOneResult at 0x148f8a59788>"
      ]
     },
     "execution_count": 7,
     "metadata": {},
     "output_type": "execute_result"
    }
   ],
   "source": [
    "# Part II\n",
    "# Ask the user for input. Store information into variables.\n",
    "vendor = input('Vendor name: ')\n",
    "fruit_type = input('Type of fruit: ')\n",
    "quantity = input('Number of boxes received: ')\n",
    "ripeness = input('Ripeness of fruit (1 is unripe; 2 is ripe, 3 is over-ripe: ')\n",
    "\n",
    "# A dictionary that will become a MongoDB document\n",
    "post = {\n",
    "    'vendor': vendor,\n",
    "    'fruit': fruit_type,\n",
    "    'quantity': quantity,\n",
    "    'ripeness': ripeness,\n",
    "    'date': datetime.datetime.utcnow()\n",
    "}\n",
    "\n",
    "# Insert document into collection\n",
    "fruits.insert_one(post)"
   ]
  },
  {
   "cell_type": "code",
   "execution_count": 8,
   "metadata": {},
   "outputs": [
    {
     "name": "stdout",
     "output_type": "stream",
     "text": [
      "{'_id': ObjectId('5fb932a99a45c6e7a4c922b1'), 'vendor': 'fruit star', 'fruit': 'raspberry', 'quantity': 21, 'ripeness': 2, 'date': datetime.datetime(2020, 11, 21, 15, 30, 49, 802000)}\n",
      "{'_id': ObjectId('5fb933539a45c6e7a4c922b2'), 'vendor': 'fruit star', 'fruit': 'raspberry', 'quantity': 21, 'ripeness': 2, 'date': datetime.datetime(2020, 11, 21, 15, 33, 39, 11000)}\n",
      "{'_id': ObjectId('5fb9339d9a45c6e7a4c922b3'), 'vendor': \"Tom's Fruit Market\", 'fruit': 'Pineapple', 'quantity': '3', 'ripeness': '2', 'date': datetime.datetime(2020, 11, 21, 15, 34, 53, 872000)}\n"
     ]
    }
   ],
   "source": [
    "# Verify results:\n",
    "results = fruits.find()\n",
    "for result in results:\n",
    "    print(result)"
   ]
  },
  {
   "cell_type": "code",
   "execution_count": null,
   "metadata": {},
   "outputs": [],
   "source": []
  }
 ],
 "metadata": {
  "kernelspec": {
   "display_name": "Python [conda env:PyData] *",
   "language": "python",
   "name": "conda-env-PyData-py"
  },
  "language_info": {
   "codemirror_mode": {
    "name": "ipython",
    "version": 3
   },
   "file_extension": ".py",
   "mimetype": "text/x-python",
   "name": "python",
   "nbconvert_exporter": "python",
   "pygments_lexer": "ipython3",
   "version": "3.6.10"
  }
 },
 "nbformat": 4,
 "nbformat_minor": 2
}
