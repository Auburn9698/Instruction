{
 "cells": [
  {
   "cell_type": "code",
   "execution_count": 1,
   "metadata": {},
   "outputs": [],
   "source": [
    "# Dependencies\n",
    "from bs4 import BeautifulSoup\n",
    "import requests\n",
    "import pymongo"
   ]
  },
  {
   "cell_type": "code",
   "execution_count": 2,
   "metadata": {},
   "outputs": [],
   "source": [
    "# Initialize PyMongo to work with MongoDBs\n",
    "conn = 'mongodb://localhost:27017'\n",
    "client = pymongo.MongoClient(conn)"
   ]
  },
  {
   "cell_type": "code",
   "execution_count": 3,
   "metadata": {},
   "outputs": [],
   "source": [
    "# Define database and collection\n",
    "db = client.nhl_db\n",
    "collection = db.articles"
   ]
  },
  {
   "cell_type": "code",
   "execution_count": 4,
   "metadata": {},
   "outputs": [],
   "source": [
    "# URL of page to be scraped\n",
    "url = 'https://www.nhl.com/news'\n",
    "\n",
    "# Retrieve page with the requests module\n",
    "response = requests.get(url)\n",
    "# Create BeautifulSoup object; parse with 'html.parser'\n",
    "soup = BeautifulSoup(response.text, 'html.parser')"
   ]
  },
  {
   "cell_type": "code",
   "execution_count": 5,
   "metadata": {},
   "outputs": [],
   "source": [
    "results = soup.find_all('div', class_='article-item__top')"
   ]
  },
  {
   "cell_type": "code",
   "execution_count": 6,
   "metadata": {},
   "outputs": [
    {
     "data": {
      "text/plain": [
       "<div class=\"article-item__top\">\n",
       "<span class=\"article-item__primary-tag\" data-type=\"program\" data-value=\"31in31\">31 in 31</span>\n",
       "<span class=\"article-item__game-data\"></span>\n",
       "<h1 class=\"article-item__headline\">Inside look at Detroit Red Wings</h1>\n",
       "<h2 class=\"article-item__subheader\">Hope roster shuffle leads to improvement while top prospects develop</h2>\n",
       "<span class=\"article-item__contributor\">\n",
       "                                        by\n",
       "                                            Nicholas J. Cotsonika\n",
       "                                            <a href=\"https://www.twitter.com/@cotsonika\" target=\"_blank\">@cotsonika</a>\n",
       "                                            \n",
       "                                        / NHL.com Columnist\n",
       "                                </span>\n",
       "<div class=\"article-item__meta\">\n",
       "<i class=\"nhl-icon nhl-icon--clock-outline\"></i>\n",
       "<span class=\"article-item__date\" data-date=\"2020-11-26T00:00:00-0500\"></span>\n",
       "<span class=\"article-item__share\"></span>\n",
       "<div class=\"social-share__wrapper\" data-share-section=\"news\" data-share-url=\"/news/2020-21-detroit-red-wings-season-preview/c-319675408\" data-shareable=\"true\" data-title=\"Inside look at Detroit Red Wings\" data-twitter-handle=\"NHLdotcom\"></div>\n",
       "</div>\n",
       "</div>"
      ]
     },
     "execution_count": 6,
     "metadata": {},
     "output_type": "execute_result"
    }
   ],
   "source": [
    "results[0]"
   ]
  },
  {
   "cell_type": "code",
   "execution_count": 13,
   "metadata": {},
   "outputs": [
    {
     "data": {
      "text/plain": [
       "30"
      ]
     },
     "execution_count": 13,
     "metadata": {},
     "output_type": "execute_result"
    }
   ],
   "source": [
    "len(results)"
   ]
  },
  {
   "cell_type": "code",
   "execution_count": 14,
   "metadata": {},
   "outputs": [
    {
     "name": "stdout",
     "output_type": "stream",
     "text": [
      "-----------------\n",
      "Inside look at Carolina Hurricanes\n",
      "Relying on maturing core, recent playoff exprience to make deep run this season\n",
      "2020-11-21\n",
      "-----------------\n",
      "Top goalie in NHL in 3 seasons debated\n",
      "Shesterkin, Vasilevskiy, Hellebuyck, Hart among favorites of NHL.com writers\n",
      "2020-11-21\n",
      "-----------------\n",
      "Three questions facing Carolina Hurricanes\n",
      "Mrazek, Reimer potential in goal, Hamilton's expiring contract among concerns\n",
      "2020-11-21\n",
      "-----------------\n",
      "Top prospects for Carolina Hurricanes\n",
      "Bean could make opening roster; Bokk to play in North America\n",
      "2020-11-21\n",
      "-----------------\n",
      "Thornton will spark Maple Leafs, GM of Switzerland team says: report\n",
      "41-year-old center leads NHL active players in points, assists\n",
      "2020-11-20\n",
      "-----------------\n",
      "Reverse Retro alternate jerseys for all 31 teams unveiled by NHL, adidas\n",
      "Will be worn multiple times this season; available for purchase starting Dec. 1\n",
      "2020-11-16\n",
      "-----------------\n",
      "Schinkel, member of expansion Penguins, dies at 87\n",
      "Played 12 seasons in NHL, coached Pittsburgh to two postseason appearances\n",
      "2020-11-21\n",
      "-----------------\n",
      "Khudobin expected to be ready for training camp for Stars after sugery\n",
      "Goalie had nerve issue in arm; Bishop, Seguin recovering\n",
      "2020-11-20\n",
      "-----------------\n",
      "Carolina Hurricanes key statistics\n",
      "Hamilton expected to drive puck possession; Mrazek should boost save percentage at 5-on-5\n",
      "2020-11-21\n",
      "-----------------\n",
      "Askarov named to Russia World Junior Championship selection camp\n",
      "Goalie, No. 11 pick by Predators, one of four first-rounders from 2020 Draft on roster\n",
      "2020-11-20\n",
      "-----------------\n",
      "NHL Free Agent Tracker\n",
      "Complete list of signings by team, available players\n",
      "2020-11-13\n",
      "-----------------\n",
      "Fantasy goalie tandem rankings for 2020-21\n",
      "NHL.com lists best duos at position to consider handcuffing in standard draft\n",
      "2020-11-19\n",
      "-----------------\n",
      "Lightning trainer, Star Wars fanatic enjoys Stanley Cup with Baby Yoda\n",
      "Mike Poirier wore Darth Vader helmet for this day at home with trophy\n",
      "2020-11-20\n",
      "-----------------\n",
      "Byfield won't join Kings until after playing for Canada at World Juniors\n",
      "Forward would stay at tournament scheduled through Jan. 5\n",
      "2020-11-19\n",
      "-----------------\n",
      "Thomas making adjustments on, off ice as pro career starts in Germany\n",
      "Kings forward prospect using opportunity with Eisbaren Berlin to get ready for NHL\n",
      "2020-11-20\n",
      "-----------------\n",
      "2020-21 NHL Trade Tracker\n",
      "Official deals since Oct. 1, 2020\n",
      "2020-10-12\n",
      "-----------------\n",
      "Carolina Hurricanes fantasy preview for 2020-21\n",
      "Aho anchors potent first line; Teravainen benefits from exposure to Svechnikov\n",
      "2020-11-16\n",
      "-----------------\n",
      "Tkachuks pay visit to Blues Warrior Hockey program to support veterans\n",
      "Keith, Matthew and Brady stop by for skate, pictures and autographs\n",
      "2020-11-20\n",
      "-----------------\n",
      "Inside look at Calgary Flames\n",
      "Hope additions of Markstrom, Tanev to core group can lead to postseason success\n",
      "2020-11-20\n",
      "-----------------\n",
      "Theodore of Golden Knights honors grandmother with fund to fight cancer\n",
      "Defenseman reflects on own recovery, urges importance of early detection\n",
      "2020-11-19\n",
      "-----------------\n",
      "Panthers new assistant GM Peterson featured on NHL @TheRink podcast\n",
      "Rosen, Roarke also discuss coaching with LeClair, Reverse Retro jerseys in latest episode\n",
      "2020-11-19\n",
      "-----------------\n",
      "CN Tower lights up lavender for Hockey Fights Cancer Month\n",
      "Legendary Toronto landmark changes colors for NHL initiative\n",
      "2020-11-18\n",
      "-----------------\n",
      "Holtby, tortoises finally make it across U.S.-Canada border\n",
      "Canucks goalie was trying to cross with pets but didn't have right paperwork\n",
      "2020-11-19\n",
      "-----------------\n",
      "NHL adds human touch to campaign against cancer\n",
      "Leaguewide social moments, storytelling driving awareness of work to combat disease\n",
      "2020-11-19\n",
      "-----------------\n",
      "Mailbag: Ovechkin's chase of Gretzky, Reverse Retro jerseys\n",
      "NHL.com's Tom Gulitti answers weekly questions\n",
      "2020-11-18\n",
      "-----------------\n",
      "NHL schedule could combine hub format, home arenas in 2020-21\n",
      "League seeking flexibility planning season amid coronavirus pandemic\n",
      "2020-11-13\n",
      "-----------------\n",
      "Blue Jackets confident restricted free agent Dubois will sign before camp\n",
      "GM preaching patience but '100 percent sure' contract will get done\n",
      "2020-11-18\n",
      "-----------------\n",
      "Power, Raty among top 2021 prospects discussed on NHL Draft Class podcast\n",
      "Latest episode features Central Scouting on top players, changes to process\n",
      "2020-11-18\n",
      "-----------------\n",
      "Stuetzle, No. 3 pick in 2020 Draft by Senators, named to Germany WJC team\n",
      "Forward recovering from arm surgery, had five assists in tournament last year\n",
      "2020-11-18\n",
      "-----------------\n",
      "Nov. 21: Jagr becomes NHL's all-time top European goal scorer\n",
      "Plus: Overtime ended because of World War II; Rangers set team single-game scoring mark\n",
      "2020-11-21\n"
     ]
    }
   ],
   "source": [
    "# Retrieve the parent divs for all articles\n",
    "results = soup.find_all('div', class_='article-item__top')\n",
    "\n",
    "# loop over results to get article data\n",
    "for result in results:\n",
    "    # scrape the article header \n",
    "    header = result.find('h1', class_='article-item__headline').text\n",
    "    \n",
    "    # scrape the article subheader\n",
    "    subheader = result.find('h2', class_='article-item__subheader').text\n",
    "    \n",
    "    # scrape the datetime\n",
    "# Class Note: Using the hard bracket because the date is metadata, not just text.\n",
    "    datetime = result.find('span', class_='article-item__date')['data-date'] \n",
    "    \n",
    "    # get only the date from the datetime\n",
    "    date = datetime.split('T')[0]\n",
    "    \n",
    "    # print article data\n",
    "    print('-----------------')\n",
    "    print(header)\n",
    "    print(subheader)\n",
    "    print(date)\n",
    "\n",
    "    # Dictionary to be inserted into MongoDB\n",
    "    post = {\n",
    "        'header': header,\n",
    "        'subheader': subheader,\n",
    "        'date': date,\n",
    "    }\n",
    "\n",
    "    # Insert dictionary into MongoDB as a document\n",
    "    collection.insert_one(post)"
   ]
  },
  {
   "cell_type": "code",
   "execution_count": 15,
   "metadata": {},
   "outputs": [
    {
     "name": "stdout",
     "output_type": "stream",
     "text": [
      "{'_id': ObjectId('5fb94dd7db0e4d869b314313'), 'header': 'Inside look at Carolina Hurricanes', 'subheader': 'Relying on maturing core, recent playoff exprience to make deep run this season', 'date': '2020-11-21'}\n",
      "{'_id': ObjectId('5fb94dd7db0e4d869b314314'), 'header': 'Top goalie in NHL in 3 seasons debated', 'subheader': 'Shesterkin, Vasilevskiy, Hellebuyck, Hart among favorites of NHL.com writers', 'date': '2020-11-21'}\n",
      "{'_id': ObjectId('5fb94dd7db0e4d869b314315'), 'header': 'Three questions facing Carolina Hurricanes', 'subheader': \"Mrazek, Reimer potential in goal, Hamilton's expiring contract among concerns\", 'date': '2020-11-21'}\n",
      "{'_id': ObjectId('5fb94dd7db0e4d869b314316'), 'header': 'Top prospects for Carolina Hurricanes', 'subheader': 'Bean could make opening roster; Bokk to play in North America', 'date': '2020-11-21'}\n",
      "{'_id': ObjectId('5fb94dd7db0e4d869b314317'), 'header': 'Thornton will spark Maple Leafs, GM of Switzerland team says: report', 'subheader': '41-year-old center leads NHL active players in points, assists', 'date': '2020-11-20'}\n",
      "{'_id': ObjectId('5fb94dd7db0e4d869b314318'), 'header': 'Reverse Retro alternate jerseys for all 31 teams unveiled by NHL, adidas', 'subheader': 'Will be worn multiple times this season; available for purchase starting Dec. 1', 'date': '2020-11-16'}\n",
      "{'_id': ObjectId('5fb94dd7db0e4d869b314319'), 'header': 'Schinkel, member of expansion Penguins, dies at 87', 'subheader': 'Played 12 seasons in NHL, coached Pittsburgh to two postseason appearances', 'date': '2020-11-21'}\n",
      "{'_id': ObjectId('5fb94dd7db0e4d869b31431a'), 'header': 'Khudobin expected to be ready for training camp for Stars after sugery', 'subheader': 'Goalie had nerve issue in arm; Bishop, Seguin recovering', 'date': '2020-11-20'}\n",
      "{'_id': ObjectId('5fb94dd7db0e4d869b31431b'), 'header': 'Carolina Hurricanes key statistics', 'subheader': 'Hamilton expected to drive puck possession; Mrazek should boost save percentage at 5-on-5', 'date': '2020-11-21'}\n",
      "{'_id': ObjectId('5fb94dd7db0e4d869b31431c'), 'header': 'Askarov named to Russia World Junior Championship selection camp', 'subheader': 'Goalie, No. 11 pick by Predators, one of four first-rounders from 2020 Draft on roster', 'date': '2020-11-20'}\n",
      "{'_id': ObjectId('5fb94dd7db0e4d869b31431d'), 'header': 'NHL Free Agent Tracker', 'subheader': 'Complete list of signings by team, available players', 'date': '2020-11-13'}\n",
      "{'_id': ObjectId('5fb94dd7db0e4d869b31431e'), 'header': 'Fantasy goalie tandem rankings for 2020-21', 'subheader': 'NHL.com lists best duos at position to consider handcuffing in standard draft', 'date': '2020-11-19'}\n",
      "{'_id': ObjectId('5fb94dd7db0e4d869b31431f'), 'header': 'Lightning trainer, Star Wars fanatic enjoys Stanley Cup with Baby Yoda', 'subheader': 'Mike Poirier wore Darth Vader helmet for this day at home with trophy', 'date': '2020-11-20'}\n",
      "{'_id': ObjectId('5fb94dd7db0e4d869b314320'), 'header': \"Byfield won't join Kings until after playing for Canada at World Juniors\", 'subheader': 'Forward would stay at tournament scheduled through Jan. 5', 'date': '2020-11-19'}\n",
      "{'_id': ObjectId('5fb94dd7db0e4d869b314321'), 'header': 'Thomas making adjustments on, off ice as pro career starts in Germany', 'subheader': 'Kings forward prospect using opportunity with Eisbaren Berlin to get ready for NHL', 'date': '2020-11-20'}\n",
      "{'_id': ObjectId('5fb94dd7db0e4d869b314322'), 'header': '2020-21 NHL Trade Tracker', 'subheader': 'Official deals since Oct. 1, 2020', 'date': '2020-10-12'}\n",
      "{'_id': ObjectId('5fb94dd7db0e4d869b314323'), 'header': 'Carolina Hurricanes fantasy preview for 2020-21', 'subheader': 'Aho anchors potent first line; Teravainen benefits from exposure to Svechnikov', 'date': '2020-11-16'}\n",
      "{'_id': ObjectId('5fb94dd7db0e4d869b314324'), 'header': 'Tkachuks pay visit to Blues Warrior Hockey program to support veterans', 'subheader': 'Keith, Matthew and Brady stop by for skate, pictures and autographs', 'date': '2020-11-20'}\n",
      "{'_id': ObjectId('5fb94dd7db0e4d869b314325'), 'header': 'Inside look at Calgary Flames', 'subheader': 'Hope additions of Markstrom, Tanev to core group can lead to postseason success', 'date': '2020-11-20'}\n",
      "{'_id': ObjectId('5fb94dd7db0e4d869b314326'), 'header': 'Theodore of Golden Knights honors grandmother with fund to fight cancer', 'subheader': 'Defenseman reflects on own recovery, urges importance of early detection', 'date': '2020-11-19'}\n",
      "{'_id': ObjectId('5fb94dd7db0e4d869b314327'), 'header': 'Panthers new assistant GM Peterson featured on NHL @TheRink podcast', 'subheader': 'Rosen, Roarke also discuss coaching with LeClair, Reverse Retro jerseys in latest episode', 'date': '2020-11-19'}\n",
      "{'_id': ObjectId('5fb94dd7db0e4d869b314328'), 'header': 'CN Tower lights up lavender for Hockey Fights Cancer Month', 'subheader': 'Legendary Toronto landmark changes colors for NHL initiative', 'date': '2020-11-18'}\n",
      "{'_id': ObjectId('5fb94dd7db0e4d869b314329'), 'header': 'Holtby, tortoises finally make it across U.S.-Canada border', 'subheader': \"Canucks goalie was trying to cross with pets but didn't have right paperwork\", 'date': '2020-11-19'}\n",
      "{'_id': ObjectId('5fb94dd7db0e4d869b31432a'), 'header': 'NHL adds human touch to campaign against cancer', 'subheader': 'Leaguewide social moments, storytelling driving awareness of work to combat disease', 'date': '2020-11-19'}\n",
      "{'_id': ObjectId('5fb94dd7db0e4d869b31432b'), 'header': \"Mailbag: Ovechkin's chase of Gretzky, Reverse Retro jerseys\", 'subheader': \"NHL.com's Tom Gulitti answers weekly questions\", 'date': '2020-11-18'}\n",
      "{'_id': ObjectId('5fb94dd7db0e4d869b31432c'), 'header': 'NHL schedule could combine hub format, home arenas in 2020-21', 'subheader': 'League seeking flexibility planning season amid coronavirus pandemic', 'date': '2020-11-13'}\n",
      "{'_id': ObjectId('5fb94dd7db0e4d869b31432d'), 'header': 'Blue Jackets confident restricted free agent Dubois will sign before camp', 'subheader': \"GM preaching patience but '100 percent sure' contract will get done\", 'date': '2020-11-18'}\n",
      "{'_id': ObjectId('5fb94dd7db0e4d869b31432e'), 'header': 'Power, Raty among top 2021 prospects discussed on NHL Draft Class podcast', 'subheader': 'Latest episode features Central Scouting on top players, changes to process', 'date': '2020-11-18'}\n",
      "{'_id': ObjectId('5fb94dd7db0e4d869b31432f'), 'header': 'Stuetzle, No. 3 pick in 2020 Draft by Senators, named to Germany WJC team', 'subheader': 'Forward recovering from arm surgery, had five assists in tournament last year', 'date': '2020-11-18'}\n",
      "{'_id': ObjectId('5fb94dd7db0e4d869b314330'), 'header': \"Nov. 21: Jagr becomes NHL's all-time top European goal scorer\", 'subheader': 'Plus: Overtime ended because of World War II; Rangers set team single-game scoring mark', 'date': '2020-11-21'}\n",
      "{'_id': ObjectId('5fb94ee5db0e4d869b314332'), 'header': 'Inside look at Carolina Hurricanes', 'subheader': 'Relying on maturing core, recent playoff exprience to make deep run this season', 'date': '2020-11-21'}\n",
      "{'_id': ObjectId('5fb94ee5db0e4d869b314333'), 'header': 'Top goalie in NHL in 3 seasons debated', 'subheader': 'Shesterkin, Vasilevskiy, Hellebuyck, Hart among favorites of NHL.com writers', 'date': '2020-11-21'}\n",
      "{'_id': ObjectId('5fb94ee5db0e4d869b314334'), 'header': 'Three questions facing Carolina Hurricanes', 'subheader': \"Mrazek, Reimer potential in goal, Hamilton's expiring contract among concerns\", 'date': '2020-11-21'}\n",
      "{'_id': ObjectId('5fb94ee5db0e4d869b314335'), 'header': 'Top prospects for Carolina Hurricanes', 'subheader': 'Bean could make opening roster; Bokk to play in North America', 'date': '2020-11-21'}\n",
      "{'_id': ObjectId('5fb94ee5db0e4d869b314336'), 'header': 'Thornton will spark Maple Leafs, GM of Switzerland team says: report', 'subheader': '41-year-old center leads NHL active players in points, assists', 'date': '2020-11-20'}\n",
      "{'_id': ObjectId('5fb94ee5db0e4d869b314337'), 'header': 'Reverse Retro alternate jerseys for all 31 teams unveiled by NHL, adidas', 'subheader': 'Will be worn multiple times this season; available for purchase starting Dec. 1', 'date': '2020-11-16'}\n",
      "{'_id': ObjectId('5fb94ee5db0e4d869b314338'), 'header': 'Schinkel, member of expansion Penguins, dies at 87', 'subheader': 'Played 12 seasons in NHL, coached Pittsburgh to two postseason appearances', 'date': '2020-11-21'}\n",
      "{'_id': ObjectId('5fb94ee5db0e4d869b314339'), 'header': 'Khudobin expected to be ready for training camp for Stars after sugery', 'subheader': 'Goalie had nerve issue in arm; Bishop, Seguin recovering', 'date': '2020-11-20'}\n",
      "{'_id': ObjectId('5fb94ee5db0e4d869b31433a'), 'header': 'Carolina Hurricanes key statistics', 'subheader': 'Hamilton expected to drive puck possession; Mrazek should boost save percentage at 5-on-5', 'date': '2020-11-21'}\n",
      "{'_id': ObjectId('5fb94ee5db0e4d869b31433b'), 'header': 'Askarov named to Russia World Junior Championship selection camp', 'subheader': 'Goalie, No. 11 pick by Predators, one of four first-rounders from 2020 Draft on roster', 'date': '2020-11-20'}\n",
      "{'_id': ObjectId('5fb94ee5db0e4d869b31433c'), 'header': 'NHL Free Agent Tracker', 'subheader': 'Complete list of signings by team, available players', 'date': '2020-11-13'}\n",
      "{'_id': ObjectId('5fb94ee5db0e4d869b31433d'), 'header': 'Fantasy goalie tandem rankings for 2020-21', 'subheader': 'NHL.com lists best duos at position to consider handcuffing in standard draft', 'date': '2020-11-19'}\n",
      "{'_id': ObjectId('5fb94ee5db0e4d869b31433e'), 'header': 'Lightning trainer, Star Wars fanatic enjoys Stanley Cup with Baby Yoda', 'subheader': 'Mike Poirier wore Darth Vader helmet for this day at home with trophy', 'date': '2020-11-20'}\n",
      "{'_id': ObjectId('5fb94ee5db0e4d869b31433f'), 'header': \"Byfield won't join Kings until after playing for Canada at World Juniors\", 'subheader': 'Forward would stay at tournament scheduled through Jan. 5', 'date': '2020-11-19'}\n",
      "{'_id': ObjectId('5fb94ee5db0e4d869b314340'), 'header': 'Thomas making adjustments on, off ice as pro career starts in Germany', 'subheader': 'Kings forward prospect using opportunity with Eisbaren Berlin to get ready for NHL', 'date': '2020-11-20'}\n",
      "{'_id': ObjectId('5fb94ee5db0e4d869b314341'), 'header': '2020-21 NHL Trade Tracker', 'subheader': 'Official deals since Oct. 1, 2020', 'date': '2020-10-12'}\n",
      "{'_id': ObjectId('5fb94ee5db0e4d869b314342'), 'header': 'Carolina Hurricanes fantasy preview for 2020-21', 'subheader': 'Aho anchors potent first line; Teravainen benefits from exposure to Svechnikov', 'date': '2020-11-16'}\n",
      "{'_id': ObjectId('5fb94ee5db0e4d869b314343'), 'header': 'Tkachuks pay visit to Blues Warrior Hockey program to support veterans', 'subheader': 'Keith, Matthew and Brady stop by for skate, pictures and autographs', 'date': '2020-11-20'}\n",
      "{'_id': ObjectId('5fb94ee5db0e4d869b314344'), 'header': 'Inside look at Calgary Flames', 'subheader': 'Hope additions of Markstrom, Tanev to core group can lead to postseason success', 'date': '2020-11-20'}\n",
      "{'_id': ObjectId('5fb94ee5db0e4d869b314345'), 'header': 'Theodore of Golden Knights honors grandmother with fund to fight cancer', 'subheader': 'Defenseman reflects on own recovery, urges importance of early detection', 'date': '2020-11-19'}\n",
      "{'_id': ObjectId('5fb94ee5db0e4d869b314346'), 'header': 'Panthers new assistant GM Peterson featured on NHL @TheRink podcast', 'subheader': 'Rosen, Roarke also discuss coaching with LeClair, Reverse Retro jerseys in latest episode', 'date': '2020-11-19'}\n",
      "{'_id': ObjectId('5fb94ee5db0e4d869b314347'), 'header': 'CN Tower lights up lavender for Hockey Fights Cancer Month', 'subheader': 'Legendary Toronto landmark changes colors for NHL initiative', 'date': '2020-11-18'}\n",
      "{'_id': ObjectId('5fb94ee5db0e4d869b314348'), 'header': 'Holtby, tortoises finally make it across U.S.-Canada border', 'subheader': \"Canucks goalie was trying to cross with pets but didn't have right paperwork\", 'date': '2020-11-19'}\n",
      "{'_id': ObjectId('5fb94ee5db0e4d869b314349'), 'header': 'NHL adds human touch to campaign against cancer', 'subheader': 'Leaguewide social moments, storytelling driving awareness of work to combat disease', 'date': '2020-11-19'}\n",
      "{'_id': ObjectId('5fb94ee5db0e4d869b31434a'), 'header': \"Mailbag: Ovechkin's chase of Gretzky, Reverse Retro jerseys\", 'subheader': \"NHL.com's Tom Gulitti answers weekly questions\", 'date': '2020-11-18'}\n",
      "{'_id': ObjectId('5fb94ee5db0e4d869b31434b'), 'header': 'NHL schedule could combine hub format, home arenas in 2020-21', 'subheader': 'League seeking flexibility planning season amid coronavirus pandemic', 'date': '2020-11-13'}\n",
      "{'_id': ObjectId('5fb94ee5db0e4d869b31434c'), 'header': 'Blue Jackets confident restricted free agent Dubois will sign before camp', 'subheader': \"GM preaching patience but '100 percent sure' contract will get done\", 'date': '2020-11-18'}\n",
      "{'_id': ObjectId('5fb94ee5db0e4d869b31434d'), 'header': 'Power, Raty among top 2021 prospects discussed on NHL Draft Class podcast', 'subheader': 'Latest episode features Central Scouting on top players, changes to process', 'date': '2020-11-18'}\n",
      "{'_id': ObjectId('5fb94ee5db0e4d869b31434e'), 'header': 'Stuetzle, No. 3 pick in 2020 Draft by Senators, named to Germany WJC team', 'subheader': 'Forward recovering from arm surgery, had five assists in tournament last year', 'date': '2020-11-18'}\n",
      "{'_id': ObjectId('5fb94ee5db0e4d869b31434f'), 'header': \"Nov. 21: Jagr becomes NHL's all-time top European goal scorer\", 'subheader': 'Plus: Overtime ended because of World War II; Rangers set team single-game scoring mark', 'date': '2020-11-21'}\n"
     ]
    }
   ],
   "source": [
    "# Display the MongoDB records created above\n",
    "articles = db.articles.find()\n",
    "for article in articles:\n",
    "    print(article)"
   ]
  },
  {
   "cell_type": "code",
   "execution_count": null,
   "metadata": {},
   "outputs": [],
   "source": []
  }
 ],
 "metadata": {
  "kernelspec": {
   "display_name": "Python [conda env:PyData] *",
   "language": "python",
   "name": "conda-env-PyData-py"
  },
  "language_info": {
   "codemirror_mode": {
    "name": "ipython",
    "version": 3
   },
   "file_extension": ".py",
   "mimetype": "text/x-python",
   "name": "python",
   "nbconvert_exporter": "python",
   "pygments_lexer": "ipython3",
   "version": "3.6.10"
  },
  "varInspector": {
   "cols": {
    "lenName": 16,
    "lenType": 16,
    "lenVar": 40
   },
   "kernels_config": {
    "python": {
     "delete_cmd_postfix": "",
     "delete_cmd_prefix": "del ",
     "library": "var_list.py",
     "varRefreshCmd": "print(var_dic_list())"
    },
    "r": {
     "delete_cmd_postfix": ") ",
     "delete_cmd_prefix": "rm(",
     "library": "var_list.r",
     "varRefreshCmd": "cat(var_dic_list()) "
    }
   },
   "types_to_exclude": [
    "module",
    "function",
    "builtin_function_or_method",
    "instance",
    "_Feature"
   ],
   "window_display": false
  }
 },
 "nbformat": 4,
 "nbformat_minor": 2
}
