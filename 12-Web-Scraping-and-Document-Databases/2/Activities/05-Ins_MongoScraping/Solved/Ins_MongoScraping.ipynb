{
 "cells": [
  {
   "cell_type": "code",
   "execution_count": 1,
   "metadata": {},
   "outputs": [],
   "source": [
    "# Dependencies\n",
    "from bs4 import BeautifulSoup\n",
    "import requests\n",
    "import pymongo"
   ]
  },
  {
   "cell_type": "code",
   "execution_count": 2,
   "metadata": {},
   "outputs": [],
   "source": [
    "# Initialize PyMongo to work with MongoDBs\n",
    "conn = 'mongodb://localhost:27017'\n",
    "client = pymongo.MongoClient(conn)"
   ]
  },
  {
   "cell_type": "code",
   "execution_count": 3,
   "metadata": {},
   "outputs": [],
   "source": [
    "# Define database and collection\n",
    "db = client.craigslist_db\n",
    "collection = db.items"
   ]
  },
  {
   "cell_type": "code",
   "execution_count": 4,
   "metadata": {},
   "outputs": [],
   "source": [
    "# URL of page to be scraped\n",
    "url = 'https://newjersey.craigslist.org/search/sss?sort=rel&query=guitar'\n",
    "\n",
    "# Retrieve page with the requests module\n",
    "response = requests.get(url)\n",
    "# Create BeautifulSoup object; parse with 'lxml'\n",
    "soup = BeautifulSoup(response.text, 'lxml')"
   ]
  },
  {
   "cell_type": "code",
   "execution_count": 7,
   "metadata": {},
   "outputs": [],
   "source": [
    "# Examine the results, then determine element that contains sought info\n",
    "# results are returned as an iterable list\n",
    "results = soup.find_all('li', class_='result-row')\n",
    "\n",
    "# Loop through returned results\n",
    "for result in results:\n",
    "    # Error handling\n",
    "    try:\n",
    "        # Identify and return title of listing\n",
    "        title = result.find('a', class_='result-title').text\n",
    "        # Identify and return price of listing\n",
    "        price = result.a.span.text\n",
    "        # Identify and return link to listing\n",
    "        link = result.a['href']\n",
    "\n",
    "        # Run only if title, price, and link are available\n",
    "        if (title and price and link):\n",
    "            # Print results\n",
    "            print('-------------')\n",
    "            print(title)\n",
    "            print(price)\n",
    "            print(link)\n",
    "\n",
    "            # Dictionary to be inserted as a MongoDB document\n",
    "            post = {\n",
    "                'title': title,\n",
    "                'price': price,\n",
    "                'url': link\n",
    "            }\n",
    "\n",
    "            collection.insert_one(post)\n",
    "\n",
    "    except Exception as e:\n",
    "        print(e)"
   ]
  },
  {
   "cell_type": "code",
   "execution_count": 6,
   "metadata": {},
   "outputs": [
    {
     "name": "stdout",
     "output_type": "stream",
     "text": [
      "{'_id': ObjectId('5fbfb640237bd8c7d4848c67'), 'title': \"Guild D55 Acoustic Guitar 3-Tone Suburst Mid 2000's **MINT**\", 'price': '$2,999', 'url': 'https://newjersey.craigslist.org/msg/d/white-plains-guild-d55-acoustic-guitar/7237174059.html'}\n",
      "{'_id': ObjectId('5fbfb641237bd8c7d4848c68'), 'title': 'FS/FT - Yamaha FG830 Acoustic Guitar', 'price': '$250', 'url': 'https://newjersey.craigslist.org/msg/d/mountainside-fs-ft-yamaha-fg830/7237150127.html'}\n",
      "{'_id': ObjectId('5fbfb641237bd8c7d4848c69'), 'title': '12\" EMINENCE GUITAR AMP SPEAKER', 'price': '$130', 'url': 'https://newjersey.craigslist.org/ele/d/caldwell-12-eminence-guitar-amp-speaker/7237138745.html'}\n",
      "{'_id': ObjectId('5fbfb641237bd8c7d4848c6a'), 'title': 'Esteban Electric Acoustic Guitar ALC-200', 'price': '$200', 'url': 'https://newjersey.craigslist.org/msg/d/saddle-brook-esteban-electric-acoustic/7228386281.html'}\n",
      "{'_id': ObjectId('5fbfb641237bd8c7d4848c6b'), 'title': 'PRO GUITAR SETUPS!', 'price': '$0', 'url': 'https://newjersey.craigslist.org/msg/d/butler-pro-guitar-setups/7221674223.html'}\n",
      "{'_id': ObjectId('5fbfb641237bd8c7d4848c6c'), 'title': 'Gretsch Tennessean Guitar - USA Made Vintage 1966 - Excellent Cond.', 'price': '$3,450', 'url': 'https://newjersey.craigslist.org/msg/d/livingston-gretsch-tennessean-guitar/7237019435.html'}\n",
      "{'_id': ObjectId('5fbfb641237bd8c7d4848c6d'), 'title': 'Ultimate Guitar Stands', 'price': '$25', 'url': 'https://newjersey.craigslist.org/msg/d/boonton-ultimate-guitar-stands/7230157659.html'}\n",
      "{'_id': ObjectId('5fbfb641237bd8c7d4848c6e'), 'title': 'YAMAHA (FX500B) BASS GUITAR PROCESSOR...LOW PRICE $60 NICE!', 'price': '$60', 'url': 'https://newjersey.craigslist.org/ele/d/garwood-yamaha-fx500b-bass-guitar/7234602906.html'}\n",
      "{'_id': ObjectId('5fbfb641237bd8c7d4848c6f'), 'title': 'CRATE (MODEL G40C) GUITAR AMP..LOW PRICE $40...NICE!', 'price': '$40', 'url': 'https://newjersey.craigslist.org/msg/d/garwood-crate-model-g40c-guitar-amplow/7234600212.html'}\n",
      "{'_id': ObjectId('5fbfb641237bd8c7d4848c70'), 'title': 'NIB  Epiphone Casino Coupe guitar', 'price': '$465', 'url': 'https://newjersey.craigslist.org/msg/d/stanhope-nib-epiphone-casino-coupe/7235327493.html'}\n",
      "{'_id': ObjectId('5fbfb641237bd8c7d4848c71'), 'title': 'Line 6 Micro Spider Guitar Amp', 'price': '$75', 'url': 'https://newjersey.craigslist.org/msg/d/mc-afee-line-micro-spider-guitar-amp/7236887468.html'}\n",
      "{'_id': ObjectId('5fbfb641237bd8c7d4848c72'), 'title': '(For Sale or Trade) TKL VTR-130 Vectra IPX Electric Guitar Soft Case', 'price': '$90', 'url': 'https://newjersey.craigslist.org/msg/d/whippany-for-sale-or-trade-tkl-vtr-130/7236880994.html'}\n",
      "{'_id': ObjectId('5fbfb641237bd8c7d4848c73'), 'title': 'yamaha acoustic guitar fg 441s', 'price': '$275', 'url': 'https://newjersey.craigslist.org/msg/d/wayne-yamaha-acoustic-guitar-fg-441s/7229312651.html'}\n",
      "{'_id': ObjectId('5fbfb641237bd8c7d4848c74'), 'title': 'Washburn F11BR acoustic guitar', 'price': '$125', 'url': 'https://newjersey.craigslist.org/msg/d/hamburg-washburn-f11br-acoustic-guitar/7224783358.html'}\n",
      "{'_id': ObjectId('5fbfb641237bd8c7d4848c75'), 'title': 'Washburn WR 120 electric guitar', 'price': '$100', 'url': 'https://newjersey.craigslist.org/msg/d/hamburg-washburn-wr-120-electric-guitar/7224785205.html'}\n",
      "{'_id': ObjectId('5fbfb641237bd8c7d4848c76'), 'title': 'Marshall MG250DFX 2x12\" Guitar Amplifier', 'price': '$250', 'url': 'https://newjersey.craigslist.org/msg/d/bloomfield-marshall-mg250dfx-2x12/7236832738.html'}\n",
      "{'_id': ObjectId('5fbfb641237bd8c7d4848c77'), 'title': 'Stratocaster Copy Electric Guitar', 'price': '$100', 'url': 'https://newjersey.craigslist.org/msg/d/wayne-stratocaster-copy-electric-guitar/7234342969.html'}\n",
      "{'_id': ObjectId('5fbfb641237bd8c7d4848c78'), 'title': 'Fender Bass Guitar Gig Bag', 'price': '$25', 'url': 'https://newjersey.craigslist.org/msg/d/wayne-fender-bass-guitar-gig-bag/7234348122.html'}\n",
      "{'_id': ObjectId('5fbfb641237bd8c7d4848c79'), 'title': \"Rare Early 70's Gibson ES-150D Blonde Jazz Guitar w/OHSC\", 'price': '$2,999', 'url': 'https://newjersey.craigslist.org/msg/d/washington-rare-early-70s-gibson-es/7236783420.html'}\n",
      "{'_id': ObjectId('5fbfb641237bd8c7d4848c7a'), 'title': 'DEAN BACKWOODS 6-STRING BANJO GUITAR / BANJITAR RESONATOR W/ HARD CASE', 'price': '$0', 'url': 'https://newjersey.craigslist.org/msg/d/whippany-dean-backwoods-string-banjo/7220953972.html'}\n",
      "{'_id': ObjectId('5fbfb641237bd8c7d4848c7b'), 'title': 'ESP LTD EC-1000 Vintage Black 6-string Electric Guitar EMG 81 85 (OBO)', 'price': '$600', 'url': 'https://newjersey.craigslist.org/msg/d/hibernia-esp-ltd-ec-1000-vintage-black/7222891246.html'}\n",
      "{'_id': ObjectId('5fbfb641237bd8c7d4848c7c'), 'title': 'Ibanez Vintage Electric Guitar', 'price': '$700', 'url': 'https://newjersey.craigslist.org/for/d/ibanez-vintage-electric-guitar/7236761723.html'}\n",
      "{'_id': ObjectId('5fbfb641237bd8c7d4848c7d'), 'title': 'Martin USA 000CXE Black Acoustic/Electric Guitar', 'price': '$700', 'url': 'https://newjersey.craigslist.org/msg/d/montville-martin-usa-000cxe-black/7236723328.html'}\n",
      "{'_id': ObjectId('5fbfb641237bd8c7d4848c7e'), 'title': 'Classical Nylon string guitar Fender FA-15N ¾-size', 'price': '$165', 'url': 'https://newjersey.craigslist.org/msg/d/haworth-classical-nylon-string-guitar/7236720710.html'}\n",
      "{'_id': ObjectId('5fbfb641237bd8c7d4848c7f'), 'title': 'Takamine Acoustic/Electric Guitar !', 'price': '$295', 'url': 'https://newjersey.craigslist.org/msg/d/chester-takamine-acoustic-electric/7233948951.html'}\n",
      "{'_id': ObjectId('5fbfb641237bd8c7d4848c80'), 'title': 'Harke GT60 Guitar Head & Cabinet ( Celestions)', 'price': '$230', 'url': 'https://newjersey.craigslist.org/msg/d/chester-harke-gt60-guitar-head-cabinet/7235435518.html'}\n",
      "{'_id': ObjectId('5fbfb641237bd8c7d4848c81'), 'title': 'Guitar Stand by On-Stage', 'price': '$15', 'url': 'https://newjersey.craigslist.org/msg/d/ramsey-guitar-stand-by-on-stage/7223718524.html'}\n",
      "{'_id': ObjectId('5fbfb641237bd8c7d4848c82'), 'title': 'Peavey Audition 110 25-Watt 1x10 Guitar Combo', 'price': '$45', 'url': 'https://newjersey.craigslist.org/msg/d/ramsey-peavey-audition-watt-1x10-guitar/7224442997.html'}\n",
      "{'_id': ObjectId('5fbfb641237bd8c7d4848c83'), 'title': 'Taylor 414ce Grand Auditorium Acoustic Electric Guitar in near MINT condition', 'price': '$1,500', 'url': 'https://newjersey.craigslist.org/msg/d/norwood-taylor-414ce-grand-auditorium/7226687229.html'}\n",
      "{'_id': ObjectId('5fbfb641237bd8c7d4848c84'), 'title': 'Hartke XL Transient Series 4x12 GUITAR cabinet', 'price': '$300', 'url': 'https://newjersey.craigslist.org/msg/d/hewitt-hartke-xl-transient-series-4x12/7236638928.html'}\n",
      "{'_id': ObjectId('5fbfb641237bd8c7d4848c85'), 'title': 'Goya N21 Acoustic Guitar Had Cracks Repaired Needs Strings Great Sound', 'price': '$75', 'url': 'https://newjersey.craigslist.org/msg/d/riverdale-goya-n21-acoustic-guitar-had/7236608933.html'}\n",
      "{'_id': ObjectId('5fbfb641237bd8c7d4848c86'), 'title': 'Sesame Street guitar, great cond', 'price': '$8', 'url': 'https://newjersey.craigslist.org/bab/d/montville-sesame-street-guitar-great/7224574877.html'}\n",
      "{'_id': ObjectId('5fbfb641237bd8c7d4848c87'), 'title': 'Sesame Street guitar, great cond', 'price': '$8', 'url': 'https://newjersey.craigslist.org/tag/d/montville-sesame-street-guitar-great/7224575046.html'}\n",
      "{'_id': ObjectId('5fbfb641237bd8c7d4848c88'), 'title': 'Hercules GS422B A/G DUO Guitar Stand', 'price': '$60', 'url': 'https://newjersey.craigslist.org/msg/d/highland-lakes-hercules-gs422b-g-duo/7226946793.html'}\n",
      "{'_id': ObjectId('5fbfb641237bd8c7d4848c89'), 'title': 'RESTIVO HAND MADE UNFINISHED CLASSICAL GUITAR', 'price': '$120', 'url': 'https://newjersey.craigslist.org/msg/d/east-hanover-restivo-hand-made/7236593054.html'}\n",
      "{'_id': ObjectId('5fbfb641237bd8c7d4848c8a'), 'title': 'Soho QTR-1 4 Channel All Tube Guitar Pre-amp', 'price': '$100', 'url': 'https://newjersey.craigslist.org/msg/d/lodi-soho-qtr-4-channel-all-tube-guitar/7220550514.html'}\n",
      "{'_id': ObjectId('5fbfb641237bd8c7d4848c8b'), 'title': 'Guitar Stands', 'price': '$10', 'url': 'https://newjersey.craigslist.org/msg/d/lake-hiawatha-guitar-stands/7227767100.html'}\n",
      "{'_id': ObjectId('5fbfb641237bd8c7d4848c8c'), 'title': '7 Guitar Stand', 'price': '$40', 'url': 'https://newjersey.craigslist.org/msg/d/boonton-guitar-stand/7230627789.html'}\n",
      "{'_id': ObjectId('5fbfb641237bd8c7d4848c8d'), 'title': 'Wii U Guitar Hero Game and 2 Guitars', 'price': '$45', 'url': 'https://newjersey.craigslist.org/tag/d/mendham-wii-guitar-hero-game-and-guitars/7233872974.html'}\n",
      "{'_id': ObjectId('5fbfb641237bd8c7d4848c8e'), 'title': 'Guitar Pedal Board', 'price': '$30', 'url': 'https://newjersey.craigslist.org/for/d/livingston-guitar-pedal-board/7236412388.html'}\n",
      "{'_id': ObjectId('5fbfb641237bd8c7d4848c8f'), 'title': 'Line 6 2x12 Guitar Amp w Efx', 'price': '$200', 'url': 'https://newjersey.craigslist.org/msg/d/cliffside-park-line-2x12-guitar-amp-efx/7222942967.html'}\n",
      "{'_id': ObjectId('5fbfb641237bd8c7d4848c90'), 'title': 'White Explorer Guitar $500', 'price': '$500', 'url': 'https://newjersey.craigslist.org/msg/d/east-orange-white-explorer-guitar-500/7236323061.html'}\n",
      "{'_id': ObjectId('5fbfb641237bd8c7d4848c91'), 'title': 'Martin Fretty plush guitar toy', 'price': '$15', 'url': 'https://newjersey.craigslist.org/msg/d/caldwell-martin-fretty-plush-guitar-toy/7222473482.html'}\n",
      "{'_id': ObjectId('5fbfb641237bd8c7d4848c92'), 'title': 'Xbox 360 Racing Steering & Pedals used & Wii Guitar Hero with Microphone', 'price': '$100', 'url': 'https://newjersey.craigslist.org/tag/d/dumont-xbox-360-racing-steering-pedals/7233547464.html'}\n",
      "{'_id': ObjectId('5fbfb641237bd8c7d4848c93'), 'title': 'Premier Guitar Magazine (10)', 'price': '$55', 'url': 'https://newjersey.craigslist.org/msg/d/west-orange-premier-guitar-magazine-10/7232090955.html'}\n",
      "{'_id': ObjectId('5fbfb641237bd8c7d4848c94'), 'title': 'TOA KD-1 4-Channel Keyboard/Acoustic Guitar/Portable PA Amplifier', 'price': '$125', 'url': 'https://newjersey.craigslist.org/msg/d/long-valley-toa-kd-4-channel-keyboard/7236075598.html'}\n",
      "{'_id': ObjectId('5fbfb641237bd8c7d4848c95'), 'title': 'Peavey Renown Solo Series 1st Gen 120 Watt 2x12 Guitar Combo Amplifier', 'price': '$150', 'url': 'https://newjersey.craigslist.org/msg/d/bridgewater-peavey-renown-solo-series/7225581300.html'}\n",
      "{'_id': ObjectId('5fbfb641237bd8c7d4848c96'), 'title': 'Great Electric Guitar Cheap! Dean Hardtail Gold Top, Korea.', 'price': '$250', 'url': 'https://newjersey.craigslist.org/msg/d/orangeburg-great-electric-guitar-cheap/7219861790.html'}\n",
      "{'_id': ObjectId('5fbfb641237bd8c7d4848c97'), 'title': 'Minarik Inferno Mirror Electric Guitar', 'price': '$5,000', 'url': 'https://newjersey.craigslist.org/msg/d/whippany-minarik-inferno-mirror/7235952585.html'}\n",
      "{'_id': ObjectId('5fbfb641237bd8c7d4848c98'), 'title': 'Snakeskin Electric Guitar RARE', 'price': '$2,000', 'url': 'https://newjersey.craigslist.org/msg/d/whippany-snakeskin-electric-guitar-rare/7235950527.html'}\n",
      "{'_id': ObjectId('5fbfb641237bd8c7d4848c99'), 'title': 'Taylor 314ce acoustic guitar 2012', 'price': '$1,000', 'url': 'https://newjersey.craigslist.org/msg/d/bergenfield-taylor-314ce-acoustic/7226106471.html'}\n",
      "{'_id': ObjectId('5fbfb641237bd8c7d4848c9a'), 'title': 'Jackson 7 String Electric Guitar Green SLATTXMG3', 'price': '$700', 'url': 'https://newjersey.craigslist.org/msg/d/parsippany-jackson-string-electric/7235947549.html'}\n",
      "{'_id': ObjectId('5fbfb641237bd8c7d4848c9b'), 'title': 'Used Wooden Acoustic Guitar', 'price': '$45', 'url': 'https://newjersey.craigslist.org/msg/d/picatinny-arsenal-used-wooden-acoustic/7225669535.html'}\n",
      "{'_id': ObjectId('5fbfb641237bd8c7d4848c9c'), 'title': 'PREOWNED First Act Discovery brand - Small Quality Crafted Guitar', 'price': '$45', 'url': 'https://newjersey.craigslist.org/msg/d/picatinny-arsenal-preowned-first-act/7225670251.html'}\n",
      "{'_id': ObjectId('5fbfb641237bd8c7d4848c9d'), 'title': 'New Takamine EF381SC 12-String Dreadnought Acoustic-Electric Guitar with Hard Ca', 'price': '$1,200', 'url': 'https://newjersey.craigslist.org/msg/d/morristown-new-takamine-ef381sc-12/7234633850.html'}\n",
      "{'_id': ObjectId('5fbfb641237bd8c7d4848c9e'), 'title': 'Fender acoustic guitar w/case', 'price': '$75', 'url': 'https://newjersey.craigslist.org/msg/d/secaucus-fender-acoustic-guitar-case/7235876856.html'}\n",
      "{'_id': ObjectId('5fbfb641237bd8c7d4848c9f'), 'title': \"Vintage 1970's Madeira by Guild A30M Acustic Guitar\", 'price': '$775', 'url': 'https://newjersey.craigslist.org/msg/d/belleville-vintage-1970s-madeira-by/7226645842.html'}\n",
      "{'_id': ObjectId('5fbfb641237bd8c7d4848ca0'), 'title': 'REALLY NICE SAMMICK GUITAR CHECK IT OUT   KOREAN', 'price': '$325', 'url': 'https://newjersey.craigslist.org/msg/d/ringwood-really-nice-sammick-guitar/7234755361.html'}\n",
      "{'_id': ObjectId('5fbfb641237bd8c7d4848ca1'), 'title': 'Fender American Strat Electric Guitar', 'price': '$1,000', 'url': 'https://newjersey.craigslist.org/msg/d/randolph-fender-american-strat-electric/7232022611.html'}\n",
      "{'_id': ObjectId('5fbfb641237bd8c7d4848ca2'), 'title': 'Cort G290 Fat Violin Burst Electric Guitar', 'price': '$700', 'url': 'https://newjersey.craigslist.org/msg/d/doylestown-cort-g290-fat-violin-burst/7232940172.html'}\n",
      "{'_id': ObjectId('5fbfb641237bd8c7d4848ca3'), 'title': '4 x 12 LINE 6 GUITAR CABINET...LOW PRICE $100...NICE!', 'price': '$100', 'url': 'https://newjersey.craigslist.org/msg/d/garwood-x-12-line-guitar-cabinetlow/7234599068.html'}\n",
      "{'_id': ObjectId('5fbfb641237bd8c7d4848ca4'), 'title': 'Yamaha Entera Guitar', 'price': '$75', 'url': 'https://newjersey.craigslist.org/msg/d/lyndhurst-yamaha-entera-guitar/7235421250.html'}\n",
      "{'_id': ObjectId('5fbfb641237bd8c7d4848ca5'), 'title': 'Ibanez SA460QM Electric Guitar Brown Burst with Tremelo Bar', 'price': '$395', 'url': 'https://newjersey.craigslist.org/msg/d/wharton-ibanez-sa460qm-electric-guitar/7225935509.html'}\n",
      "{'_id': ObjectId('5fbfb641237bd8c7d4848ca6'), 'title': \"2003 FENDER Mexican '72 TELECASTER DELUXE Guitar in Mocha Brown\", 'price': '$449', 'url': 'https://newjersey.craigslist.org/msg/d/elizabeth-2003-fender-mexican-72/7232345653.html'}\n",
      "{'_id': ObjectId('5fbfb641237bd8c7d4848ca7'), 'title': 'Ampeg GVT52-112 Tube amp guitar', 'price': '$400', 'url': 'https://newjersey.craigslist.org/msg/d/dover-ampeg-gvt-tube-amp-guitar/7220709275.html'}\n",
      "{'_id': ObjectId('5fbfb641237bd8c7d4848ca8'), 'title': 'Left-Handed Acoustic Guitar & Gig Bag', 'price': '$65', 'url': 'https://newjersey.craigslist.org/msg/d/ridgefield-park-left-handed-acoustic/7226490251.html'}\n",
      "{'_id': ObjectId('5fbfb641237bd8c7d4848ca9'), 'title': 'Guitar Hero World Tour Band Kit Complete Band Game', 'price': '$300', 'url': 'https://newjersey.craigslist.org/vgm/d/hackensack-guitar-hero-world-tour-band/7235059900.html'}\n",
      "{'_id': ObjectId('5fbfb641237bd8c7d4848caa'), 'title': 'Ibanez Electric Guitar Gig Bag', 'price': '$40', 'url': 'https://newjersey.craigslist.org/msg/d/clifton-ibanez-electric-guitar-gig-bag/7219240665.html'}\n",
      "{'_id': ObjectId('5fbfb641237bd8c7d4848cab'), 'title': 'Dean Edge 09 Electric Bass Guitar', 'price': '$175', 'url': 'https://newjersey.craigslist.org/msg/d/union-dean-edge-09-electric-bass-guitar/7228394033.html'}\n",
      "{'_id': ObjectId('5fbfb641237bd8c7d4848cac'), 'title': 'Ibanez Bass Guitar & Fender Bass Amp', 'price': '$150', 'url': 'https://newjersey.craigslist.org/msg/d/sussex-ibanez-bass-guitar-fender-bass/7234831826.html'}\n",
      "{'_id': ObjectId('5fbfb641237bd8c7d4848cad'), 'title': 'DOD 280 Compressor for Guitar - Vintage 1979 - Excellent Condition', 'price': '$120', 'url': 'https://newjersey.craigslist.org/msg/d/livingston-dod-280-compressor-for/7234830697.html'}\n",
      "{'_id': ObjectId('5fbfb641237bd8c7d4848cae'), 'title': 'Guitar Instruction Hal Leonard Guitar Method Book 1 with DVD - New', 'price': '$20', 'url': 'https://newjersey.craigslist.org/msg/d/livingston-guitar-instruction-hal/7234826193.html'}\n",
      "{'_id': ObjectId('5fbfb641237bd8c7d4848caf'), 'title': 'Guitar Instruction Learn Spanish Guitar book with DVD - New', 'price': '$20', 'url': 'https://newjersey.craigslist.org/msg/d/livingston-guitar-instruction-learn/7234826429.html'}\n",
      "{'_id': ObjectId('5fbfb641237bd8c7d4848cb0'), 'title': 'vt guitar amp', 'price': '$225', 'url': 'https://newjersey.craigslist.org/msg/d/peapack-vt-guitar-amp/7234765370.html'}\n",
      "{'_id': ObjectId('5fbfb641237bd8c7d4848cb1'), 'title': 'Yamaha FG740SFM Acoustic Guitar with Case', 'price': '$375', 'url': 'https://newjersey.craigslist.org/msg/d/branchville-yamaha-fg740sfm-acoustic/7234729452.html'}\n",
      "{'_id': ObjectId('5fbfb641237bd8c7d4848cb2'), 'title': 'Bass guitar - 6 string SX J', 'price': '$140', 'url': 'https://newjersey.craigslist.org/msg/d/union-bass-guitar-string-sx/7225092880.html'}\n",
      "{'_id': ObjectId('5fbfb641237bd8c7d4848cb3'), 'title': 'IBANEZ Acoutic Electric Guitar PF5CE-NT-14-05', 'price': '$220', 'url': 'https://newjersey.craigslist.org/msg/d/ridgewood-ibanez-acoutic-electric/7234495478.html'}\n",
      "{'_id': ObjectId('5fbfb641237bd8c7d4848cb4'), 'title': 'Vintage Ovation Matrix 1132-1, Acoustic / Electric Guitar', 'price': '$350', 'url': 'https://newjersey.craigslist.org/msg/d/succasunna-vintage-ovation-matrix/7234471815.html'}\n",
      "{'_id': ObjectId('5fbfb641237bd8c7d4848cb5'), 'title': 'Guitar Hero Band Set for the Wii', 'price': '$50', 'url': 'https://newjersey.craigslist.org/ele/d/scotch-plains-guitar-hero-band-set-for/7234450306.html'}\n",
      "{'_id': ObjectId('5fbfb641237bd8c7d4848cb6'), 'title': 'Fender Champion 30 DSP 2-Channel 30-Watt 1x10\" Guitar Amp', 'price': '$90', 'url': 'https://newjersey.craigslist.org/msg/d/jersey-city-fender-champion-30-dsp/7219032230.html'}\n",
      "{'_id': ObjectId('5fbfb641237bd8c7d4848cb7'), 'title': 'Ashdown Acoustic Radiator 1 Guitar Combo Amp 100W', 'price': '$70', 'url': 'https://newjersey.craigslist.org/msg/d/navesink-ashdown-acoustic-radiator/7234120584.html'}\n",
      "{'_id': ObjectId('5fbfb641237bd8c7d4848cb8'), 'title': 'De Armond Jet Star guitar', 'price': '$350', 'url': 'https://newjersey.craigslist.org/msg/d/hamburg-de-armond-jet-star-guitar/7218525343.html'}\n",
      "{'_id': ObjectId('5fbfb641237bd8c7d4848cb9'), 'title': 'Guitar', 'price': '$800', 'url': 'https://newjersey.craigslist.org/msg/d/mizpah-guitar/7233884550.html'}\n",
      "{'_id': ObjectId('5fbfb641237bd8c7d4848cba'), 'title': 'Randall KH-15 Guitar Amp', 'price': '$75', 'url': 'https://newjersey.craigslist.org/msg/d/bloomfield-randall-kh-15-guitar-amp/7227793508.html'}\n",
      "{'_id': ObjectId('5fbfb641237bd8c7d4848cbb'), 'title': 'Lyon Washburn guitar', 'price': '$80', 'url': 'https://newjersey.craigslist.org/msg/d/dover-lyon-washburn-guitar/7233732633.html'}\n",
      "{'_id': ObjectId('5fbfb641237bd8c7d4848cbc'), 'title': 'Jackson JS22 7 string guitar', 'price': '$150', 'url': 'https://newjersey.craigslist.org/msg/d/sparta-jackson-js22-string-guitar/7233721983.html'}\n",
      "{'_id': ObjectId('5fbfb641237bd8c7d4848cbd'), 'title': 'Peavey ValveKing VK100 100 Watt Guitar Amp Head', 'price': '$350', 'url': 'https://newjersey.craigslist.org/msg/d/randolph-peavey-valveking-vk-watt/7233430580.html'}\n",
      "{'_id': ObjectId('5fbfb641237bd8c7d4848cbe'), 'title': 'Ovation Guitar With Case', 'price': '$1,000', 'url': 'https://newjersey.craigslist.org/msg/d/dover-ovation-guitar-with-case/7233338728.html'}\n",
      "{'_id': ObjectId('5fbfb641237bd8c7d4848cbf'), 'title': 'Fender Pro Reverb 1981 Guitar Amp', 'price': '$600', 'url': 'https://newjersey.craigslist.org/msg/d/jersey-city-fender-pro-reverb-1981/7233157164.html'}\n",
      "{'_id': ObjectId('5fbfb641237bd8c7d4848cc0'), 'title': 'Phaez Handwired PtP 15watt guitar combo', 'price': '$700', 'url': 'https://newjersey.craigslist.org/msg/d/jersey-city-phaez-handwired-ptp-15watt/7224766151.html'}\n",
      "{'_id': ObjectId('5fbfb641237bd8c7d4848cc1'), 'title': 'Epiphone alleykat guitar', 'price': '$400', 'url': 'https://newjersey.craigslist.org/msg/d/hewitt-epiphone-alleykat-guitar/7232992200.html'}\n",
      "{'_id': ObjectId('5fbfb641237bd8c7d4848cc2'), 'title': \"Vintage 1970's Madeira by Guild A30M Acustic Guitar\", 'price': '$775', 'url': 'https://newjersey.craigslist.org/msg/d/belleville-vintage-1970s-madeira-by/7217473240.html'}\n",
      "{'_id': ObjectId('5fbfb641237bd8c7d4848cc3'), 'title': 'Italia Leather Guitar Strap', 'price': '$45', 'url': 'https://newjersey.craigslist.org/msg/d/bergenfield-italia-leather-guitar-strap/7225546608.html'}\n",
      "{'_id': ObjectId('5fbfb641237bd8c7d4848cc4'), 'title': 'Val Dez Acoustic Guitar', 'price': '$125', 'url': 'https://newjersey.craigslist.org/msg/d/bergenfield-val-dez-acoustic-guitar/7232754562.html'}\n",
      "{'_id': ObjectId('5fbfb641237bd8c7d4848cc5'), 'title': 'Samick SAB650 Archtop Guitar', 'price': '$300', 'url': 'https://newjersey.craigslist.org/msg/d/samick-sab650-archtop-guitar/7221840755.html'}\n",
      "{'_id': ObjectId('5fbfb641237bd8c7d4848cc6'), 'title': 'Epiphone Acoustic Guitar', 'price': '$175', 'url': 'https://newjersey.craigslist.org/msg/d/bergenfield-epiphone-acoustic-guitar/7225548449.html'}\n",
      "{'_id': ObjectId('5fbfb641237bd8c7d4848cc7'), 'title': 'Goya T16 Acoustic Guitar', 'price': '$350', 'url': 'https://newjersey.craigslist.org/msg/d/bergenfield-goya-t16-acoustic-guitar/7230954348.html'}\n",
      "{'_id': ObjectId('5fbfb641237bd8c7d4848cc8'), 'title': '6 Guitar Holder', 'price': '$40', 'url': 'https://newjersey.craigslist.org/msg/d/basking-ridge-guitar-holder/7232704321.html'}\n",
      "{'_id': ObjectId('5fbfb641237bd8c7d4848cc9'), 'title': 'BEHRINGER GUITAR 20 WATT. IBANEZ GUITAR 15 WATT .HARTKE 20 WATT BASS', 'price': '$50', 'url': 'https://newjersey.craigslist.org/msg/d/hackensack-behringer-guitar-20-watt/7230370106.html'}\n",
      "{'_id': ObjectId('5fbfb641237bd8c7d4848cca'), 'title': 'Vintage Ibanez Electric Guitar', 'price': '$700', 'url': 'https://newjersey.craigslist.org/msg/d/dover-vintage-ibanez-electric-guitar/7232504451.html'}\n",
      "{'_id': ObjectId('5fbfb641237bd8c7d4848ccb'), 'title': 'Marshall MG10CD guitar practice amp', 'price': '$20', 'url': 'https://newjersey.craigslist.org/msg/d/montclair-marshall-mg10cd-guitar/7229235771.html'}\n",
      "{'_id': ObjectId('5fbfb641237bd8c7d4848ccc'), 'title': 'Fender Vintage 1983 USA Precision Bass Elite II Amazing P-Bass Guitar!', 'price': '$1,990', 'url': 'https://newjersey.craigslist.org/msg/d/demarest-fender-vintage-1983-usa/7217330681.html'}\n",
      "{'_id': ObjectId('5fbfb641237bd8c7d4848ccd'), 'title': 'VINTAGE EMENEE WESTERN TOY FOLK GUITAR', 'price': '$85', 'url': 'https://newjersey.craigslist.org/tag/d/vintage-emenee-western-toy-folk-guitar/7232276667.html'}\n",
      "{'_id': ObjectId('5fbfb641237bd8c7d4848cce'), 'title': 'IBANEZ Gio GAX70 Black Electric Guitar', 'price': '$180', 'url': 'https://newjersey.craigslist.org/msg/d/ridgewood-ibanez-gio-gax70-black/7232268386.html'}\n",
      "{'_id': ObjectId('5fbfb641237bd8c7d4848ccf'), 'title': 'Ibanez Guitar AVAILABLE!!!', 'price': '$180', 'url': 'https://newjersey.craigslist.org/msg/d/west-orange-ibanez-guitar-available/7229656346.html'}\n",
      "{'_id': ObjectId('5fbfb641237bd8c7d4848cd0'), 'title': 'Raven RG20 Guitar Amp', 'price': '$0', 'url': 'https://newjersey.craigslist.org/msg/d/union-raven-rg20-guitar-amp/7232211852.html'}\n",
      "{'_id': ObjectId('5fbfb641237bd8c7d4848cd1'), 'title': 'Gibson Chibson Electric Guitar Flying V', 'price': '$540', 'url': 'https://newjersey.craigslist.org/msg/d/gibson-chibson-electric-guitar-flying/7230032854.html'}\n",
      "{'_id': ObjectId('5fbfb641237bd8c7d4848cd2'), 'title': 'SQUIRE Mini by Fender Stratocaster Electric Guitar', 'price': '$220', 'url': 'https://newjersey.craigslist.org/msg/d/ridgewood-squire-mini-by-fender/7232080103.html'}\n",
      "{'_id': ObjectId('5fbfb641237bd8c7d4848cd3'), 'title': 'Vintage UNIVOX Model U3012 Acoustic Guitar', 'price': '$250', 'url': 'https://newjersey.craigslist.org/msg/d/ridgewood-vintage-univox-model-u3012/7232080527.html'}\n",
      "{'_id': ObjectId('5fbfb641237bd8c7d4848cd4'), 'title': 'SX electric guitar_full size', 'price': '$88', 'url': 'https://newjersey.craigslist.org/msg/d/new-york-sx-electric-guitarfull-size/7232060764.html'}\n",
      "{'_id': ObjectId('5fbfb641237bd8c7d4848cd5'), 'title': 'Ibanez Vintage Electric Guitar', 'price': '$700', 'url': 'https://newjersey.craigslist.org/msg/d/dover-ibanez-vintage-electric-guitar/7230180426.html'}\n"
     ]
    }
   ],
   "source": [
    "# Display items in MongoDB collection\n",
    "listings = db.items.find()\n",
    "\n",
    "for listing in listings:\n",
    "    print(listing)"
   ]
  },
  {
   "cell_type": "code",
   "execution_count": null,
   "metadata": {},
   "outputs": [],
   "source": []
  }
 ],
 "metadata": {
  "kernelspec": {
   "display_name": "Python 3",
   "language": "python",
   "name": "python3"
  },
  "language_info": {
   "codemirror_mode": {
    "name": "ipython",
    "version": 3
   },
   "file_extension": ".py",
   "mimetype": "text/x-python",
   "name": "python",
   "nbconvert_exporter": "python",
   "pygments_lexer": "ipython3",
   "version": "3.6.10"
  },
  "varInspector": {
   "cols": {
    "lenName": 16,
    "lenType": 16,
    "lenVar": 40
   },
   "kernels_config": {
    "python": {
     "delete_cmd_postfix": "",
     "delete_cmd_prefix": "del ",
     "library": "var_list.py",
     "varRefreshCmd": "print(var_dic_list())"
    },
    "r": {
     "delete_cmd_postfix": ") ",
     "delete_cmd_prefix": "rm(",
     "library": "var_list.r",
     "varRefreshCmd": "cat(var_dic_list()) "
    }
   },
   "types_to_exclude": [
    "module",
    "function",
    "builtin_function_or_method",
    "instance",
    "_Feature"
   ],
   "window_display": false
  }
 },
 "nbformat": 4,
 "nbformat_minor": 2
}
