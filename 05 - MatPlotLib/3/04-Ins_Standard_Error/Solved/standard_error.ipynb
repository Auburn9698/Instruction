{
 "cells": [
  {
   "cell_type": "code",
   "execution_count": 1,
   "metadata": {},
   "outputs": [],
   "source": [
    "# Dependencies\n",
    "import pandas as pd\n",
    "import random\n",
    "import matplotlib.pyplot as plt\n",
    "import numpy as np\n",
    "from scipy.stats import sem\n",
    "\n",
    "# Set the seed so our data is reproducible\n",
    "random.seed(42)"
   ]
  },
  {
   "cell_type": "code",
   "execution_count": 2,
   "metadata": {},
   "outputs": [
    {
     "name": "stdout",
     "output_type": "stream",
     "text": [
      "          Type  Combined_MPG                           Make_Model\n",
      "0  Two Seaters       21.0000                            Acura_NSX\n",
      "1  Two Seaters       27.9406                        ALFA ROMEO_4C\n",
      "2  Two Seaters       20.9455  Aston Martin Lagonda Ltd_Vantage V8\n",
      "3  Two Seaters       25.9952             Audi_TT Roadster quattro\n",
      "4  Two Seaters       27.6300                     BMW_Z4 sDrive30i\n"
     ]
    }
   ],
   "source": [
    "# Sample versus population example fuel economy\n",
    "fuel_economy = pd.read_csv('../Resources/2019_fuel_economy.csv')\n",
    "\n",
    "# First overview the data set - how many factors, etc.\n",
    "print(fuel_economy.head())"
   ]
  },
  {
   "cell_type": "code",
   "execution_count": 3,
   "metadata": {},
   "outputs": [
    {
     "data": {
      "text/html": [
       "<div>\n",
       "<style scoped>\n",
       "    .dataframe tbody tr th:only-of-type {\n",
       "        vertical-align: middle;\n",
       "    }\n",
       "\n",
       "    .dataframe tbody tr th {\n",
       "        vertical-align: top;\n",
       "    }\n",
       "\n",
       "    .dataframe thead th {\n",
       "        text-align: right;\n",
       "    }\n",
       "</style>\n",
       "<table border=\"1\" class=\"dataframe\">\n",
       "  <thead>\n",
       "    <tr style=\"text-align: right;\">\n",
       "      <th></th>\n",
       "      <th>Type</th>\n",
       "      <th>Combined_MPG</th>\n",
       "      <th>Make_Model</th>\n",
       "    </tr>\n",
       "  </thead>\n",
       "  <tbody>\n",
       "    <tr>\n",
       "      <th>0</th>\n",
       "      <td>Two Seaters</td>\n",
       "      <td>21.0000</td>\n",
       "      <td>Acura_NSX</td>\n",
       "    </tr>\n",
       "    <tr>\n",
       "      <th>1</th>\n",
       "      <td>Two Seaters</td>\n",
       "      <td>27.9406</td>\n",
       "      <td>ALFA ROMEO_4C</td>\n",
       "    </tr>\n",
       "    <tr>\n",
       "      <th>2</th>\n",
       "      <td>Two Seaters</td>\n",
       "      <td>20.9455</td>\n",
       "      <td>Aston Martin Lagonda Ltd_Vantage V8</td>\n",
       "    </tr>\n",
       "    <tr>\n",
       "      <th>3</th>\n",
       "      <td>Two Seaters</td>\n",
       "      <td>25.9952</td>\n",
       "      <td>Audi_TT Roadster quattro</td>\n",
       "    </tr>\n",
       "    <tr>\n",
       "      <th>4</th>\n",
       "      <td>Two Seaters</td>\n",
       "      <td>27.6300</td>\n",
       "      <td>BMW_Z4 sDrive30i</td>\n",
       "    </tr>\n",
       "    <tr>\n",
       "      <th>...</th>\n",
       "      <td>...</td>\n",
       "      <td>...</td>\n",
       "      <td>...</td>\n",
       "    </tr>\n",
       "    <tr>\n",
       "      <th>1237</th>\n",
       "      <td>Standard SUV 4WD</td>\n",
       "      <td>14.9298</td>\n",
       "      <td>TOYOTA_LAND CRUISER WAGON 4WD</td>\n",
       "    </tr>\n",
       "    <tr>\n",
       "      <th>1238</th>\n",
       "      <td>Standard SUV 4WD</td>\n",
       "      <td>14.4037</td>\n",
       "      <td>TOYOTA_SEQUOIA 4WD</td>\n",
       "    </tr>\n",
       "    <tr>\n",
       "      <th>1239</th>\n",
       "      <td>Standard SUV 4WD</td>\n",
       "      <td>19.2827</td>\n",
       "      <td>Volkswagen_Atlas 4Motion</td>\n",
       "    </tr>\n",
       "    <tr>\n",
       "      <th>1240</th>\n",
       "      <td>Standard SUV 4WD</td>\n",
       "      <td>22.0007</td>\n",
       "      <td>Volvo Cars of North America, LLC_XC90 AWD</td>\n",
       "    </tr>\n",
       "    <tr>\n",
       "      <th>1241</th>\n",
       "      <td>Standard SUV 4WD</td>\n",
       "      <td>22.7494</td>\n",
       "      <td>Volvo Cars of North America, LLC_XC90 AWD</td>\n",
       "    </tr>\n",
       "  </tbody>\n",
       "</table>\n",
       "<p>1242 rows × 3 columns</p>\n",
       "</div>"
      ],
      "text/plain": [
       "                  Type  Combined_MPG  \\\n",
       "0          Two Seaters       21.0000   \n",
       "1          Two Seaters       27.9406   \n",
       "2          Two Seaters       20.9455   \n",
       "3          Two Seaters       25.9952   \n",
       "4          Two Seaters       27.6300   \n",
       "...                ...           ...   \n",
       "1237  Standard SUV 4WD       14.9298   \n",
       "1238  Standard SUV 4WD       14.4037   \n",
       "1239  Standard SUV 4WD       19.2827   \n",
       "1240  Standard SUV 4WD       22.0007   \n",
       "1241  Standard SUV 4WD       22.7494   \n",
       "\n",
       "                                     Make_Model  \n",
       "0                                     Acura_NSX  \n",
       "1                                 ALFA ROMEO_4C  \n",
       "2           Aston Martin Lagonda Ltd_Vantage V8  \n",
       "3                      Audi_TT Roadster quattro  \n",
       "4                              BMW_Z4 sDrive30i  \n",
       "...                                         ...  \n",
       "1237              TOYOTA_LAND CRUISER WAGON 4WD  \n",
       "1238                         TOYOTA_SEQUOIA 4WD  \n",
       "1239                   Volkswagen_Atlas 4Motion  \n",
       "1240  Volvo Cars of North America, LLC_XC90 AWD  \n",
       "1241  Volvo Cars of North America, LLC_XC90 AWD  \n",
       "\n",
       "[1242 rows x 3 columns]"
      ]
     },
     "execution_count": 3,
     "metadata": {},
     "output_type": "execute_result"
    }
   ],
   "source": [
    "fuel_economy"
   ]
  },
  {
   "cell_type": "code",
   "execution_count": 4,
   "metadata": {},
   "outputs": [
    {
     "data": {
      "text/html": [
       "<div>\n",
       "<style scoped>\n",
       "    .dataframe tbody tr th:only-of-type {\n",
       "        vertical-align: middle;\n",
       "    }\n",
       "\n",
       "    .dataframe tbody tr th {\n",
       "        vertical-align: top;\n",
       "    }\n",
       "\n",
       "    .dataframe thead th {\n",
       "        text-align: right;\n",
       "    }\n",
       "</style>\n",
       "<table border=\"1\" class=\"dataframe\">\n",
       "  <thead>\n",
       "    <tr style=\"text-align: right;\">\n",
       "      <th></th>\n",
       "      <th>Type</th>\n",
       "      <th>Combined_MPG</th>\n",
       "      <th>Make_Model</th>\n",
       "    </tr>\n",
       "  </thead>\n",
       "  <tbody>\n",
       "    <tr>\n",
       "      <th>5</th>\n",
       "      <td>Two Seaters</td>\n",
       "      <td>10.5921</td>\n",
       "      <td>Bugatti_Chiron</td>\n",
       "    </tr>\n",
       "  </tbody>\n",
       "</table>\n",
       "</div>"
      ],
      "text/plain": [
       "          Type  Combined_MPG      Make_Model\n",
       "5  Two Seaters       10.5921  Bugatti_Chiron"
      ]
     },
     "execution_count": 4,
     "metadata": {},
     "output_type": "execute_result"
    }
   ],
   "source": [
    "fuel_economy[fuel_economy.Combined_MPG == fuel_economy[\"Combined_MPG\"].min()]"
   ]
  },
  {
   "cell_type": "code",
   "execution_count": 5,
   "metadata": {},
   "outputs": [
    {
     "name": "stdout",
     "output_type": "stream",
     "text": [
      "The mean MPG of all vehicles is: 23.33\n",
      "The standard deviation of all vehicle's MPG is: 5.94\n"
     ]
    },
    {
     "data": {
      "image/png": "[encoded data removed]",
      "text/plain": [
       "<Figure size 432x288 with 1 Axes>"
      ]
     },
     "metadata": {
      "needs_background": "light"
     },
     "output_type": "display_data"
    }
   ],
   "source": [
    "# Calculate the summary statistics and plot the histogram of the entire population data\n",
    "print(f\"The mean MPG of all vehicles is: {round(fuel_economy.Combined_MPG.mean(),2)}\")\n",
    "print(f\"The standard deviation of all vehicle's MPG is: {round(fuel_economy.Combined_MPG.std(),2)}\")\n",
    "plt.hist(fuel_economy.Combined_MPG)\n",
    "plt.xlabel(\"Fuel Economy (MPG)\")\n",
    "plt.ylabel(\"Number of Vehicles\")\n",
    "plt.show()"
   ]
  },
  {
   "cell_type": "code",
   "execution_count": 6,
   "metadata": {},
   "outputs": [
    {
     "name": "stdout",
     "output_type": "stream",
     "text": [
      "The mean MPG of all vehicles is: 18.48\n",
      "The standard deviation of all vehicle's MPG is: 2.41\n"
     ]
    },
    {
     "data": {
      "image/png": "[encoded data removed]",
      "text/plain": [
       "<Figure size 432x288 with 1 Axes>"
      ]
     },
     "metadata": {
      "needs_background": "light"
     },
     "output_type": "display_data"
    }
   ],
   "source": [
    "# Calculate the summary statistics and plot the histogram of the sample data using iloc\n",
    "subset = fuel_economy.iloc[range(766,856)]\n",
    "print(f\"The mean MPG of all vehicles is: {round(subset.Combined_MPG.mean(),2)}\")\n",
    "print(f\"The standard deviation of all vehicle's MPG is: {round(subset.Combined_MPG.std(),2)}\")\n",
    "plt.hist(subset.Combined_MPG)\n",
    "plt.xlabel(\"Fuel Economy (MPG)\")\n",
    "plt.ylabel(\"Number of Vehicles\")\n",
    "plt.show()"
   ]
  },
  {
   "cell_type": "code",
   "execution_count": 7,
   "metadata": {},
   "outputs": [
    {
     "data": {
      "text/html": [
       "<div>\n",
       "<style scoped>\n",
       "    .dataframe tbody tr th:only-of-type {\n",
       "        vertical-align: middle;\n",
       "    }\n",
       "\n",
       "    .dataframe tbody tr th {\n",
       "        vertical-align: top;\n",
       "    }\n",
       "\n",
       "    .dataframe thead th {\n",
       "        text-align: right;\n",
       "    }\n",
       "</style>\n",
       "<table border=\"1\" class=\"dataframe\">\n",
       "  <thead>\n",
       "    <tr style=\"text-align: right;\">\n",
       "      <th></th>\n",
       "      <th>Type</th>\n",
       "      <th>Combined_MPG</th>\n",
       "      <th>Make_Model</th>\n",
       "    </tr>\n",
       "  </thead>\n",
       "  <tbody>\n",
       "    <tr>\n",
       "      <th>766</th>\n",
       "      <td>Standard Pick-up Trucks 2WD</td>\n",
       "      <td>17.4787</td>\n",
       "      <td>Chevrolet_C10 SILVERADO 2WD</td>\n",
       "    </tr>\n",
       "    <tr>\n",
       "      <th>767</th>\n",
       "      <td>Standard Pick-up Trucks 2WD</td>\n",
       "      <td>16.8203</td>\n",
       "      <td>Chevrolet_C10 SILVERADO 2WD</td>\n",
       "    </tr>\n",
       "    <tr>\n",
       "      <th>768</th>\n",
       "      <td>Standard Pick-up Trucks 2WD</td>\n",
       "      <td>16.9515</td>\n",
       "      <td>Chevrolet_C10 SILVERADO 2WD</td>\n",
       "    </tr>\n",
       "    <tr>\n",
       "      <th>769</th>\n",
       "      <td>Standard Pick-up Trucks 2WD</td>\n",
       "      <td>19.4955</td>\n",
       "      <td>Chevrolet_C10 SILVERADO 2WD</td>\n",
       "    </tr>\n",
       "    <tr>\n",
       "      <th>770</th>\n",
       "      <td>Standard Pick-up Trucks 2WD</td>\n",
       "      <td>18.9908</td>\n",
       "      <td>Chevrolet_C10 SILVERADO 2WD</td>\n",
       "    </tr>\n",
       "    <tr>\n",
       "      <th>...</th>\n",
       "      <td>...</td>\n",
       "      <td>...</td>\n",
       "      <td>...</td>\n",
       "    </tr>\n",
       "    <tr>\n",
       "      <th>851</th>\n",
       "      <td>Standard Pick-up Trucks 4WD</td>\n",
       "      <td>12.1700</td>\n",
       "      <td>Roush Industries, Inc._F150 Pickup 4WD</td>\n",
       "    </tr>\n",
       "    <tr>\n",
       "      <th>852</th>\n",
       "      <td>Standard Pick-up Trucks 4WD</td>\n",
       "      <td>15.8533</td>\n",
       "      <td>TOYOTA_TUNDRA 4WD</td>\n",
       "    </tr>\n",
       "    <tr>\n",
       "      <th>853</th>\n",
       "      <td>Standard Pick-up Trucks 4WD</td>\n",
       "      <td>14.4679</td>\n",
       "      <td>TOYOTA_TUNDRA 4WD</td>\n",
       "    </tr>\n",
       "    <tr>\n",
       "      <th>854</th>\n",
       "      <td>Standard Pick-up Trucks 4WD</td>\n",
       "      <td>14.6162</td>\n",
       "      <td>TOYOTA_TUNDRA 4WD FFV</td>\n",
       "    </tr>\n",
       "    <tr>\n",
       "      <th>855</th>\n",
       "      <td>Vans, Passenger Type</td>\n",
       "      <td>16.1024</td>\n",
       "      <td>Ford_Transit T150 Wagon</td>\n",
       "    </tr>\n",
       "  </tbody>\n",
       "</table>\n",
       "<p>90 rows × 3 columns</p>\n",
       "</div>"
      ],
      "text/plain": [
       "                            Type  Combined_MPG  \\\n",
       "766  Standard Pick-up Trucks 2WD       17.4787   \n",
       "767  Standard Pick-up Trucks 2WD       16.8203   \n",
       "768  Standard Pick-up Trucks 2WD       16.9515   \n",
       "769  Standard Pick-up Trucks 2WD       19.4955   \n",
       "770  Standard Pick-up Trucks 2WD       18.9908   \n",
       "..                           ...           ...   \n",
       "851  Standard Pick-up Trucks 4WD       12.1700   \n",
       "852  Standard Pick-up Trucks 4WD       15.8533   \n",
       "853  Standard Pick-up Trucks 4WD       14.4679   \n",
       "854  Standard Pick-up Trucks 4WD       14.6162   \n",
       "855         Vans, Passenger Type       16.1024   \n",
       "\n",
       "                                 Make_Model  \n",
       "766             Chevrolet_C10 SILVERADO 2WD  \n",
       "767             Chevrolet_C10 SILVERADO 2WD  \n",
       "768             Chevrolet_C10 SILVERADO 2WD  \n",
       "769             Chevrolet_C10 SILVERADO 2WD  \n",
       "770             Chevrolet_C10 SILVERADO 2WD  \n",
       "..                                      ...  \n",
       "851  Roush Industries, Inc._F150 Pickup 4WD  \n",
       "852                       TOYOTA_TUNDRA 4WD  \n",
       "853                       TOYOTA_TUNDRA 4WD  \n",
       "854                   TOYOTA_TUNDRA 4WD FFV  \n",
       "855                 Ford_Transit T150 Wagon  \n",
       "\n",
       "[90 rows x 3 columns]"
      ]
     },
     "execution_count": 7,
     "metadata": {},
     "output_type": "execute_result"
    }
   ],
   "source": [
    "subset"
   ]
  },
  {
   "cell_type": "code",
   "execution_count": 8,
   "metadata": {},
   "outputs": [
    {
     "name": "stdout",
     "output_type": "stream",
     "text": [
      "The mean MPG of all vehicles is: 22.96\n",
      "The standard deviation of all vehicle's MPG is: 5.49\n"
     ]
    },
    {
     "data": {
      "image/png": "[encoded data removed]",
      "text/plain": [
       "<Figure size 432x288 with 1 Axes>"
      ]
     },
     "metadata": {
      "needs_background": "light"
     },
     "output_type": "display_data"
    }
   ],
   "source": [
    "# Calculate the summary statistics and plot the histogram of the sample data using random sampling\n",
    "\n",
    "subset = fuel_economy.sample(90)\n",
    "print(f\"The mean MPG of all vehicles is: {round(subset.Combined_MPG.mean(),2)}\")\n",
    "print(f\"The standard deviation of all vehicle's MPG is: {round(subset.Combined_MPG.std(),2)}\")\n",
    "plt.hist(subset.Combined_MPG)\n",
    "plt.xlabel(\"Fuel Economy (MPG)\")\n",
    "plt.ylabel(\"Number of Vehicles\")\n",
    "plt.show()"
   ]
  },
  {
   "cell_type": "code",
   "execution_count": 9,
   "metadata": {},
   "outputs": [
    {
     "data": {
      "text/html": [
       "<div>\n",
       "<style scoped>\n",
       "    .dataframe tbody tr th:only-of-type {\n",
       "        vertical-align: middle;\n",
       "    }\n",
       "\n",
       "    .dataframe tbody tr th {\n",
       "        vertical-align: top;\n",
       "    }\n",
       "\n",
       "    .dataframe thead th {\n",
       "        text-align: right;\n",
       "    }\n",
       "</style>\n",
       "<table border=\"1\" class=\"dataframe\">\n",
       "  <thead>\n",
       "    <tr style=\"text-align: right;\">\n",
       "      <th></th>\n",
       "      <th>Type</th>\n",
       "      <th>Combined_MPG</th>\n",
       "      <th>Make_Model</th>\n",
       "    </tr>\n",
       "  </thead>\n",
       "  <tbody>\n",
       "    <tr>\n",
       "      <th>551</th>\n",
       "      <td>Midsize Cars</td>\n",
       "      <td>26.2235</td>\n",
       "      <td>Subaru_IMPREZA 4-Door SPORT</td>\n",
       "    </tr>\n",
       "    <tr>\n",
       "      <th>1170</th>\n",
       "      <td>Standard SUV 4WD</td>\n",
       "      <td>20.7213</td>\n",
       "      <td>Ford_EXPLORER AWD</td>\n",
       "    </tr>\n",
       "    <tr>\n",
       "      <th>724</th>\n",
       "      <td>Midsize Station Wagons</td>\n",
       "      <td>22.9256</td>\n",
       "      <td>NISSAN_MURANO AWD</td>\n",
       "    </tr>\n",
       "    <tr>\n",
       "      <th>1074</th>\n",
       "      <td>Small SUV 4WD</td>\n",
       "      <td>21.2438</td>\n",
       "      <td>Lincoln_NAUTILUS AWD</td>\n",
       "    </tr>\n",
       "    <tr>\n",
       "      <th>174</th>\n",
       "      <td>Subcompact Cars</td>\n",
       "      <td>23.8270</td>\n",
       "      <td>Buick_CASCADA</td>\n",
       "    </tr>\n",
       "    <tr>\n",
       "      <th>...</th>\n",
       "      <td>...</td>\n",
       "      <td>...</td>\n",
       "      <td>...</td>\n",
       "    </tr>\n",
       "    <tr>\n",
       "      <th>1027</th>\n",
       "      <td>Small SUV 4WD</td>\n",
       "      <td>21.6925</td>\n",
       "      <td>INFINITI_QX60 AWD</td>\n",
       "    </tr>\n",
       "    <tr>\n",
       "      <th>520</th>\n",
       "      <td>Midsize Cars</td>\n",
       "      <td>27.2554</td>\n",
       "      <td>Mini_COOPER COUNTRYMAN</td>\n",
       "    </tr>\n",
       "    <tr>\n",
       "      <th>502</th>\n",
       "      <td>Midsize Cars</td>\n",
       "      <td>18.7251</td>\n",
       "      <td>MASERATI_Ghibli  S RWD</td>\n",
       "    </tr>\n",
       "    <tr>\n",
       "      <th>997</th>\n",
       "      <td>Small SUV 4WD</td>\n",
       "      <td>20.9246</td>\n",
       "      <td>Cadillac_XT5 AWD</td>\n",
       "    </tr>\n",
       "    <tr>\n",
       "      <th>474</th>\n",
       "      <td>Midsize Cars</td>\n",
       "      <td>26.6728</td>\n",
       "      <td>Jaguar_XF AWD</td>\n",
       "    </tr>\n",
       "  </tbody>\n",
       "</table>\n",
       "<p>90 rows × 3 columns</p>\n",
       "</div>"
      ],
      "text/plain": [
       "                        Type  Combined_MPG                   Make_Model\n",
       "551             Midsize Cars       26.2235  Subaru_IMPREZA 4-Door SPORT\n",
       "1170        Standard SUV 4WD       20.7213            Ford_EXPLORER AWD\n",
       "724   Midsize Station Wagons       22.9256            NISSAN_MURANO AWD\n",
       "1074           Small SUV 4WD       21.2438         Lincoln_NAUTILUS AWD\n",
       "174          Subcompact Cars       23.8270                Buick_CASCADA\n",
       "...                      ...           ...                          ...\n",
       "1027           Small SUV 4WD       21.6925            INFINITI_QX60 AWD\n",
       "520             Midsize Cars       27.2554       Mini_COOPER COUNTRYMAN\n",
       "502             Midsize Cars       18.7251       MASERATI_Ghibli  S RWD\n",
       "997            Small SUV 4WD       20.9246             Cadillac_XT5 AWD\n",
       "474             Midsize Cars       26.6728                Jaguar_XF AWD\n",
       "\n",
       "[90 rows x 3 columns]"
      ]
     },
     "execution_count": 9,
     "metadata": {},
     "output_type": "execute_result"
    }
   ],
   "source": [
    "subset"
   ]
  },
  {
   "cell_type": "code",
   "execution_count": 25,
   "metadata": {},
   "outputs": [
    {
     "name": "stdout",
     "output_type": "stream",
     "text": [
      "The SEM value for the sample fuel economy data is 1.1527874067009387\n"
     ]
    }
   ],
   "source": [
    "# Generate a new 30 vehicle sample and calculate the SEM of the sample\n",
    "sample = fuel_economy.sample(30)\n",
    "print(f\"The SEM value for the sample fuel economy data is {sem(sample.Combined_MPG)}\")"
   ]
  },
  {
   "cell_type": "code",
   "execution_count": 19,
   "metadata": {},
   "outputs": [
    {
     "data": {
      "text/html": [
       "<div>\n",
       "<style scoped>\n",
       "    .dataframe tbody tr th:only-of-type {\n",
       "        vertical-align: middle;\n",
       "    }\n",
       "\n",
       "    .dataframe tbody tr th {\n",
       "        vertical-align: top;\n",
       "    }\n",
       "\n",
       "    .dataframe thead th {\n",
       "        text-align: right;\n",
       "    }\n",
       "</style>\n",
       "<table border=\"1\" class=\"dataframe\">\n",
       "  <thead>\n",
       "    <tr style=\"text-align: right;\">\n",
       "      <th></th>\n",
       "      <th>Type</th>\n",
       "      <th>Combined_MPG</th>\n",
       "      <th>Make_Model</th>\n",
       "    </tr>\n",
       "  </thead>\n",
       "  <tbody>\n",
       "    <tr>\n",
       "      <th>141</th>\n",
       "      <td>Subcompact Cars</td>\n",
       "      <td>27.1178</td>\n",
       "      <td>Audi_A5 quattro</td>\n",
       "    </tr>\n",
       "    <tr>\n",
       "      <th>722</th>\n",
       "      <td>Midsize Station Wagons</td>\n",
       "      <td>24.5243</td>\n",
       "      <td>Mercedes-Benz_AMG GLA 45 4MATIC</td>\n",
       "    </tr>\n",
       "    <tr>\n",
       "      <th>468</th>\n",
       "      <td>Midsize Cars</td>\n",
       "      <td>20.1125</td>\n",
       "      <td>INFINITI_Q70 AWD</td>\n",
       "    </tr>\n",
       "    <tr>\n",
       "      <th>568</th>\n",
       "      <td>Midsize Cars</td>\n",
       "      <td>34.0354</td>\n",
       "      <td>TOYOTA_COROLLA LE ECO</td>\n",
       "    </tr>\n",
       "    <tr>\n",
       "      <th>227</th>\n",
       "      <td>Subcompact Cars</td>\n",
       "      <td>24.8683</td>\n",
       "      <td>Mercedes-Benz_C 300 (Coupe)</td>\n",
       "    </tr>\n",
       "  </tbody>\n",
       "</table>\n",
       "</div>"
      ],
      "text/plain": [
       "                       Type  Combined_MPG                       Make_Model\n",
       "141         Subcompact Cars       27.1178                  Audi_A5 quattro\n",
       "722  Midsize Station Wagons       24.5243  Mercedes-Benz_AMG GLA 45 4MATIC\n",
       "468            Midsize Cars       20.1125                 INFINITI_Q70 AWD\n",
       "568            Midsize Cars       34.0354            TOYOTA_COROLLA LE ECO\n",
       "227         Subcompact Cars       24.8683      Mercedes-Benz_C 300 (Coupe)"
      ]
     },
     "execution_count": 19,
     "metadata": {},
     "output_type": "execute_result"
    }
   ],
   "source": [
    "sample.head()"
   ]
  },
  {
   "cell_type": "code",
   "execution_count": 20,
   "metadata": {},
   "outputs": [
    {
     "data": {
      "text/plain": [
       "1242"
      ]
     },
     "execution_count": 20,
     "metadata": {},
     "output_type": "execute_result"
    }
   ],
   "source": [
    "len(fuel_economy)"
   ]
  },
  {
   "cell_type": "code",
   "execution_count": 21,
   "metadata": {},
   "outputs": [],
   "source": [
    "# Create a sample set of 10, each with 30 vehicles\n",
    "vehicle_sample_set = [fuel_economy.sample(30) for x in range(0,10)]"
   ]
  },
  {
   "cell_type": "code",
   "execution_count": 22,
   "metadata": {},
   "outputs": [],
   "source": [
    "# Generate the plot data for each sample \n",
    "means = [sample.Combined_MPG.mean() for sample in vehicle_sample_set]\n",
    "standard_errors = [sem(sample.Combined_MPG) for sample in vehicle_sample_set]\n",
    "x_axis = np.arange(0, len(vehicle_sample_set), 1) + 1"
   ]
  },
  {
   "cell_type": "code",
   "execution_count": 23,
   "metadata": {},
   "outputs": [
    {
     "data": {
      "text/plain": [
       "[0.8144414015384082,\n",
       " 1.2206693665456623,\n",
       " 0.8920181395291477,\n",
       " 0.730199588200933,\n",
       " 0.8433765706684593,\n",
       " 1.0325258178080727,\n",
       " 0.8521174740458791,\n",
       " 0.7386798296176145,\n",
       " 1.1302263518157316,\n",
       " 1.294037126354833]"
      ]
     },
     "execution_count": 23,
     "metadata": {},
     "output_type": "execute_result"
    }
   ],
   "source": [
    "standard_errors"
   ]
  },
  {
   "cell_type": "code",
   "execution_count": 24,
   "metadata": {},
   "outputs": [
    {
     "data": {
      "image/png": "[encoded data removed]",
      "text/plain": [
       "<Figure size 432x288 with 1 Axes>"
      ]
     },
     "metadata": {
      "needs_background": "light"
     },
     "output_type": "display_data"
    }
   ],
   "source": [
    "# Setting up the plot\n",
    "fig, ax = plt.subplots()\n",
    "ax.errorbar(x_axis, means, standard_errors, fmt=\"o\")\n",
    "ax.set_xlim(0, len(vehicle_sample_set) + 1)\n",
    "ax.set_ylim(20,28)\n",
    "ax.set_xlabel(\"Sample Number\")\n",
    "ax.set_ylabel(\"Mean MPG\")\n",
    "plt.show()"
   ]
  },
  {
   "cell_type": "code",
   "execution_count": null,
   "metadata": {},
   "outputs": [],
   "source": []
  }
 ],
 "metadata": {
  "kernelspec": {
   "display_name": "Python 3",
   "language": "python",
   "name": "python3"
  },
  "language_info": {
   "codemirror_mode": {
    "name": "ipython",
    "version": 3
   },
   "file_extension": ".py",
   "mimetype": "text/x-python",
   "name": "python",
   "nbconvert_exporter": "python",
   "pygments_lexer": "ipython3",
   "version": "3.8.3"
  }
 },
 "nbformat": 4,
 "nbformat_minor": 2
}
