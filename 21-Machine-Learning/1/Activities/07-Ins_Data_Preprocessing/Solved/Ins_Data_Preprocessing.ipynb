{
 "cells": [
  {
   "cell_type": "markdown",
   "metadata": {
    "slideshow": {
     "slide_type": "slide"
    }
   },
   "source": [
    "# Cleaning and Preprocessing Data for Machine Learning"
   ]
  },
  {
   "cell_type": "code",
   "execution_count": 1,
   "metadata": {
    "slideshow": {
     "slide_type": "slide"
    }
   },
   "outputs": [],
   "source": [
    "import warnings\n",
    "warnings.simplefilter('ignore')\n",
    "\n",
    "# %matplotlib inline\n",
    "import matplotlib.pyplot as plt\n",
    "import numpy as np\n",
    "import pandas as pd"
   ]
  },
  {
   "cell_type": "markdown",
   "metadata": {
    "slideshow": {
     "slide_type": "subslide"
    }
   },
   "source": [
    "# Dataset:  brain_categorical.csv\n",
    "\n",
    "Source: R.J. Gladstone (1905). \"A Study of the Relations of the Brain to\n",
    "to the Size of the Head\", Biometrika, Vol. 4, pp105-123\n",
    "\n",
    "Description: Brain weight (grams) and head size (cubic cm) for 237\n",
    "adults classified by gender and age group.\n",
    "\n",
    "Variables/Columns\n",
    "GENDER: Gender  Male or Female\n",
    "AGE: Age Range  20-46 or 46+\n",
    "SIZE: Head size (cm^3)  21-24\n",
    "WEIGHT: Brain weight (grams)  29-32\n",
    "\n"
   ]
  },
  {
   "cell_type": "code",
   "execution_count": 2,
   "metadata": {
    "slideshow": {
     "slide_type": "subslide"
    }
   },
   "outputs": [
    {
     "data": {
      "text/html": [
       "<div>\n",
       "<style scoped>\n",
       "    .dataframe tbody tr th:only-of-type {\n",
       "        vertical-align: middle;\n",
       "    }\n",
       "\n",
       "    .dataframe tbody tr th {\n",
       "        vertical-align: top;\n",
       "    }\n",
       "\n",
       "    .dataframe thead th {\n",
       "        text-align: right;\n",
       "    }\n",
       "</style>\n",
       "<table border=\"1\" class=\"dataframe\">\n",
       "  <thead>\n",
       "    <tr style=\"text-align: right;\">\n",
       "      <th></th>\n",
       "      <th>gender</th>\n",
       "      <th>age</th>\n",
       "      <th>size</th>\n",
       "      <th>weight</th>\n",
       "    </tr>\n",
       "  </thead>\n",
       "  <tbody>\n",
       "    <tr>\n",
       "      <th>0</th>\n",
       "      <td>Male</td>\n",
       "      <td>20-46</td>\n",
       "      <td>4512</td>\n",
       "      <td>1530</td>\n",
       "    </tr>\n",
       "    <tr>\n",
       "      <th>1</th>\n",
       "      <td>Male</td>\n",
       "      <td>20-46</td>\n",
       "      <td>3738</td>\n",
       "      <td>1297</td>\n",
       "    </tr>\n",
       "    <tr>\n",
       "      <th>2</th>\n",
       "      <td>Male</td>\n",
       "      <td>20-46</td>\n",
       "      <td>4261</td>\n",
       "      <td>1335</td>\n",
       "    </tr>\n",
       "    <tr>\n",
       "      <th>3</th>\n",
       "      <td>Male</td>\n",
       "      <td>20-46</td>\n",
       "      <td>3777</td>\n",
       "      <td>1282</td>\n",
       "    </tr>\n",
       "    <tr>\n",
       "      <th>4</th>\n",
       "      <td>Male</td>\n",
       "      <td>20-46</td>\n",
       "      <td>4177</td>\n",
       "      <td>1590</td>\n",
       "    </tr>\n",
       "  </tbody>\n",
       "</table>\n",
       "</div>"
      ],
      "text/plain": [
       "  gender    age  size  weight\n",
       "0   Male  20-46  4512    1530\n",
       "1   Male  20-46  3738    1297\n",
       "2   Male  20-46  4261    1335\n",
       "3   Male  20-46  3777    1282\n",
       "4   Male  20-46  4177    1590"
      ]
     },
     "execution_count": 2,
     "metadata": {},
     "output_type": "execute_result"
    }
   ],
   "source": [
    "# Read the csv file into a pandas DataFrame\n",
    "\n",
    "brain = pd.read_csv('../Resources/brain_categorical.csv')\n",
    "brain.head()"
   ]
  },
  {
   "cell_type": "code",
   "execution_count": 3,
   "metadata": {
    "slideshow": {
     "slide_type": "subslide"
    }
   },
   "outputs": [
    {
     "name": "stdout",
     "output_type": "stream",
     "text": [
      "(237, 3) (237, 1)\n"
     ]
    }
   ],
   "source": [
    "X = brain[[\"gender\", \"age\", \"size\"]]\n",
    "y = brain[\"weight\"].values.reshape(-1, 1)\n",
    "print(X.shape, y.shape)"
   ]
  },
  {
   "cell_type": "code",
   "execution_count": 4,
   "metadata": {},
   "outputs": [
    {
     "data": {
      "text/plain": [
       "array([['Male', '20-46', 4512],\n",
       "       ['Male', '20-46', 3738],\n",
       "       ['Male', '20-46', 4261],\n",
       "       ['Male', '20-46', 3777],\n",
       "       ['Male', '20-46', 4177],\n",
       "       ['Male', '20-46', 3585],\n",
       "       ['Male', '20-46', 3785],\n",
       "       ['Male', '20-46', 3559],\n",
       "       ['Male', '20-46', 3613],\n",
       "       ['Male', '20-46', 3982],\n",
       "       ['Male', '20-46', 3443],\n",
       "       ['Male', '20-46', 3993],\n",
       "       ['Male', '20-46', 3640],\n",
       "       ['Male', '20-46', 4208],\n",
       "       ['Male', '20-46', 3832],\n",
       "       ['Male', '20-46', 3876],\n",
       "       ['Male', '20-46', 3497],\n",
       "       ['Male', '20-46', 3466],\n",
       "       ['Male', '20-46', 3095],\n",
       "       ['Male', '20-46', 4424],\n",
       "       ['Male', '20-46', 3878],\n",
       "       ['Male', '20-46', 4046],\n",
       "       ['Male', '20-46', 3804],\n",
       "       ['Male', '20-46', 3710],\n",
       "       ['Male', '20-46', 4747],\n",
       "       ['Male', '20-46', 4423],\n",
       "       ['Male', '20-46', 4036],\n",
       "       ['Male', '20-46', 4022],\n",
       "       ['Male', '20-46', 3454],\n",
       "       ['Male', '20-46', 4175],\n",
       "       ['Male', '20-46', 3787],\n",
       "       ['Male', '20-46', 3796],\n",
       "       ['Male', '20-46', 4103],\n",
       "       ['Male', '20-46', 4161],\n",
       "       ['Male', '20-46', 4158],\n",
       "       ['Male', '20-46', 3814],\n",
       "       ['Male', '20-46', 3527],\n",
       "       ['Male', '20-46', 3748],\n",
       "       ['Male', '20-46', 3334],\n",
       "       ['Male', '20-46', 3492],\n",
       "       ['Male', '20-46', 3962],\n",
       "       ['Male', '20-46', 3505],\n",
       "       ['Male', '20-46', 4315],\n",
       "       ['Male', '20-46', 3804],\n",
       "       ['Male', '20-46', 3863],\n",
       "       ['Male', '20-46', 4034],\n",
       "       ['Male', '20-46', 4308],\n",
       "       ['Male', '20-46', 3165],\n",
       "       ['Male', '20-46', 3641],\n",
       "       ['Male', '20-46', 3644],\n",
       "       ['Male', '20-46', 3891],\n",
       "       ['Male', '20-46', 3793],\n",
       "       ['Male', '20-46', 4270],\n",
       "       ['Male', '20-46', 4063],\n",
       "       ['Male', '20-46', 4012],\n",
       "       ['Male', '20-46', 3458],\n",
       "       ['Male', '20-46', 3890],\n",
       "       ['Male', '46+', 4166],\n",
       "       ['Male', '46+', 3935],\n",
       "       ['Male', '46+', 3669],\n",
       "       ['Male', '46+', 3866],\n",
       "       ['Male', '46+', 3393],\n",
       "       ['Male', '46+', 4442],\n",
       "       ['Male', '46+', 4253],\n",
       "       ['Male', '46+', 3727],\n",
       "       ['Male', '46+', 3329],\n",
       "       ['Male', '46+', 3415],\n",
       "       ['Male', '46+', 3372],\n",
       "       ['Male', '46+', 4430],\n",
       "       ['Male', '46+', 4381],\n",
       "       ['Male', '46+', 4008],\n",
       "       ['Male', '46+', 3858],\n",
       "       ['Male', '46+', 4121],\n",
       "       ['Male', '46+', 4057],\n",
       "       ['Male', '46+', 3824],\n",
       "       ['Male', '46+', 3394],\n",
       "       ['Male', '46+', 3558],\n",
       "       ['Male', '46+', 3362],\n",
       "       ['Male', '46+', 3930],\n",
       "       ['Male', '46+', 3835],\n",
       "       ['Male', '46+', 3830],\n",
       "       ['Male', '46+', 3856],\n",
       "       ['Male', '46+', 3249],\n",
       "       ['Male', '46+', 3577],\n",
       "       ['Male', '46+', 3933],\n",
       "       ['Male', '46+', 3850],\n",
       "       ['Male', '46+', 3309],\n",
       "       ['Male', '46+', 3406],\n",
       "       ['Male', '46+', 3506],\n",
       "       ['Male', '46+', 3907],\n",
       "       ['Male', '46+', 4160],\n",
       "       ['Male', '46+', 3318],\n",
       "       ['Male', '46+', 3662],\n",
       "       ['Male', '46+', 3899],\n",
       "       ['Male', '46+', 3700],\n",
       "       ['Male', '46+', 3779],\n",
       "       ['Male', '46+', 3473],\n",
       "       ['Male', '46+', 3490],\n",
       "       ['Male', '46+', 3654],\n",
       "       ['Male', '46+', 3478],\n",
       "       ['Male', '46+', 3495],\n",
       "       ['Male', '46+', 3834],\n",
       "       ['Male', '46+', 3876],\n",
       "       ['Male', '46+', 3661],\n",
       "       ['Male', '46+', 3618],\n",
       "       ['Male', '46+', 3648],\n",
       "       ['Male', '46+', 4032],\n",
       "       ['Male', '46+', 3399],\n",
       "       ['Male', '46+', 3916],\n",
       "       ['Male', '46+', 4430],\n",
       "       ['Male', '46+', 3695],\n",
       "       ['Male', '46+', 3524],\n",
       "       ['Male', '46+', 3571],\n",
       "       ['Male', '46+', 3594],\n",
       "       ['Male', '46+', 3383],\n",
       "       ['Male', '46+', 3499],\n",
       "       ['Male', '46+', 3589],\n",
       "       ['Male', '46+', 3900],\n",
       "       ['Male', '46+', 4114],\n",
       "       ['Male', '46+', 3937],\n",
       "       ['Male', '46+', 3399],\n",
       "       ['Male', '46+', 4200],\n",
       "       ['Male', '46+', 4488],\n",
       "       ['Male', '46+', 3614],\n",
       "       ['Male', '46+', 4051],\n",
       "       ['Male', '46+', 3782],\n",
       "       ['Male', '46+', 3391],\n",
       "       ['Male', '46+', 3124],\n",
       "       ['Male', '46+', 4053],\n",
       "       ['Male', '46+', 3582],\n",
       "       ['Male', '46+', 3666],\n",
       "       ['Male', '46+', 3532],\n",
       "       ['Male', '46+', 4046],\n",
       "       ['Male', '46+', 3667],\n",
       "       ['Female', '20-46', 2857],\n",
       "       ['Female', '20-46', 3436],\n",
       "       ['Female', '20-46', 3791],\n",
       "       ['Female', '20-46', 3302],\n",
       "       ['Female', '20-46', 3104],\n",
       "       ['Female', '20-46', 3171],\n",
       "       ['Female', '20-46', 3572],\n",
       "       ['Female', '20-46', 3530],\n",
       "       ['Female', '20-46', 3175],\n",
       "       ['Female', '20-46', 3438],\n",
       "       ['Female', '20-46', 3903],\n",
       "       ['Female', '20-46', 3899],\n",
       "       ['Female', '20-46', 3401],\n",
       "       ['Female', '20-46', 3267],\n",
       "       ['Female', '20-46', 3451],\n",
       "       ['Female', '20-46', 3090],\n",
       "       ['Female', '20-46', 3413],\n",
       "       ['Female', '20-46', 3323],\n",
       "       ['Female', '20-46', 3680],\n",
       "       ['Female', '20-46', 3439],\n",
       "       ['Female', '20-46', 3853],\n",
       "       ['Female', '20-46', 3156],\n",
       "       ['Female', '20-46', 3279],\n",
       "       ['Female', '20-46', 3707],\n",
       "       ['Female', '20-46', 4006],\n",
       "       ['Female', '20-46', 3269],\n",
       "       ['Female', '20-46', 3071],\n",
       "       ['Female', '20-46', 3779],\n",
       "       ['Female', '20-46', 3548],\n",
       "       ['Female', '20-46', 3292],\n",
       "       ['Female', '20-46', 3497],\n",
       "       ['Female', '20-46', 3082],\n",
       "       ['Female', '20-46', 3248],\n",
       "       ['Female', '20-46', 3358],\n",
       "       ['Female', '20-46', 3803],\n",
       "       ['Female', '20-46', 3566],\n",
       "       ['Female', '20-46', 3145],\n",
       "       ['Female', '20-46', 3503],\n",
       "       ['Female', '20-46', 3571],\n",
       "       ['Female', '20-46', 3724],\n",
       "       ['Female', '20-46', 3615],\n",
       "       ['Female', '20-46', 3203],\n",
       "       ['Female', '20-46', 3609],\n",
       "       ['Female', '20-46', 3561],\n",
       "       ['Female', '20-46', 3979],\n",
       "       ['Female', '20-46', 3533],\n",
       "       ['Female', '20-46', 3689],\n",
       "       ['Female', '20-46', 3158],\n",
       "       ['Female', '20-46', 4005],\n",
       "       ['Female', '20-46', 3181],\n",
       "       ['Female', '20-46', 3479],\n",
       "       ['Female', '20-46', 3642],\n",
       "       ['Female', '20-46', 3632],\n",
       "       ['Female', '46+', 3069],\n",
       "       ['Female', '46+', 3394],\n",
       "       ['Female', '46+', 3703],\n",
       "       ['Female', '46+', 3165],\n",
       "       ['Female', '46+', 3354],\n",
       "       ['Female', '46+', 3000],\n",
       "       ['Female', '46+', 3687],\n",
       "       ['Female', '46+', 3556],\n",
       "       ['Female', '46+', 2773],\n",
       "       ['Female', '46+', 3058],\n",
       "       ['Female', '46+', 3344],\n",
       "       ['Female', '46+', 3493],\n",
       "       ['Female', '46+', 3297],\n",
       "       ['Female', '46+', 3360],\n",
       "       ['Female', '46+', 3228],\n",
       "       ['Female', '46+', 3277],\n",
       "       ['Female', '46+', 3851],\n",
       "       ['Female', '46+', 3067],\n",
       "       ['Female', '46+', 3692],\n",
       "       ['Female', '46+', 3402],\n",
       "       ['Female', '46+', 3995],\n",
       "       ['Female', '46+', 3318],\n",
       "       ['Female', '46+', 2720],\n",
       "       ['Female', '46+', 2937],\n",
       "       ['Female', '46+', 3580],\n",
       "       ['Female', '46+', 2939],\n",
       "       ['Female', '46+', 2989],\n",
       "       ['Female', '46+', 3586],\n",
       "       ['Female', '46+', 3156],\n",
       "       ['Female', '46+', 3246],\n",
       "       ['Female', '46+', 3170],\n",
       "       ['Female', '46+', 3268],\n",
       "       ['Female', '46+', 3389],\n",
       "       ['Female', '46+', 3381],\n",
       "       ['Female', '46+', 2864],\n",
       "       ['Female', '46+', 3740],\n",
       "       ['Female', '46+', 3479],\n",
       "       ['Female', '46+', 3647],\n",
       "       ['Female', '46+', 3716],\n",
       "       ['Female', '46+', 3284],\n",
       "       ['Female', '46+', 4204],\n",
       "       ['Female', '46+', 3735],\n",
       "       ['Female', '46+', 3218],\n",
       "       ['Female', '46+', 3685],\n",
       "       ['Female', '46+', 3704],\n",
       "       ['Female', '46+', 3214],\n",
       "       ['Female', '46+', 3394],\n",
       "       ['Female', '46+', 3233],\n",
       "       ['Female', '46+', 3352],\n",
       "       ['Female', '46+', 3391]], dtype=object)"
      ]
     },
     "execution_count": 4,
     "metadata": {},
     "output_type": "execute_result"
    }
   ],
   "source": [
    "X.values"
   ]
  },
  {
   "cell_type": "markdown",
   "metadata": {
    "slideshow": {
     "slide_type": "slide"
    }
   },
   "source": [
    "## Working with Categorical Data\n",
    "\n",
    "What's wrong with the following code?"
   ]
  },
  {
   "cell_type": "markdown",
   "metadata": {
    "slideshow": {
     "slide_type": "subslide"
    }
   },
   "source": [
    "```\n",
    "from sklearn.linear_model import LinearRegression\n",
    "model = LinearRegression()\n",
    "model.fit(X, y)\n",
    "```"
   ]
  },
  {
   "cell_type": "markdown",
   "metadata": {
    "slideshow": {
     "slide_type": "subslide"
    }
   },
   "source": [
    "Machine Learning algorithms work with numerical data. We have to convert our strings into meaningful numbers. We often use Integer, One-hot, or Binary Encoding. Sklearn provides a preprocessing libarary for all of these standard preprocessing techniques. Pandas also provides a `get_dummies` method that is useful to generate binary encoded data from a Data Frame. "
   ]
  },
  {
   "cell_type": "markdown",
   "metadata": {
    "slideshow": {
     "slide_type": "slide"
    }
   },
   "source": [
    "## Dummy Encoding (Binary Encoded Data)"
   ]
  },
  {
   "cell_type": "markdown",
   "metadata": {
    "slideshow": {
     "slide_type": "fragment"
    }
   },
   "source": [
    "Dummy Encoding transforms each categorical feature into new columns with a 1 (True) or 0 (False) encoding to represent if that categorical label was present or not in the original row. "
   ]
  },
  {
   "cell_type": "markdown",
   "metadata": {
    "slideshow": {
     "slide_type": "subslide"
    }
   },
   "source": [
    "Pandas provides a shortcut to create Binary Encoded data."
   ]
  },
  {
   "cell_type": "code",
   "execution_count": 6,
   "metadata": {
    "slideshow": {
     "slide_type": "fragment"
    }
   },
   "outputs": [
    {
     "data": {
      "text/html": [
       "<div>\n",
       "<style scoped>\n",
       "    .dataframe tbody tr th:only-of-type {\n",
       "        vertical-align: middle;\n",
       "    }\n",
       "\n",
       "    .dataframe tbody tr th {\n",
       "        vertical-align: top;\n",
       "    }\n",
       "\n",
       "    .dataframe thead th {\n",
       "        text-align: right;\n",
       "    }\n",
       "</style>\n",
       "<table border=\"1\" class=\"dataframe\">\n",
       "  <thead>\n",
       "    <tr style=\"text-align: right;\">\n",
       "      <th></th>\n",
       "      <th>age</th>\n",
       "      <th>size</th>\n",
       "      <th>gender_Female</th>\n",
       "      <th>gender_Male</th>\n",
       "    </tr>\n",
       "  </thead>\n",
       "  <tbody>\n",
       "    <tr>\n",
       "      <th>0</th>\n",
       "      <td>20-46</td>\n",
       "      <td>4512</td>\n",
       "      <td>0</td>\n",
       "      <td>1</td>\n",
       "    </tr>\n",
       "    <tr>\n",
       "      <th>1</th>\n",
       "      <td>20-46</td>\n",
       "      <td>3738</td>\n",
       "      <td>0</td>\n",
       "      <td>1</td>\n",
       "    </tr>\n",
       "    <tr>\n",
       "      <th>2</th>\n",
       "      <td>20-46</td>\n",
       "      <td>4261</td>\n",
       "      <td>0</td>\n",
       "      <td>1</td>\n",
       "    </tr>\n",
       "    <tr>\n",
       "      <th>3</th>\n",
       "      <td>20-46</td>\n",
       "      <td>3777</td>\n",
       "      <td>0</td>\n",
       "      <td>1</td>\n",
       "    </tr>\n",
       "    <tr>\n",
       "      <th>4</th>\n",
       "      <td>20-46</td>\n",
       "      <td>4177</td>\n",
       "      <td>0</td>\n",
       "      <td>1</td>\n",
       "    </tr>\n",
       "  </tbody>\n",
       "</table>\n",
       "</div>"
      ],
      "text/plain": [
       "     age  size  gender_Female  gender_Male\n",
       "0  20-46  4512              0            1\n",
       "1  20-46  3738              0            1\n",
       "2  20-46  4261              0            1\n",
       "3  20-46  3777              0            1\n",
       "4  20-46  4177              0            1"
      ]
     },
     "execution_count": 6,
     "metadata": {},
     "output_type": "execute_result"
    }
   ],
   "source": [
    "data = X.copy()\n",
    "\n",
    "data_binary_encoded = pd.get_dummies(data, columns=[\"gender\"])\n",
    "data_binary_encoded.head()"
   ]
  },
  {
   "cell_type": "markdown",
   "metadata": {
    "slideshow": {
     "slide_type": "subslide"
    }
   },
   "source": [
    "We can encode multiple columns using `get_dummies`."
   ]
  },
  {
   "cell_type": "code",
   "execution_count": 7,
   "metadata": {
    "slideshow": {
     "slide_type": "fragment"
    }
   },
   "outputs": [
    {
     "data": {
      "text/html": [
       "<div>\n",
       "<style scoped>\n",
       "    .dataframe tbody tr th:only-of-type {\n",
       "        vertical-align: middle;\n",
       "    }\n",
       "\n",
       "    .dataframe tbody tr th {\n",
       "        vertical-align: top;\n",
       "    }\n",
       "\n",
       "    .dataframe thead th {\n",
       "        text-align: right;\n",
       "    }\n",
       "</style>\n",
       "<table border=\"1\" class=\"dataframe\">\n",
       "  <thead>\n",
       "    <tr style=\"text-align: right;\">\n",
       "      <th></th>\n",
       "      <th>gender</th>\n",
       "      <th>age</th>\n",
       "      <th>size</th>\n",
       "    </tr>\n",
       "  </thead>\n",
       "  <tbody>\n",
       "    <tr>\n",
       "      <th>0</th>\n",
       "      <td>Male</td>\n",
       "      <td>20-46</td>\n",
       "      <td>4512</td>\n",
       "    </tr>\n",
       "    <tr>\n",
       "      <th>1</th>\n",
       "      <td>Male</td>\n",
       "      <td>20-46</td>\n",
       "      <td>3738</td>\n",
       "    </tr>\n",
       "    <tr>\n",
       "      <th>2</th>\n",
       "      <td>Male</td>\n",
       "      <td>20-46</td>\n",
       "      <td>4261</td>\n",
       "    </tr>\n",
       "    <tr>\n",
       "      <th>3</th>\n",
       "      <td>Male</td>\n",
       "      <td>20-46</td>\n",
       "      <td>3777</td>\n",
       "    </tr>\n",
       "    <tr>\n",
       "      <th>4</th>\n",
       "      <td>Male</td>\n",
       "      <td>20-46</td>\n",
       "      <td>4177</td>\n",
       "    </tr>\n",
       "    <tr>\n",
       "      <th>...</th>\n",
       "      <td>...</td>\n",
       "      <td>...</td>\n",
       "      <td>...</td>\n",
       "    </tr>\n",
       "    <tr>\n",
       "      <th>232</th>\n",
       "      <td>Female</td>\n",
       "      <td>46+</td>\n",
       "      <td>3214</td>\n",
       "    </tr>\n",
       "    <tr>\n",
       "      <th>233</th>\n",
       "      <td>Female</td>\n",
       "      <td>46+</td>\n",
       "      <td>3394</td>\n",
       "    </tr>\n",
       "    <tr>\n",
       "      <th>234</th>\n",
       "      <td>Female</td>\n",
       "      <td>46+</td>\n",
       "      <td>3233</td>\n",
       "    </tr>\n",
       "    <tr>\n",
       "      <th>235</th>\n",
       "      <td>Female</td>\n",
       "      <td>46+</td>\n",
       "      <td>3352</td>\n",
       "    </tr>\n",
       "    <tr>\n",
       "      <th>236</th>\n",
       "      <td>Female</td>\n",
       "      <td>46+</td>\n",
       "      <td>3391</td>\n",
       "    </tr>\n",
       "  </tbody>\n",
       "</table>\n",
       "<p>237 rows × 3 columns</p>\n",
       "</div>"
      ],
      "text/plain": [
       "     gender    age  size\n",
       "0      Male  20-46  4512\n",
       "1      Male  20-46  3738\n",
       "2      Male  20-46  4261\n",
       "3      Male  20-46  3777\n",
       "4      Male  20-46  4177\n",
       "..      ...    ...   ...\n",
       "232  Female    46+  3214\n",
       "233  Female    46+  3394\n",
       "234  Female    46+  3233\n",
       "235  Female    46+  3352\n",
       "236  Female    46+  3391\n",
       "\n",
       "[237 rows x 3 columns]"
      ]
     },
     "execution_count": 7,
     "metadata": {},
     "output_type": "execute_result"
    }
   ],
   "source": [
    "data"
   ]
  },
  {
   "cell_type": "code",
   "execution_count": 8,
   "metadata": {
    "slideshow": {
     "slide_type": "fragment"
    }
   },
   "outputs": [
    {
     "data": {
      "text/html": [
       "<div>\n",
       "<style scoped>\n",
       "    .dataframe tbody tr th:only-of-type {\n",
       "        vertical-align: middle;\n",
       "    }\n",
       "\n",
       "    .dataframe tbody tr th {\n",
       "        vertical-align: top;\n",
       "    }\n",
       "\n",
       "    .dataframe thead th {\n",
       "        text-align: right;\n",
       "    }\n",
       "</style>\n",
       "<table border=\"1\" class=\"dataframe\">\n",
       "  <thead>\n",
       "    <tr style=\"text-align: right;\">\n",
       "      <th></th>\n",
       "      <th>size</th>\n",
       "      <th>gender_Female</th>\n",
       "      <th>gender_Male</th>\n",
       "      <th>age_20-46</th>\n",
       "      <th>age_46+</th>\n",
       "    </tr>\n",
       "  </thead>\n",
       "  <tbody>\n",
       "    <tr>\n",
       "      <th>0</th>\n",
       "      <td>4512</td>\n",
       "      <td>0</td>\n",
       "      <td>1</td>\n",
       "      <td>1</td>\n",
       "      <td>0</td>\n",
       "    </tr>\n",
       "    <tr>\n",
       "      <th>1</th>\n",
       "      <td>3738</td>\n",
       "      <td>0</td>\n",
       "      <td>1</td>\n",
       "      <td>1</td>\n",
       "      <td>0</td>\n",
       "    </tr>\n",
       "    <tr>\n",
       "      <th>2</th>\n",
       "      <td>4261</td>\n",
       "      <td>0</td>\n",
       "      <td>1</td>\n",
       "      <td>1</td>\n",
       "      <td>0</td>\n",
       "    </tr>\n",
       "    <tr>\n",
       "      <th>3</th>\n",
       "      <td>3777</td>\n",
       "      <td>0</td>\n",
       "      <td>1</td>\n",
       "      <td>1</td>\n",
       "      <td>0</td>\n",
       "    </tr>\n",
       "    <tr>\n",
       "      <th>4</th>\n",
       "      <td>4177</td>\n",
       "      <td>0</td>\n",
       "      <td>1</td>\n",
       "      <td>1</td>\n",
       "      <td>0</td>\n",
       "    </tr>\n",
       "  </tbody>\n",
       "</table>\n",
       "</div>"
      ],
      "text/plain": [
       "   size  gender_Female  gender_Male  age_20-46  age_46+\n",
       "0  4512              0            1          1        0\n",
       "1  3738              0            1          1        0\n",
       "2  4261              0            1          1        0\n",
       "3  3777              0            1          1        0\n",
       "4  4177              0            1          1        0"
      ]
     },
     "execution_count": 8,
     "metadata": {},
     "output_type": "execute_result"
    }
   ],
   "source": [
    "data = X.copy()\n",
    "\n",
    "data_binary_encoded = pd.get_dummies(data)\n",
    "data_binary_encoded.head()"
   ]
  },
  {
   "cell_type": "markdown",
   "metadata": {
    "slideshow": {
     "slide_type": "slide"
    }
   },
   "source": [
    "## Scaling and Normalization"
   ]
  },
  {
   "cell_type": "markdown",
   "metadata": {
    "slideshow": {
     "slide_type": "subslide"
    }
   },
   "source": [
    "The final step that we need to perform is scaling and normalization. Many algorithms will perform better with a normalized or scaled dataset. You may not see a difference with the Sklearn LinearRegression model, but other models that use gradient descent need normalization to help the algorithms converge to a local optima."
   ]
  },
  {
   "cell_type": "markdown",
   "metadata": {
    "slideshow": {
     "slide_type": "subslide"
    }
   },
   "source": [
    "Sklearn provides a variety of scaling and normalization options. The two most common are minmax and StandardScaler. Use StandardScaler when you don't know anything about your data."
   ]
  },
  {
   "cell_type": "markdown",
   "metadata": {
    "slideshow": {
     "slide_type": "subslide"
    }
   },
   "source": [
    "The first step is to split your data into Training and Testing using `train_test_split`."
   ]
  },
  {
   "cell_type": "code",
   "execution_count": 9,
   "metadata": {
    "slideshow": {
     "slide_type": "fragment"
    }
   },
   "outputs": [
    {
     "data": {
      "text/html": [
       "<div>\n",
       "<style scoped>\n",
       "    .dataframe tbody tr th:only-of-type {\n",
       "        vertical-align: middle;\n",
       "    }\n",
       "\n",
       "    .dataframe tbody tr th {\n",
       "        vertical-align: top;\n",
       "    }\n",
       "\n",
       "    .dataframe thead th {\n",
       "        text-align: right;\n",
       "    }\n",
       "</style>\n",
       "<table border=\"1\" class=\"dataframe\">\n",
       "  <thead>\n",
       "    <tr style=\"text-align: right;\">\n",
       "      <th></th>\n",
       "      <th>size</th>\n",
       "      <th>gender_Female</th>\n",
       "      <th>gender_Male</th>\n",
       "      <th>age_20-46</th>\n",
       "      <th>age_46+</th>\n",
       "    </tr>\n",
       "  </thead>\n",
       "  <tbody>\n",
       "    <tr>\n",
       "      <th>125</th>\n",
       "      <td>3782</td>\n",
       "      <td>0</td>\n",
       "      <td>1</td>\n",
       "      <td>0</td>\n",
       "      <td>1</td>\n",
       "    </tr>\n",
       "    <tr>\n",
       "      <th>119</th>\n",
       "      <td>3937</td>\n",
       "      <td>0</td>\n",
       "      <td>1</td>\n",
       "      <td>0</td>\n",
       "      <td>1</td>\n",
       "    </tr>\n",
       "    <tr>\n",
       "      <th>66</th>\n",
       "      <td>3415</td>\n",
       "      <td>0</td>\n",
       "      <td>1</td>\n",
       "      <td>0</td>\n",
       "      <td>1</td>\n",
       "    </tr>\n",
       "    <tr>\n",
       "      <th>216</th>\n",
       "      <td>3246</td>\n",
       "      <td>1</td>\n",
       "      <td>0</td>\n",
       "      <td>0</td>\n",
       "      <td>1</td>\n",
       "    </tr>\n",
       "    <tr>\n",
       "      <th>67</th>\n",
       "      <td>3372</td>\n",
       "      <td>0</td>\n",
       "      <td>1</td>\n",
       "      <td>0</td>\n",
       "      <td>1</td>\n",
       "    </tr>\n",
       "  </tbody>\n",
       "</table>\n",
       "</div>"
      ],
      "text/plain": [
       "     size  gender_Female  gender_Male  age_20-46  age_46+\n",
       "125  3782              0            1          0        1\n",
       "119  3937              0            1          0        1\n",
       "66   3415              0            1          0        1\n",
       "216  3246              1            0          0        1\n",
       "67   3372              0            1          0        1"
      ]
     },
     "execution_count": 9,
     "metadata": {},
     "output_type": "execute_result"
    }
   ],
   "source": [
    "from sklearn.model_selection import train_test_split\n",
    "\n",
    "X = pd.get_dummies(X)\n",
    "\n",
    "X_train, X_test, y_train, y_test = train_test_split(X, y, random_state=42)\n",
    "\n",
    "X_train.head()"
   ]
  },
  {
   "cell_type": "markdown",
   "metadata": {
    "slideshow": {
     "slide_type": "subslide"
    }
   },
   "source": [
    "### StandardScaler"
   ]
  },
  {
   "cell_type": "markdown",
   "metadata": {
    "slideshow": {
     "slide_type": "subslide"
    }
   },
   "source": [
    "Now, we fit our StandardScaler model to our training data. We can apply this StandardScaler model to any future data. Note that we use this fit/transform approach so that we isolate our testing data from the training data that we use to fit our model. Otherwise, we might bias our model to the testing data. "
   ]
  },
  {
   "cell_type": "code",
   "execution_count": 10,
   "metadata": {
    "slideshow": {
     "slide_type": "fragment"
    }
   },
   "outputs": [],
   "source": [
    "from sklearn.preprocessing import StandardScaler\n",
    "X_scaler = StandardScaler().fit(X_train)\n",
    "y_scaler = StandardScaler().fit(y_train)"
   ]
  },
  {
   "cell_type": "code",
   "execution_count": 11,
   "metadata": {
    "slideshow": {
     "slide_type": "fragment"
    }
   },
   "outputs": [],
   "source": [
    "X_train_scaled = X_scaler.transform(X_train)\n",
    "X_test_scaled = X_scaler.transform(X_test)\n",
    "y_train_scaled = y_scaler.transform(y_train)\n",
    "y_test_scaled = y_scaler.transform(y_test)"
   ]
  },
  {
   "cell_type": "code",
   "execution_count": 12,
   "metadata": {},
   "outputs": [
    {
     "data": {
      "text/html": [
       "<div>\n",
       "<style scoped>\n",
       "    .dataframe tbody tr th:only-of-type {\n",
       "        vertical-align: middle;\n",
       "    }\n",
       "\n",
       "    .dataframe tbody tr th {\n",
       "        vertical-align: top;\n",
       "    }\n",
       "\n",
       "    .dataframe thead th {\n",
       "        text-align: right;\n",
       "    }\n",
       "</style>\n",
       "<table border=\"1\" class=\"dataframe\">\n",
       "  <thead>\n",
       "    <tr style=\"text-align: right;\">\n",
       "      <th></th>\n",
       "      <th>size</th>\n",
       "      <th>gender_Female</th>\n",
       "      <th>gender_Male</th>\n",
       "      <th>age_20-46</th>\n",
       "      <th>age_46+</th>\n",
       "    </tr>\n",
       "  </thead>\n",
       "  <tbody>\n",
       "    <tr>\n",
       "      <th>125</th>\n",
       "      <td>3782</td>\n",
       "      <td>0</td>\n",
       "      <td>1</td>\n",
       "      <td>0</td>\n",
       "      <td>1</td>\n",
       "    </tr>\n",
       "    <tr>\n",
       "      <th>119</th>\n",
       "      <td>3937</td>\n",
       "      <td>0</td>\n",
       "      <td>1</td>\n",
       "      <td>0</td>\n",
       "      <td>1</td>\n",
       "    </tr>\n",
       "    <tr>\n",
       "      <th>66</th>\n",
       "      <td>3415</td>\n",
       "      <td>0</td>\n",
       "      <td>1</td>\n",
       "      <td>0</td>\n",
       "      <td>1</td>\n",
       "    </tr>\n",
       "    <tr>\n",
       "      <th>216</th>\n",
       "      <td>3246</td>\n",
       "      <td>1</td>\n",
       "      <td>0</td>\n",
       "      <td>0</td>\n",
       "      <td>1</td>\n",
       "    </tr>\n",
       "    <tr>\n",
       "      <th>67</th>\n",
       "      <td>3372</td>\n",
       "      <td>0</td>\n",
       "      <td>1</td>\n",
       "      <td>0</td>\n",
       "      <td>1</td>\n",
       "    </tr>\n",
       "    <tr>\n",
       "      <th>...</th>\n",
       "      <td>...</td>\n",
       "      <td>...</td>\n",
       "      <td>...</td>\n",
       "      <td>...</td>\n",
       "      <td>...</td>\n",
       "    </tr>\n",
       "    <tr>\n",
       "      <th>106</th>\n",
       "      <td>4032</td>\n",
       "      <td>0</td>\n",
       "      <td>1</td>\n",
       "      <td>0</td>\n",
       "      <td>1</td>\n",
       "    </tr>\n",
       "    <tr>\n",
       "      <th>14</th>\n",
       "      <td>3832</td>\n",
       "      <td>0</td>\n",
       "      <td>1</td>\n",
       "      <td>1</td>\n",
       "      <td>0</td>\n",
       "    </tr>\n",
       "    <tr>\n",
       "      <th>92</th>\n",
       "      <td>3662</td>\n",
       "      <td>0</td>\n",
       "      <td>1</td>\n",
       "      <td>0</td>\n",
       "      <td>1</td>\n",
       "    </tr>\n",
       "    <tr>\n",
       "      <th>179</th>\n",
       "      <td>3533</td>\n",
       "      <td>1</td>\n",
       "      <td>0</td>\n",
       "      <td>1</td>\n",
       "      <td>0</td>\n",
       "    </tr>\n",
       "    <tr>\n",
       "      <th>102</th>\n",
       "      <td>3876</td>\n",
       "      <td>0</td>\n",
       "      <td>1</td>\n",
       "      <td>0</td>\n",
       "      <td>1</td>\n",
       "    </tr>\n",
       "  </tbody>\n",
       "</table>\n",
       "<p>177 rows × 5 columns</p>\n",
       "</div>"
      ],
      "text/plain": [
       "     size  gender_Female  gender_Male  age_20-46  age_46+\n",
       "125  3782              0            1          0        1\n",
       "119  3937              0            1          0        1\n",
       "66   3415              0            1          0        1\n",
       "216  3246              1            0          0        1\n",
       "67   3372              0            1          0        1\n",
       "..    ...            ...          ...        ...      ...\n",
       "106  4032              0            1          0        1\n",
       "14   3832              0            1          1        0\n",
       "92   3662              0            1          0        1\n",
       "179  3533              1            0          1        0\n",
       "102  3876              0            1          0        1\n",
       "\n",
       "[177 rows x 5 columns]"
      ]
     },
     "execution_count": 12,
     "metadata": {},
     "output_type": "execute_result"
    }
   ],
   "source": [
    "X_train"
   ]
  },
  {
   "cell_type": "code",
   "execution_count": 13,
   "metadata": {},
   "outputs": [
    {
     "data": {
      "text/plain": [
       "array([[ 0.39236791, -0.86745331,  0.86745331, -0.93966948,  0.93966948],\n",
       "       [ 0.82726666, -0.86745331,  0.86745331, -0.93966948,  0.93966948],\n",
       "       [-0.63736008, -0.86745331,  0.86745331, -0.93966948,  0.93966948],\n",
       "       [-1.11154   ,  1.1527998 , -1.1527998 , -0.93966948,  0.93966948],\n",
       "       [-0.75800941, -0.86745331,  0.86745331, -0.93966948,  0.93966948],\n",
       "       [-2.58738993,  1.1527998 , -1.1527998 , -0.93966948,  0.93966948],\n",
       "       [ 2.07304112, -0.86745331,  0.86745331, -0.93966948,  0.93966948],\n",
       "       [ 0.53826943, -0.86745331,  0.86745331, -0.93966948,  0.93966948],\n",
       "       [-1.20132555,  1.1527998 , -1.1527998 , -0.93966948,  0.93966948],\n",
       "       [ 0.22963161,  1.1527998 , -1.1527998 ,  1.06420398, -1.06420398],\n",
       "       [ 0.76834489, -0.86745331,  0.86745331, -0.93966948,  0.93966948],\n",
       "       [ 1.49504666, -0.86745331,  0.86745331,  1.06420398, -1.06420398],\n",
       "       [ 0.72345212, -0.86745331,  0.86745331, -0.93966948,  0.93966948],\n",
       "       [ 0.01358514,  1.1527998 , -1.1527998 , -0.93966948,  0.93966948],\n",
       "       [-0.64297168,  1.1527998 , -1.1527998 ,  1.06420398, -1.06420398],\n",
       "       [-0.16037436, -0.86745331,  0.86745331,  1.06420398, -1.06420398],\n",
       "       [ 0.69539414, -0.86745331,  0.86745331,  1.06420398, -1.06420398],\n",
       "       [ 1.57641482,  1.1527998 , -1.1527998 , -0.93966948,  0.93966948],\n",
       "       [-0.57282672,  1.1527998 , -1.1527998 ,  1.06420398, -1.06420398],\n",
       "       [-0.47462378, -0.86745331,  0.86745331, -0.93966948,  0.93966948],\n",
       "       [-0.87865874, -0.86745331,  0.86745331, -0.93966948,  0.93966948],\n",
       "       [-0.24174251,  1.1527998 , -1.1527998 , -0.93966948,  0.93966948],\n",
       "       [-0.79167899,  1.1527998 , -1.1527998 , -0.93966948,  0.93966948],\n",
       "       [-0.19684974,  1.1527998 , -1.1527998 ,  1.06420398, -1.06420398],\n",
       "       [ 0.43164909, -0.86745331,  0.86745331,  1.06420398, -1.06420398],\n",
       "       [-0.00605545, -0.86745331,  0.86745331,  1.06420398, -1.06420398],\n",
       "       [ 0.48215346, -0.86745331,  0.86745331,  1.06420398, -1.06420398],\n",
       "       [-0.52793394, -0.86745331,  0.86745331,  1.06420398, -1.06420398],\n",
       "       [ 1.88785843, -0.86745331,  0.86745331,  1.06420398, -1.06420398],\n",
       "       [-0.33152806, -0.86745331,  0.86745331, -0.93966948,  0.93966948],\n",
       "       [ 1.13309868, -0.86745331,  0.86745331, -0.93966948,  0.93966948],\n",
       "       [-1.04700664,  1.1527998 , -1.1527998 ,  1.06420398, -1.06420398],\n",
       "       [ 0.4232317 , -0.86745331,  0.86745331,  1.06420398, -1.06420398],\n",
       "       [ 0.4176201 ,  1.1527998 , -1.1527998 ,  1.06420398, -1.06420398],\n",
       "       [-0.41850781,  1.1527998 , -1.1527998 , -0.93966948,  0.93966948],\n",
       "       [-0.23613092, -0.86745331,  0.86745331, -0.93966948,  0.93966948],\n",
       "       [-0.38483823, -0.86745331,  0.86745331,  1.06420398, -1.06420398],\n",
       "       [-0.06778302, -0.86745331,  0.86745331, -0.93966948,  0.93966948],\n",
       "       [ 0.73186951,  1.1527998 , -1.1527998 ,  1.06420398, -1.06420398],\n",
       "       [ 0.80762607, -0.86745331,  0.86745331, -0.93966948,  0.93966948],\n",
       "       [-1.32197488,  1.1527998 , -1.1527998 ,  1.06420398, -1.06420398],\n",
       "       [ 1.10504069, -0.86745331,  0.86745331,  1.06420398, -1.06420398],\n",
       "       [ 0.26049539,  1.1527998 , -1.1527998 , -0.93966948,  0.93966948],\n",
       "       [-1.36406185,  1.1527998 , -1.1527998 ,  1.06420398, -1.06420398],\n",
       "       [-0.0930352 ,  1.1527998 , -1.1527998 ,  1.06420398, -1.06420398],\n",
       "       [-0.40728462,  1.1527998 , -1.1527998 ,  1.06420398, -1.06420398],\n",
       "       [ 2.44060071, -0.86745331,  0.86745331,  1.06420398, -1.06420398],\n",
       "       [ 1.73634532, -0.86745331,  0.86745331,  1.06420398, -1.06420398],\n",
       "       [-0.78606739, -0.86745331,  0.86745331, -0.93966948,  0.93966948],\n",
       "       [ 1.86821784, -0.86745331,  0.86745331,  1.06420398, -1.06420398],\n",
       "       [-0.41289621, -0.86745331,  0.86745331, -0.93966948,  0.93966948],\n",
       "       [-0.67664126,  1.1527998 , -1.1527998 ,  1.06420398, -1.06420398],\n",
       "       [-1.31075168,  1.1527998 , -1.1527998 ,  1.06420398, -1.06420398],\n",
       "       [-0.96844428,  1.1527998 , -1.1527998 , -0.93966948,  0.93966948],\n",
       "       [ 1.45295969, -0.86745331,  0.86745331, -0.93966948,  0.93966948],\n",
       "       [ 0.5831622 , -0.86745331,  0.86745331, -0.93966948,  0.93966948],\n",
       "       [-1.57169093,  1.1527998 , -1.1527998 ,  1.06420398, -1.06420398],\n",
       "       [-1.01894866,  1.1527998 , -1.1527998 ,  1.06420398, -1.06420398],\n",
       "       [ 0.03322573, -0.86745331,  0.86745331, -0.93966948,  0.93966948],\n",
       "       [-0.32311067, -0.86745331,  0.86745331,  1.06420398, -1.06420398],\n",
       "       [-1.50996337,  1.1527998 , -1.1527998 ,  1.06420398, -1.06420398],\n",
       "       [-0.69908764, -0.86745331,  0.86745331, -0.93966948,  0.93966948],\n",
       "       [ 0.45409548, -0.86745331,  0.86745331,  1.06420398, -1.06420398],\n",
       "       [ 1.32389296, -0.86745331,  0.86745331, -0.93966948,  0.93966948],\n",
       "       [-0.57002092,  1.1527998 , -1.1527998 ,  1.06420398, -1.06420398],\n",
       "       [-0.2641889 ,  1.1527998 , -1.1527998 ,  1.06420398, -1.06420398],\n",
       "       [ 1.45576549, -0.86745331,  0.86745331,  1.06420398, -1.06420398],\n",
       "       [ 0.98439136, -0.86745331,  0.86745331,  1.06420398, -1.06420398],\n",
       "       [ 0.17351564,  1.1527998 , -1.1527998 , -0.93966948,  0.93966948],\n",
       "       [ 1.06575952, -0.86745331,  0.86745331,  1.06420398, -1.06420398],\n",
       "       [-1.97292009,  1.1527998 , -1.1527998 , -0.93966948,  0.93966948],\n",
       "       [ 1.50065826, -0.86745331,  0.86745331,  1.06420398, -1.06420398],\n",
       "       [ 2.37326155, -0.86745331,  0.86745331, -0.93966948,  0.93966948],\n",
       "       [ 1.29302918, -0.86745331,  0.86745331,  1.06420398, -1.06420398],\n",
       "       [ 0.45128968,  1.1527998 , -1.1527998 ,  1.06420398, -1.06420398],\n",
       "       [ 2.24419482, -0.86745331,  0.86745331, -0.93966948,  0.93966948],\n",
       "       [-0.57843831,  1.1527998 , -1.1527998 ,  1.06420398, -1.06420398],\n",
       "       [ 1.15273927, -0.86745331,  0.86745331, -0.93966948,  0.93966948],\n",
       "       [-1.83263018,  1.1527998 , -1.1527998 , -0.93966948,  0.93966948],\n",
       "       [-0.22771352,  1.1527998 , -1.1527998 ,  1.06420398, -1.06420398],\n",
       "       [ 1.02647834, -0.86745331,  0.86745331, -0.93966948,  0.93966948],\n",
       "       [ 0.13142867,  1.1527998 , -1.1527998 ,  1.06420398, -1.06420398],\n",
       "       [ 0.238049  , -0.86745331,  0.86745331, -0.93966948,  0.93966948],\n",
       "       [ 0.61963758, -0.86745331,  0.86745331,  1.06420398, -1.06420398],\n",
       "       [ 0.10617648,  1.1527998 , -1.1527998 ,  1.06420398, -1.06420398],\n",
       "       [ 0.89741162, -0.86745331,  0.86745331,  1.06420398, -1.06420398],\n",
       "       [-0.07900621, -0.86745331,  0.86745331, -0.93966948,  0.93966948],\n",
       "       [ 0.19035043, -0.86745331,  0.86745331,  1.06420398, -1.06420398],\n",
       "       [-1.23218933,  1.1527998 , -1.1527998 ,  1.06420398, -1.06420398],\n",
       "       [-0.39044983,  1.1527998 , -1.1527998 ,  1.06420398, -1.06420398],\n",
       "       [ 0.59999699, -0.86745331,  0.86745331, -0.93966948,  0.93966948],\n",
       "       [-0.42131361, -0.86745331,  0.86745331,  1.06420398, -1.06420398],\n",
       "       [-0.83657176,  1.1527998 , -1.1527998 , -0.93966948,  0.93966948],\n",
       "       [-1.33880967, -0.86745331,  0.86745331,  1.06420398, -1.06420398],\n",
       "       [ 0.16229245, -0.86745331,  0.86745331, -0.93966948,  0.93966948],\n",
       "       [ 0.94511019,  1.1527998 , -1.1527998 ,  1.06420398, -1.06420398],\n",
       "       [ 0.45409548, -0.86745331,  0.86745331,  1.06420398, -1.06420398],\n",
       "       [ 0.72064632,  1.1527998 , -1.1527998 ,  1.06420398, -1.06420398],\n",
       "       [ 0.38395052,  1.1527998 , -1.1527998 ,  1.06420398, -1.06420398],\n",
       "       [ 0.37833892, -0.86745331,  0.86745331,  1.06420398, -1.06420398],\n",
       "       [ 0.01639093, -0.86745331,  0.86745331, -0.93966948,  0.93966948],\n",
       "       [ 1.18079725, -0.86745331,  0.86745331,  1.06420398, -1.06420398],\n",
       "       [ 0.0697011 , -0.86745331,  0.86745331, -0.93966948,  0.93966948],\n",
       "       [ 0.20718522,  1.1527998 , -1.1527998 , -0.93966948,  0.93966948],\n",
       "       [-1.35845026,  1.1527998 , -1.1527998 ,  1.06420398, -1.06420398],\n",
       "       [-0.71031084,  1.1527998 , -1.1527998 , -0.93966948,  0.93966948],\n",
       "       [ 0.00516774, -0.86745331,  0.86745331,  1.06420398, -1.06420398],\n",
       "       [-0.98247328,  1.1527998 , -1.1527998 ,  1.06420398, -1.06420398],\n",
       "       [ 0.52704623, -0.86745331,  0.86745331, -0.93966948,  0.93966948],\n",
       "       [ 1.44734809, -0.86745331,  0.86745331,  1.06420398, -1.06420398],\n",
       "       [-0.23332512, -0.86745331,  0.86745331,  1.06420398, -1.06420398],\n",
       "       [ 0.14826346, -0.86745331,  0.86745331, -0.93966948,  0.93966948],\n",
       "       [-0.90952252, -0.86745331,  0.86745331, -0.93966948,  0.93966948],\n",
       "       [-0.18282075, -0.86745331,  0.86745331, -0.93966948,  0.93966948],\n",
       "       [-1.00491966,  1.1527998 , -1.1527998 , -0.93966948,  0.93966948],\n",
       "       [-1.36406185,  1.1527998 , -1.1527998 , -0.93966948,  0.93966948],\n",
       "       [ 0.74309271, -0.86745331,  0.86745331, -0.93966948,  0.93966948],\n",
       "       [-0.08181201, -0.86745331,  0.86745331,  1.06420398, -1.06420398],\n",
       "       [ 1.58763801, -0.86745331,  0.86745331,  1.06420398, -1.06420398],\n",
       "       [ 0.0753127 , -0.86745331,  0.86745331, -0.93966948,  0.93966948],\n",
       "       [-0.45778899,  1.1527998 , -1.1527998 , -0.93966948,  0.93966948],\n",
       "       [-0.30908167, -0.86745331,  0.86745331, -0.93966948,  0.93966948],\n",
       "       [-0.49426436, -0.86745331,  0.86745331,  1.06420398, -1.06420398],\n",
       "       [-1.1059284 ,  1.1527998 , -1.1527998 ,  1.06420398, -1.06420398],\n",
       "       [ 1.34353355, -0.86745331,  0.86745331, -0.93966948,  0.93966948],\n",
       "       [ 0.99000296,  1.1527998 , -1.1527998 , -0.93966948,  0.93966948],\n",
       "       [-2.20299556,  1.1527998 , -1.1527998 ,  1.06420398, -1.06420398],\n",
       "       [-1.80176639,  1.1527998 , -1.1527998 , -0.93966948,  0.93966948],\n",
       "       [-1.32478068,  1.1527998 , -1.1527998 , -0.93966948,  0.93966948],\n",
       "       [ 1.71389894, -0.86745331,  0.86745331, -0.93966948,  0.93966948],\n",
       "       [ 1.03770153, -0.86745331,  0.86745331,  1.06420398, -1.06420398],\n",
       "       [-0.68225285, -0.86745331,  0.86745331, -0.93966948,  0.93966948],\n",
       "       [ 0.69819993, -0.86745331,  0.86745331,  1.06420398, -1.06420398],\n",
       "       [-2.43868262,  1.1527998 , -1.1527998 , -0.93966948,  0.93966948],\n",
       "       [-0.07620041,  1.1527998 , -1.1527998 ,  1.06420398, -1.06420398],\n",
       "       [-1.63903009,  1.1527998 , -1.1527998 , -0.93966948,  0.93966948],\n",
       "       [ 0.17070984,  1.1527998 , -1.1527998 , -0.93966948,  0.93966948],\n",
       "       [-0.69628185,  1.1527998 , -1.1527998 , -0.93966948,  0.93966948],\n",
       "       [-0.90952252,  1.1527998 , -1.1527998 , -0.93966948,  0.93966948],\n",
       "       [-0.21368453,  1.1527998 , -1.1527998 ,  1.06420398, -1.06420398],\n",
       "       [ 0.82165506, -0.86745331,  0.86745331, -0.93966948,  0.93966948],\n",
       "       [-0.00324965, -0.86745331,  0.86745331,  1.06420398, -1.06420398],\n",
       "       [-0.38203243, -0.86745331,  0.86745331, -0.93966948,  0.93966948],\n",
       "       [ 1.13309868, -0.86745331,  0.86745331,  1.06420398, -1.06420398],\n",
       "       [ 1.46979448, -0.86745331,  0.86745331, -0.93966948,  0.93966948],\n",
       "       [ 0.585968  ,  1.1527998 , -1.1527998 , -0.93966948,  0.93966948],\n",
       "       [-1.60255471,  1.1527998 , -1.1527998 ,  1.06420398, -1.06420398],\n",
       "       [-1.19010235,  1.1527998 , -1.1527998 , -0.93966948,  0.93966948],\n",
       "       [-1.60816631,  1.1527998 , -1.1527998 , -0.93966948,  0.93966948],\n",
       "       [-0.80851378,  1.1527998 , -1.1527998 , -0.93966948,  0.93966948],\n",
       "       [-0.16879176, -0.86745331,  0.86745331, -0.93966948,  0.93966948],\n",
       "       [ 0.29697077, -0.86745331,  0.86745331,  1.06420398, -1.06420398],\n",
       "       [ 0.18193304,  1.1527998 , -1.1527998 ,  1.06420398, -1.06420398],\n",
       "       [ 0.27452438,  1.1527998 , -1.1527998 , -0.93966948,  0.93966948],\n",
       "       [ 0.26891279, -0.86745331,  0.86745331,  1.06420398, -1.06420398],\n",
       "       [ 1.76159751, -0.86745331,  0.86745331,  1.06420398, -1.06420398],\n",
       "       [-1.54924454,  1.1527998 , -1.1527998 ,  1.06420398, -1.06420398],\n",
       "       [ 0.06689531, -0.86745331,  0.86745331, -0.93966948,  0.93966948],\n",
       "       [-0.89549353,  1.1527998 , -1.1527998 ,  1.06420398, -1.06420398],\n",
       "       [ 0.05286631, -0.86745331,  0.86745331, -0.93966948,  0.93966948],\n",
       "       [-0.46059478, -0.86745331,  0.86745331, -0.93966948,  0.93966948],\n",
       "       [-0.14915117, -0.86745331,  0.86745331, -0.93966948,  0.93966948],\n",
       "       [-0.66261227, -0.86745331,  0.86745331, -0.93966948,  0.93966948],\n",
       "       [-1.02456025,  1.1527998 , -1.1527998 , -0.93966948,  0.93966948],\n",
       "       [ 0.51021144, -0.86745331,  0.86745331, -0.93966948,  0.93966948],\n",
       "       [-0.15756856,  1.1527998 , -1.1527998 , -0.93966948,  0.93966948],\n",
       "       [-1.97853169,  1.1527998 , -1.1527998 , -0.93966948,  0.93966948],\n",
       "       [ 1.56519162, -0.86745331,  0.86745331, -0.93966948,  0.93966948],\n",
       "       [-0.70469924,  1.1527998 , -1.1527998 , -0.93966948,  0.93966948],\n",
       "       [ 0.66172455, -0.86745331,  0.86745331,  1.06420398, -1.06420398],\n",
       "       [-0.69628185,  1.1527998 , -1.1527998 , -0.93966948,  0.93966948],\n",
       "       [ 0.60560859, -0.86745331,  0.86745331, -0.93966948,  0.93966948],\n",
       "       [ 1.0938175 , -0.86745331,  0.86745331, -0.93966948,  0.93966948],\n",
       "       [ 0.53265783, -0.86745331,  0.86745331,  1.06420398, -1.06420398],\n",
       "       [ 0.05567211, -0.86745331,  0.86745331, -0.93966948,  0.93966948],\n",
       "       [-0.30627587,  1.1527998 , -1.1527998 ,  1.06420398, -1.06420398],\n",
       "       [ 0.65611296, -0.86745331,  0.86745331, -0.93966948,  0.93966948]])"
      ]
     },
     "execution_count": 13,
     "metadata": {},
     "output_type": "execute_result"
    }
   ],
   "source": [
    "X_train_scaled"
   ]
  },
  {
   "cell_type": "markdown",
   "metadata": {
    "slideshow": {
     "slide_type": "subslide"
    }
   },
   "source": [
    "StandardScaler applies a Gaussian distribution to our data where the mean is 0 and the standard deviation is 1. We can see the difference in the following plots."
   ]
  },
  {
   "cell_type": "code",
   "execution_count": 14,
   "metadata": {
    "slideshow": {
     "slide_type": "skip"
    }
   },
   "outputs": [
    {
     "data": {
      "text/plain": [
       "<matplotlib.collections.PathCollection at 0x272470865c0>"
      ]
     },
     "execution_count": 14,
     "metadata": {},
     "output_type": "execute_result"
    },
    {
     "data": {
      "image/png": "[encoded data removed]",
      "text/plain": [
       "<Figure size 864x432 with 2 Axes>"
      ]
     },
     "metadata": {
      "needs_background": "light"
     },
     "output_type": "display_data"
    }
   ],
   "source": [
    "fig1 = plt.figure(figsize=(12, 6))\n",
    "axes1 = fig1.add_subplot(1, 2, 1)\n",
    "axes2 = fig1.add_subplot(1, 2, 2)\n",
    "\n",
    "axes1.set_title(\"Original Data\")\n",
    "axes2.set_title(\"Scaled Data\")\n",
    "\n",
    "maxx = X_train[\"size\"].max()\n",
    "maxy = y_train.max()\n",
    "axes1.set_xlim(-maxx + 1, maxx + 1)\n",
    "axes1.set_ylim(-maxy + 1, maxy + 1)\n",
    "\n",
    "axes2.set_xlim(-2, 2)\n",
    "axes2.set_ylim(-2, 2)\n",
    "\n",
    "def set_axes(ax):\n",
    "    ax.spines['left'].set_position('center')\n",
    "    ax.spines['right'].set_color('none')\n",
    "    ax.spines['bottom'].set_position('center')\n",
    "    ax.spines['top'].set_color('none')\n",
    "    ax.xaxis.set_ticks_position('bottom')\n",
    "    ax.yaxis.set_ticks_position('left')\n",
    "    \n",
    "set_axes(axes1)\n",
    "set_axes(axes2)\n",
    "\n",
    "axes1.scatter(X_train[\"size\"], y_train)\n",
    "axes2.scatter(X_train_scaled[:,0], y_train_scaled[:])"
   ]
  },
  {
   "cell_type": "code",
   "execution_count": 15,
   "metadata": {
    "slideshow": {
     "slide_type": "fragment"
    }
   },
   "outputs": [],
   "source": [
    "plt.show()"
   ]
  },
  {
   "cell_type": "markdown",
   "metadata": {
    "slideshow": {
     "slide_type": "slide"
    }
   },
   "source": [
    "## Putting it all together"
   ]
  },
  {
   "cell_type": "markdown",
   "metadata": {
    "slideshow": {
     "slide_type": "subslide"
    }
   },
   "source": [
    "Step 1) Convert Categorical data to numbers using Integer or Binary Encoding"
   ]
  },
  {
   "cell_type": "code",
   "execution_count": 16,
   "metadata": {
    "slideshow": {
     "slide_type": "fragment"
    }
   },
   "outputs": [
    {
     "data": {
      "text/html": [
       "<div>\n",
       "<style scoped>\n",
       "    .dataframe tbody tr th:only-of-type {\n",
       "        vertical-align: middle;\n",
       "    }\n",
       "\n",
       "    .dataframe tbody tr th {\n",
       "        vertical-align: top;\n",
       "    }\n",
       "\n",
       "    .dataframe thead th {\n",
       "        text-align: right;\n",
       "    }\n",
       "</style>\n",
       "<table border=\"1\" class=\"dataframe\">\n",
       "  <thead>\n",
       "    <tr style=\"text-align: right;\">\n",
       "      <th></th>\n",
       "      <th>size</th>\n",
       "      <th>gender_Female</th>\n",
       "      <th>gender_Male</th>\n",
       "      <th>age_20-46</th>\n",
       "      <th>age_46+</th>\n",
       "    </tr>\n",
       "  </thead>\n",
       "  <tbody>\n",
       "    <tr>\n",
       "      <th>0</th>\n",
       "      <td>4512</td>\n",
       "      <td>0</td>\n",
       "      <td>1</td>\n",
       "      <td>1</td>\n",
       "      <td>0</td>\n",
       "    </tr>\n",
       "    <tr>\n",
       "      <th>1</th>\n",
       "      <td>3738</td>\n",
       "      <td>0</td>\n",
       "      <td>1</td>\n",
       "      <td>1</td>\n",
       "      <td>0</td>\n",
       "    </tr>\n",
       "    <tr>\n",
       "      <th>2</th>\n",
       "      <td>4261</td>\n",
       "      <td>0</td>\n",
       "      <td>1</td>\n",
       "      <td>1</td>\n",
       "      <td>0</td>\n",
       "    </tr>\n",
       "    <tr>\n",
       "      <th>3</th>\n",
       "      <td>3777</td>\n",
       "      <td>0</td>\n",
       "      <td>1</td>\n",
       "      <td>1</td>\n",
       "      <td>0</td>\n",
       "    </tr>\n",
       "    <tr>\n",
       "      <th>4</th>\n",
       "      <td>4177</td>\n",
       "      <td>0</td>\n",
       "      <td>1</td>\n",
       "      <td>1</td>\n",
       "      <td>0</td>\n",
       "    </tr>\n",
       "  </tbody>\n",
       "</table>\n",
       "</div>"
      ],
      "text/plain": [
       "   size  gender_Female  gender_Male  age_20-46  age_46+\n",
       "0  4512              0            1          1        0\n",
       "1  3738              0            1          1        0\n",
       "2  4261              0            1          1        0\n",
       "3  3777              0            1          1        0\n",
       "4  4177              0            1          1        0"
      ]
     },
     "execution_count": 16,
     "metadata": {},
     "output_type": "execute_result"
    }
   ],
   "source": [
    "X = pd.get_dummies(brain[[\"size\", \"gender\", \"age\"]])\n",
    "y = brain[\"weight\"].values.reshape(-1, 1)\n",
    "X.head()"
   ]
  },
  {
   "cell_type": "markdown",
   "metadata": {
    "slideshow": {
     "slide_type": "subslide"
    }
   },
   "source": [
    "Step 2) Split data into training and testing data"
   ]
  },
  {
   "cell_type": "code",
   "execution_count": 17,
   "metadata": {
    "slideshow": {
     "slide_type": "fragment"
    }
   },
   "outputs": [],
   "source": [
    "from sklearn.model_selection import train_test_split\n",
    "\n",
    "X_train, X_test, y_train, y_test = train_test_split(X, y, random_state=42)"
   ]
  },
  {
   "cell_type": "markdown",
   "metadata": {
    "slideshow": {
     "slide_type": "subslide"
    }
   },
   "source": [
    "Step 3) Scale or Normalize your data. Use StandardScaler if you don't know anything about your data."
   ]
  },
  {
   "cell_type": "code",
   "execution_count": 22,
   "metadata": {
    "slideshow": {
     "slide_type": "fragment"
    }
   },
   "outputs": [],
   "source": [
    "from sklearn.preprocessing import StandardScaler\n",
    "X_scaler = StandardScaler().fit(X_train)\n",
    "y_scaler = StandardScaler().fit(y_train)\n",
    "\n",
    "X_train_scaled = X_scaler.transform(X_train)\n",
    "X_test_scaled = X_scaler.transform(X_test)\n",
    "y_train_scaled = y_scaler.transform(y_train)\n",
    "y_test_scaled = y_scaler.transform(y_test)"
   ]
  },
  {
   "cell_type": "markdown",
   "metadata": {
    "slideshow": {
     "slide_type": "subslide"
    }
   },
   "source": [
    "Step 4) Fit the Model to the scaled training data and make predictions using the scaled test data"
   ]
  },
  {
   "cell_type": "code",
   "execution_count": 14,
   "metadata": {
    "slideshow": {
     "slide_type": "fragment"
    }
   },
   "outputs": [
    {
     "data": {
      "image/png": "[encoded data removed]",
      "text/plain": [
       "<matplotlib.figure.Figure at 0x10df69c88>"
      ]
     },
     "metadata": {},
     "output_type": "display_data"
    }
   ],
   "source": [
    "# Plot the results \n",
    "from sklearn.linear_model import LinearRegression\n",
    "model = LinearRegression()\n",
    "model.fit(X_train_scaled, y_train_scaled)\n",
    "plt.scatter(model.predict(X_train_scaled), model.predict(X_train_scaled) - y_train_scaled, c=\"blue\", label=\"Training Data\")\n",
    "plt.scatter(model.predict(X_test_scaled), model.predict(X_test_scaled) - y_test_scaled, c=\"orange\", label=\"Testing Data\")\n",
    "plt.legend()\n",
    "plt.hlines(y=0, xmin=y_test_scaled.min(), xmax=y_test_scaled.max())\n",
    "plt.title(\"Residual Plot\")\n",
    "plt.show()"
   ]
  },
  {
   "cell_type": "markdown",
   "metadata": {
    "slideshow": {
     "slide_type": "subslide"
    }
   },
   "source": [
    "Step 5) Quantify your model using the scaled data"
   ]
  },
  {
   "cell_type": "code",
   "execution_count": 15,
   "metadata": {
    "slideshow": {
     "slide_type": "fragment"
    }
   },
   "outputs": [
    {
     "name": "stdout",
     "output_type": "stream",
     "text": [
      "MSE: 0.3230551580991294, R2: 0.6804912531419804\n"
     ]
    }
   ],
   "source": [
    "from sklearn.metrics import mean_squared_error\n",
    "\n",
    "predictions = model.predict(X_test_scaled)\n",
    "MSE = mean_squared_error(y_test_scaled, predictions)\n",
    "r2 = model.score(X_test_scaled, y_test_scaled)\n",
    "\n",
    "print(f\"MSE: {MSE}, R2: {r2}\")"
   ]
  },
  {
   "cell_type": "markdown",
   "metadata": {
    "slideshow": {
     "slide_type": "slide"
    }
   },
   "source": [
    "Your Turn!"
   ]
  }
 ],
 "metadata": {
  "anaconda-cloud": {},
  "celltoolbar": "Slideshow",
  "kernelspec": {
   "display_name": "Python 3",
   "language": "python",
   "name": "python3"
  },
  "language_info": {
   "codemirror_mode": {
    "name": "ipython",
    "version": 3
   },
   "file_extension": ".py",
   "mimetype": "text/x-python",
   "name": "python",
   "nbconvert_exporter": "python",
   "pygments_lexer": "ipython3",
   "version": "3.6.12"
  },
  "varInspector": {
   "cols": {
    "lenName": 16,
    "lenType": 16,
    "lenVar": 40
   },
   "kernels_config": {
    "python": {
     "delete_cmd_postfix": "",
     "delete_cmd_prefix": "del ",
     "library": "var_list.py",
     "varRefreshCmd": "print(var_dic_list())"
    },
    "r": {
     "delete_cmd_postfix": ") ",
     "delete_cmd_prefix": "rm(",
     "library": "var_list.r",
     "varRefreshCmd": "cat(var_dic_list()) "
    }
   },
   "types_to_exclude": [
    "module",
    "function",
    "builtin_function_or_method",
    "instance",
    "_Feature"
   ],
   "window_display": false
  }
 },
 "nbformat": 4,
 "nbformat_minor": 2
}
