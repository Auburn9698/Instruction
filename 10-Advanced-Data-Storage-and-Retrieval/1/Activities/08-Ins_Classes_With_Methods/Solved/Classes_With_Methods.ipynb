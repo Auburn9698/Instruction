{
 "cells": [
  {
   "cell_type": "code",
   "execution_count": 1,
   "metadata": {},
   "outputs": [],
   "source": [
    "# Define the Film class\n",
    "class Film():\n",
    "\n",
    "    # A required function to initialize the class object\n",
    "    def __init__(self, name, length, release_year, language):\n",
    "        self.name = name\n",
    "        self.length = length\n",
    "        self.release_year = release_year\n",
    "        self.language = language"
   ]
  },
  {
   "cell_type": "code",
   "execution_count": 2,
   "metadata": {},
   "outputs": [],
   "source": [
    "# An object belonging to the Film class\n",
    "star_wars = Film(\"Star Wars\", 121, 1977, \"English\")\n",
    "\n",
    "back_to_future = Film(\"Back To Future\", 95, 1989, \"English\")"
   ]
  },
  {
   "cell_type": "code",
   "execution_count": 3,
   "metadata": {},
   "outputs": [
    {
     "data": {
      "text/plain": [
       "121"
      ]
     },
     "execution_count": 3,
     "metadata": {},
     "output_type": "execute_result"
    }
   ],
   "source": [
    "star_wars.length"
   ]
  },
  {
   "cell_type": "code",
   "execution_count": 4,
   "metadata": {},
   "outputs": [
    {
     "data": {
      "text/plain": [
       "'Back To Future'"
      ]
     },
     "execution_count": 4,
     "metadata": {},
     "output_type": "execute_result"
    }
   ],
   "source": [
    "back_to_future.name"
   ]
  },
  {
   "cell_type": "code",
   "execution_count": 6,
   "metadata": {},
   "outputs": [],
   "source": [
    "# Define the Expert class\n",
    "\n",
    "# Class note: a method is a function that's part of a class.\n",
    "class Expert():\n",
    "    \n",
    "    # A required function to initialize the class object\n",
    "    def __init__(self, name):\n",
    "        if name == '':\n",
    "            self.name = \"No Name Given\"\n",
    "        else:\n",
    "            self.name = name\n",
    "\n",
    "    # A method that takes another object as its argument\n",
    "    def boast(self, obj):\n",
    "\n",
    "        # Print out Expert object's name\n",
    "        print(\"Hi. My name is\", self.name)\n",
    "        \n",
    "        # Print out the name of the Film class object\n",
    "        print(\"I know a lot about\", obj.name)\n",
    "        print(\"It is\", obj.length, \"minutes long\")\n",
    "        print(\"It was released in\", obj.release_year)\n",
    "        print(\"It is in\", obj.language)"
   ]
  },
  {
   "cell_type": "code",
   "execution_count": 10,
   "metadata": {},
   "outputs": [],
   "source": [
    "# An object belonging to the Film class\n",
    "superfan = Expert(\"George Lucas\")"
   ]
  },
  {
   "cell_type": "code",
   "execution_count": 11,
   "metadata": {},
   "outputs": [
    {
     "data": {
      "text/plain": [
       "'No Name Given'"
      ]
     },
     "execution_count": 11,
     "metadata": {},
     "output_type": "execute_result"
    }
   ],
   "source": [
    "superfan.name"
   ]
  },
  {
   "cell_type": "code",
   "execution_count": 12,
   "metadata": {},
   "outputs": [
    {
     "name": "stdout",
     "output_type": "stream",
     "text": [
      "Hi. My name is No Name Given\n",
      "I know a lot about Star Wars\n",
      "It is 121 minutes long\n",
      "It was released in 1977\n",
      "It is in English\n"
     ]
    }
   ],
   "source": [
    "superfan.boast(star_wars)"
   ]
  },
  {
   "cell_type": "code",
   "execution_count": 13,
   "metadata": {},
   "outputs": [
    {
     "name": "stdout",
     "output_type": "stream",
     "text": [
      "Hi. My name is No Name Given\n",
      "I know a lot about Back To Future\n",
      "It is 95 minutes long\n",
      "It was released in 1989\n",
      "It is in English\n"
     ]
    }
   ],
   "source": [
    "superfan.boast(back_to_future)"
   ]
  },
  {
   "cell_type": "code",
   "execution_count": null,
   "metadata": {},
   "outputs": [],
   "source": []
  }
 ],
 "metadata": {
  "kernelspec": {
   "display_name": "Python 3",
   "language": "python",
   "name": "python3"
  },
  "language_info": {
   "codemirror_mode": {
    "name": "ipython",
    "version": 3
   },
   "file_extension": ".py",
   "mimetype": "text/x-python",
   "name": "python",
   "nbconvert_exporter": "python",
   "pygments_lexer": "ipython3",
   "version": "3.6.10"
  },
  "varInspector": {
   "cols": {
    "lenName": 16,
    "lenType": 16,
    "lenVar": 40
   },
   "kernels_config": {
    "python": {
     "delete_cmd_postfix": "",
     "delete_cmd_prefix": "del ",
     "library": "var_list.py",
     "varRefreshCmd": "print(var_dic_list())"
    },
    "r": {
     "delete_cmd_postfix": ") ",
     "delete_cmd_prefix": "rm(",
     "library": "var_list.r",
     "varRefreshCmd": "cat(var_dic_list()) "
    }
   },
   "types_to_exclude": [
    "module",
    "function",
    "builtin_function_or_method",
    "instance",
    "_Feature"
   ],
   "window_display": false
  }
 },
 "nbformat": 4,
 "nbformat_minor": 2
}
