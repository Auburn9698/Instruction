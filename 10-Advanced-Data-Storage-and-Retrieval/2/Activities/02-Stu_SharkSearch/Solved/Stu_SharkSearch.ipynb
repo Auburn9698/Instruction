{
 "cells": [
  {
   "cell_type": "code",
   "execution_count": 1,
   "metadata": {},
   "outputs": [],
   "source": [
    "from sqlalchemy.ext.declarative import declarative_base\n",
    "Base = declarative_base()\n",
    "from sqlalchemy import Column, Integer, String, Float"
   ]
  },
  {
   "cell_type": "code",
   "execution_count": 2,
   "metadata": {},
   "outputs": [],
   "source": [
    "from sqlalchemy import create_engine\n",
    "database_path = \"../Resources/sharks.sqlite\"\n",
    "engine = create_engine(f\"sqlite:///{database_path}\")\n",
    "Base.metadata.create_all(engine)"
   ]
  },
  {
   "cell_type": "code",
   "execution_count": 3,
   "metadata": {},
   "outputs": [],
   "source": [
    "from sqlalchemy.orm import Session\n",
    "session = Session(bind=engine)"
   ]
  },
  {
   "cell_type": "code",
   "execution_count": 4,
   "metadata": {
    "nbgrader": {
     "grade": false,
     "grade_id": "cell-c57d66be4b87f3dc",
     "locked": false,
     "schema_version": 1,
     "solution": true
    }
   },
   "outputs": [],
   "source": [
    "# create your shark class\n",
    "# YOUR CODE HERE\n",
    "\n",
    "# create your shark class\n",
    "class Sharks(Base):\n",
    "    __tablename__ = 'sharks'\n",
    "    id = Column(Integer, primary_key=True)\n",
    "    case_number = Column(String)\n",
    "    date = Column(String)\n",
    "    year = Column(Integer)\n",
    "    type = Column(String)\n",
    "    country = Column(String)\n",
    "    area = Column(String)\n",
    "    location= Column(String)\n",
    "    activity = Column(String)\n",
    "    name = Column(String)\n",
    "    sex = Column(String)\n",
    "    age = Column(Integer)\n",
    "    injury = Column(String)\n",
    "    fatal_y_n = Column(String)\n",
    "    time = Column(String)\n",
    "    species = Column(String)\n",
    "    investigator_or_source = Column(String)\n",
    "    pdf = Column(String)\n",
    "    original_order = Column(Integer)"
   ]
  },
  {
   "cell_type": "code",
   "execution_count": 5,
   "metadata": {
    "nbgrader": {
     "grade": false,
     "grade_id": "cell-48e2a351e977f8b6",
     "locked": false,
     "schema_version": 1,
     "solution": true
    }
   },
   "outputs": [
    {
     "name": "stdout",
     "output_type": "stream",
     "text": [
      "Point Casuarina, Bunbury\n",
      "Flinders, Mornington Penisula\n",
      "Weipa\n",
      "None\n",
      "Sanibel Island, Lee County\n",
      "2-3 km north of Sunday's River mouth\n",
      "Second Beach, Port St. John's\n",
      "Blue Bay\n",
      "South Broulee\n",
      "Bateman's Bay\n",
      "Ponce Inlet, Volusia County\n",
      "Pulau Payar Island\n",
      "Alenuihaha Channel\n",
      "The Natural Jetty, Rottnest Island\n",
      "Near Albany\n",
      "Bourail\n",
      "Off Cape Point\n",
      "Taranaki\n",
      "Avalon\n",
      "Batt Reef\n",
      "Shelly Beach, near Port Macquarie\n",
      "Bondi Beach, Sydney\n",
      "Garden Point, Woolloomooloo Sydney Harbour\n",
      "Quebradillas\n",
      "Cellito Beach\n",
      "Florida Keys, Monroe County\n",
      "Sandon\n",
      "Onboard the fishing vessel Nuevo Cedes\n",
      "Praia do Olho d'Aqua\n",
      "Guantanamo Bay\n",
      "Alderman Islands\n",
      "Surf Beach, Batemans Bay\n",
      "Second Beach, Port St. John's\n",
      "Olho d'Água\n",
      "Off Tower Hill\n",
      "Karitane Beach\n",
      "Sharpes Beach, Ballina\n",
      "Shark Alley, off Gansbaai\n",
      "Windang,       Lake Illawara\n",
      "Binalong Bay\n",
      "Fingal Beach\n",
      "Hawkes Bay\n",
      "Isla Isabella\n",
      "Haumoana\n",
      "Guantanamo\n",
      "Port Kennedy Beach\n",
      "near Schouten Island\n",
      "Irino Beach\n",
      "Seal Rocks\n",
      "Long Reef, north of Sydney\n",
      "Port Kennedy Beach\n",
      "Dillon Beach, Marin County\n",
      "Maraetai\n",
      "Plettenberg Bay\n",
      "Mowarry Point\n",
      "Chidenguele\n",
      "Elphinstone Reef\n",
      "Luzon Strait\n",
      "Clifton Beach\n",
      "Santa Cruz\n",
      "North Haven\n",
      "50 miles off Kaohsiung\n",
      "off Paoay, Ilocos Norte Province\n",
      "Oceanworld, Manley\n",
      "None\n",
      "Darwin\n",
      "Lake Macquarie\n",
      "Santa Rosa Beach, Walton County\n",
      "Smokvina Bay, Vis Island\n",
      "Green Turtle Cay\n",
      "New Smyrna Beach, Volusia County\n",
      "Bethune Beach\n",
      "Near Croker Island\n",
      "Ormond-by-the-Sea, Volusia County\n",
      "Ka'a'awa, Oahu\n",
      "Surf Beach, Lompoc, Santa Barbara County\n",
      "Clarks Beach, Byron Bay\n",
      "Ponce Inlet, New Smyrna Beach, Volusia County\n",
      "Ponce Inlet, New Smyrna Beach, Volusia County\n",
      "New Smyrna Beach, Volusia County\n",
      "20 k off The Spit, off the Gold Coast\n",
      "Hutchinson Island\n",
      "Tallow Beach, Byron Bay\n",
      "McKenzie Beach Park in Pahoa, Hawai'i \n",
      "Lundy Island\n",
      "New Smyrna Beach, Volusia County\n",
      "New Smyrna Beach, Volusia County\n",
      "New Smyrna Beach, Volusia County\n",
      "Surf City, Topsail Island, Pender County\n",
      "Sanibel Island, Lee County\n",
      "North Myrtle Beach, Horry County\n",
      "8 miles off Mobile\n",
      "Buck Island\n",
      "New Smyrna Beach, Volusia County\n",
      "Ala Moana Beach Park, Oah'u\n",
      "Levys Beach\n",
      "None\n",
      "Playa Teta\n",
      "None\n",
      "Honokowai, Maui\n"
     ]
    }
   ],
   "source": [
    "# print all locations of shark attacks\n",
    "\n",
    "# Select location FROM Sharks\n",
    "\n",
    "attacks = session.query(Sharks) \n",
    "for attack in attacks:\n",
    "    print(attack.location)"
   ]
  },
  {
   "cell_type": "code",
   "execution_count": 6,
   "metadata": {
    "nbgrader": {
     "grade": false,
     "grade_id": "cell-33b12ba730e08a42",
     "locked": false,
     "schema_version": 1,
     "solution": true
    }
   },
   "outputs": [
    {
     "name": "stdout",
     "output_type": "stream",
     "text": [
      "12\n"
     ]
    }
   ],
   "source": [
    "# find the number of provoked attacks\n",
    "\n",
    "# SELECT count(*) FROM Sharks WHERE type = 'Provoked'\n",
    "## SELECT Count(COLNAME) WHERE  type = 'Provoked'\n",
    "\n",
    "provoked = session.query(Sharks).filter_by(type='Provoked').count()\n",
    "print(provoked)"
   ]
  },
  {
   "cell_type": "code",
   "execution_count": 7,
   "metadata": {
    "nbgrader": {
     "grade": false,
     "grade_id": "cell-4b1293d38480400d",
     "locked": false,
     "schema_version": 1,
     "solution": true
    }
   },
   "outputs": [
    {
     "name": "stdout",
     "output_type": "stream",
     "text": [
      "28\n"
     ]
    }
   ],
   "source": [
    "# find the number of attacks in USA\n",
    "\n",
    "# SELECT count(*) FROM sharks WHERE country = 'USA'\n",
    "\n",
    "usa = session.query(Sharks).filter_by(country='USA').count()\n",
    "print(usa)"
   ]
  },
  {
   "cell_type": "code",
   "execution_count": 8,
   "metadata": {
    "nbgrader": {
     "grade": false,
     "grade_id": "cell-5431c1fabaae9ed8",
     "locked": false,
     "schema_version": 1,
     "solution": true
    }
   },
   "outputs": [
    {
     "name": "stdout",
     "output_type": "stream",
     "text": [
      "3\n"
     ]
    }
   ],
   "source": [
    "# find the number of attacks in 2017\n",
    "\n",
    "# SELECT count(*) FROM sharks WHERE year = '2017'\n",
    "\n",
    "year_2017 = session.query(Sharks).filter_by(year=\"2017\").count()\n",
    "print(year_2017)"
   ]
  },
  {
   "cell_type": "code",
   "execution_count": 9,
   "metadata": {
    "nbgrader": {
     "grade": false,
     "grade_id": "cell-4de2402e47fe0214",
     "locked": false,
     "schema_version": 1,
     "solution": true
    }
   },
   "outputs": [
    {
     "name": "stdout",
     "output_type": "stream",
     "text": [
      "34\n"
     ]
    }
   ],
   "source": [
    "# find the number of attacks while surfing\n",
    "surfing = session.query(Sharks).filter_by(activity='Surfing').count()\n",
    "print(surfing)"
   ]
  },
  {
   "cell_type": "code",
   "execution_count": 10,
   "metadata": {
    "nbgrader": {
     "grade": false,
     "grade_id": "cell-9e2afa5b2f869a4f",
     "locked": false,
     "schema_version": 1,
     "solution": true
    }
   },
   "outputs": [
    {
     "name": "stdout",
     "output_type": "stream",
     "text": [
      "12\n"
     ]
    }
   ],
   "source": [
    "# find the number of fatal attacks\n",
    "fatal = session.query(Sharks).filter_by(fatal_y_n='Y').count()\n",
    "print(fatal)"
   ]
  },
  {
   "cell_type": "code",
   "execution_count": 11,
   "metadata": {
    "nbgrader": {
     "grade": false,
     "grade_id": "cell-75819f28900a2e54",
     "locked": false,
     "schema_version": 1,
     "solution": true
    }
   },
   "outputs": [
    {
     "name": "stdout",
     "output_type": "stream",
     "text": [
      "2\n"
     ]
    }
   ],
   "source": [
    "# find the number of fatal attacks while surfing\n",
    "fatal_surfing = session.query(Sharks).\\\n",
    "    filter_by(fatal_y_n='Y'). \\\n",
    "    filter_by(activity = 'Surfing').count()\n",
    "print(fatal_surfing)"
   ]
  },
  {
   "cell_type": "code",
   "execution_count": 12,
   "metadata": {
    "nbgrader": {
     "grade": false,
     "grade_id": "cell-ef68003cff255319",
     "locked": false,
     "schema_version": 1,
     "solution": true
    }
   },
   "outputs": [
    {
     "name": "stdout",
     "output_type": "stream",
     "text": [
      "1\n"
     ]
    }
   ],
   "source": [
    "# find the number of fatal attacks in Mozambique while spearfishing\n",
    "fatal_surfing = session.query(Sharks).\\\n",
    "    filter_by(fatal_y_n='Y').\\\n",
    "    filter(Sharks.country == \"MOZAMBIQUE\").\\\n",
    "    filter(Sharks.activity == 'Spearfishing').count()\n",
    "print(fatal_surfing)"
   ]
  },
  {
   "cell_type": "code",
   "execution_count": 7,
   "metadata": {
    "scrolled": true
   },
   "outputs": [
    {
     "name": "stdout",
     "output_type": "stream",
     "text": [
      "<__main__.Sharks object at 0x000001785CFC0390>\n",
      "<__main__.Sharks object at 0x000001785CFC0400>\n",
      "<__main__.Sharks object at 0x000001785CFC0470>\n",
      "<__main__.Sharks object at 0x000001785CFC04E0>\n",
      "<__main__.Sharks object at 0x000001785CFC0550>\n",
      "<__main__.Sharks object at 0x000001785CFC05C0>\n",
      "<__main__.Sharks object at 0x000001785CFC05F8>\n",
      "<__main__.Sharks object at 0x000001785CFC0710>\n",
      "<__main__.Sharks object at 0x000001785CFC0668>\n",
      "<__main__.Sharks object at 0x000001785CFC07B8>\n",
      "<__main__.Sharks object at 0x000001785CFC0828>\n",
      "<__main__.Sharks object at 0x000001785CFC0860>\n",
      "<__main__.Sharks object at 0x000001785CFC0898>\n",
      "<__main__.Sharks object at 0x000001785CFC0940>\n",
      "<__main__.Sharks object at 0x000001785CFC09B0>\n",
      "<__main__.Sharks object at 0x000001785CFC0A20>\n",
      "<__main__.Sharks object at 0x000001785CFC0A90>\n",
      "<__main__.Sharks object at 0x000001785CFC0B00>\n",
      "<__main__.Sharks object at 0x000001785CFC0B38>\n",
      "<__main__.Sharks object at 0x000001785CFC0BA8>\n",
      "<__main__.Sharks object at 0x000001785CFC0C50>\n",
      "<__main__.Sharks object at 0x000001785CFC0D68>\n",
      "<__main__.Sharks object at 0x000001785CFE6160>\n",
      "<__main__.Sharks object at 0x000001785CFE60F0>\n",
      "<__main__.Sharks object at 0x000001785CFE6208>\n",
      "<__main__.Sharks object at 0x000001785CFE6278>\n",
      "<__main__.Sharks object at 0x000001785CFE62E8>\n",
      "<__main__.Sharks object at 0x000001785CFE6358>\n",
      "<__main__.Sharks object at 0x000001785CFE63C8>\n",
      "<__main__.Sharks object at 0x000001785CFE6438>\n",
      "<__main__.Sharks object at 0x000001785CFE64A8>\n",
      "<__main__.Sharks object at 0x000001785CFE6518>\n",
      "<__main__.Sharks object at 0x000001785CFE6588>\n",
      "<__main__.Sharks object at 0x000001785CFE65F8>\n",
      "<__main__.Sharks object at 0x000001785CFE6668>\n",
      "<__main__.Sharks object at 0x000001785CFE66D8>\n",
      "<__main__.Sharks object at 0x000001785CFE6748>\n",
      "<__main__.Sharks object at 0x000001785CFE67B8>\n",
      "<__main__.Sharks object at 0x000001785CFE6828>\n",
      "<__main__.Sharks object at 0x000001785CFE6898>\n",
      "<__main__.Sharks object at 0x000001785CFE6908>\n",
      "<__main__.Sharks object at 0x000001785CFE6978>\n",
      "<__main__.Sharks object at 0x000001785CFE69E8>\n",
      "<__main__.Sharks object at 0x000001785CFE6A58>\n",
      "<__main__.Sharks object at 0x000001785CFE6AC8>\n",
      "<__main__.Sharks object at 0x000001785CFE6B38>\n",
      "<__main__.Sharks object at 0x000001785CFE6BA8>\n",
      "<__main__.Sharks object at 0x000001785CFE6C18>\n",
      "<__main__.Sharks object at 0x000001785CFE6C88>\n",
      "<__main__.Sharks object at 0x000001785CFE6CF8>\n",
      "<__main__.Sharks object at 0x000001785CFE6D68>\n",
      "<__main__.Sharks object at 0x000001785CFE6DD8>\n",
      "<__main__.Sharks object at 0x000001785CFE6E48>\n",
      "<__main__.Sharks object at 0x000001785CFE6EB8>\n",
      "<__main__.Sharks object at 0x000001785CFE6F28>\n",
      "<__main__.Sharks object at 0x000001785CFE6F98>\n",
      "<__main__.Sharks object at 0x000001785CFF2048>\n",
      "<__main__.Sharks object at 0x000001785CFF20B8>\n",
      "<__main__.Sharks object at 0x000001785CFF2128>\n",
      "<__main__.Sharks object at 0x000001785CFF2198>\n",
      "<__main__.Sharks object at 0x000001785CFF2208>\n",
      "<__main__.Sharks object at 0x000001785CFF2278>\n",
      "<__main__.Sharks object at 0x000001785CFF22E8>\n",
      "<__main__.Sharks object at 0x000001785CFF2358>\n",
      "<__main__.Sharks object at 0x000001785CFF23C8>\n",
      "<__main__.Sharks object at 0x000001785CFF2438>\n",
      "<__main__.Sharks object at 0x000001785CFF24A8>\n",
      "<__main__.Sharks object at 0x000001785CFF2518>\n",
      "<__main__.Sharks object at 0x000001785CFF2588>\n",
      "<__main__.Sharks object at 0x000001785CFF25F8>\n",
      "<__main__.Sharks object at 0x000001785CFF2668>\n",
      "<__main__.Sharks object at 0x000001785CFF26D8>\n",
      "<__main__.Sharks object at 0x000001785CFF2748>\n",
      "<__main__.Sharks object at 0x000001785CFF27B8>\n",
      "<__main__.Sharks object at 0x000001785CFF2828>\n",
      "<__main__.Sharks object at 0x000001785CFF2898>\n",
      "<__main__.Sharks object at 0x000001785CFF2908>\n",
      "<__main__.Sharks object at 0x000001785CFF2978>\n",
      "<__main__.Sharks object at 0x000001785CFF29E8>\n",
      "<__main__.Sharks object at 0x000001785CFF2A58>\n",
      "<__main__.Sharks object at 0x000001785CFF2AC8>\n",
      "<__main__.Sharks object at 0x000001785CFF2B38>\n",
      "<__main__.Sharks object at 0x000001785CFF2BA8>\n",
      "<__main__.Sharks object at 0x000001785CFF2C18>\n",
      "<__main__.Sharks object at 0x000001785CFF2C88>\n",
      "<__main__.Sharks object at 0x000001785CFF2CF8>\n",
      "<__main__.Sharks object at 0x000001785CFF2D68>\n",
      "<__main__.Sharks object at 0x000001785CFF2DD8>\n",
      "<__main__.Sharks object at 0x000001785CFF2E48>\n",
      "<__main__.Sharks object at 0x000001785CFF2EB8>\n",
      "<__main__.Sharks object at 0x000001785CFF2F28>\n",
      "<__main__.Sharks object at 0x000001785CFF2F98>\n",
      "<__main__.Sharks object at 0x000001785CFF6048>\n",
      "<__main__.Sharks object at 0x000001785CFF60B8>\n",
      "<__main__.Sharks object at 0x000001785CFF6128>\n",
      "<__main__.Sharks object at 0x000001785CFF6198>\n",
      "<__main__.Sharks object at 0x000001785CFF6208>\n",
      "<__main__.Sharks object at 0x000001785CFF6278>\n",
      "<__main__.Sharks object at 0x000001785CFF62E8>\n",
      "<__main__.Sharks object at 0x000001785CFDDEB8>\n"
     ]
    }
   ],
   "source": [
    "#If you don't identify the column, it just prints all the rows as the memory object they're stored as:\n",
    "attacks=session.query(Sharks)\n",
    "for row in attacks:\n",
    "    print(row)"
   ]
  },
  {
   "cell_type": "code",
   "execution_count": 8,
   "metadata": {
    "scrolled": true
   },
   "outputs": [
    {
     "name": "stdout",
     "output_type": "stream",
     "text": [
      "Point Casuarina, Bunbury\n",
      "Flinders, Mornington Penisula\n",
      "Weipa\n",
      "None\n",
      "Sanibel Island, Lee County\n",
      "2-3 km north of Sunday's River mouth\n",
      "Second Beach, Port St. John's\n",
      "Blue Bay\n",
      "South Broulee\n",
      "Bateman's Bay\n",
      "Ponce Inlet, Volusia County\n",
      "Pulau Payar Island\n",
      "Alenuihaha Channel\n",
      "The Natural Jetty, Rottnest Island\n",
      "Near Albany\n",
      "Bourail\n",
      "Off Cape Point\n",
      "Taranaki\n",
      "Avalon\n",
      "Batt Reef\n",
      "Shelly Beach, near Port Macquarie\n",
      "Bondi Beach, Sydney\n",
      "Garden Point, Woolloomooloo Sydney Harbour\n",
      "Quebradillas\n",
      "Cellito Beach\n",
      "Florida Keys, Monroe County\n",
      "Sandon\n",
      "Onboard the fishing vessel Nuevo Cedes\n",
      "Praia do Olho d'Aqua\n",
      "Guantanamo Bay\n",
      "Alderman Islands\n",
      "Surf Beach, Batemans Bay\n",
      "Second Beach, Port St. John's\n",
      "Olho d'Água\n",
      "Off Tower Hill\n",
      "Karitane Beach\n",
      "Sharpes Beach, Ballina\n",
      "Shark Alley, off Gansbaai\n",
      "Windang,       Lake Illawara\n",
      "Binalong Bay\n",
      "Fingal Beach\n",
      "Hawkes Bay\n",
      "Isla Isabella\n",
      "Haumoana\n",
      "Guantanamo\n",
      "Port Kennedy Beach\n",
      "near Schouten Island\n",
      "Irino Beach\n",
      "Seal Rocks\n",
      "Long Reef, north of Sydney\n",
      "Port Kennedy Beach\n",
      "Dillon Beach, Marin County\n",
      "Maraetai\n",
      "Plettenberg Bay\n",
      "Mowarry Point\n",
      "Chidenguele\n",
      "Elphinstone Reef\n",
      "Luzon Strait\n",
      "Clifton Beach\n",
      "Santa Cruz\n",
      "North Haven\n",
      "50 miles off Kaohsiung\n",
      "off Paoay, Ilocos Norte Province\n",
      "Oceanworld, Manley\n",
      "None\n",
      "Darwin\n",
      "Lake Macquarie\n",
      "Santa Rosa Beach, Walton County\n",
      "Smokvina Bay, Vis Island\n",
      "Green Turtle Cay\n",
      "New Smyrna Beach, Volusia County\n",
      "Bethune Beach\n",
      "Near Croker Island\n",
      "Ormond-by-the-Sea, Volusia County\n",
      "Ka'a'awa, Oahu\n",
      "Surf Beach, Lompoc, Santa Barbara County\n",
      "Clarks Beach, Byron Bay\n",
      "Ponce Inlet, New Smyrna Beach, Volusia County\n",
      "Ponce Inlet, New Smyrna Beach, Volusia County\n",
      "New Smyrna Beach, Volusia County\n",
      "20 k off The Spit, off the Gold Coast\n",
      "Hutchinson Island\n",
      "Tallow Beach, Byron Bay\n",
      "McKenzie Beach Park in Pahoa, Hawai'i \n",
      "Lundy Island\n",
      "New Smyrna Beach, Volusia County\n",
      "New Smyrna Beach, Volusia County\n",
      "New Smyrna Beach, Volusia County\n",
      "Surf City, Topsail Island, Pender County\n",
      "Sanibel Island, Lee County\n",
      "North Myrtle Beach, Horry County\n",
      "8 miles off Mobile\n",
      "Buck Island\n",
      "New Smyrna Beach, Volusia County\n",
      "Ala Moana Beach Park, Oah'u\n",
      "Levys Beach\n",
      "None\n",
      "Playa Teta\n",
      "None\n",
      "Honokowai, Maui\n"
     ]
    }
   ],
   "source": [
    "# This is what it prints if you do identify a column name (could be something other than location)\n",
    "\n",
    "attacks = session.query(Sharks)\n",
    "for row in attacks:\n",
    "    print(row.location)"
   ]
  },
  {
   "cell_type": "code",
   "execution_count": null,
   "metadata": {},
   "outputs": [],
   "source": []
  },
  {
   "cell_type": "code",
   "execution_count": 13,
   "metadata": {},
   "outputs": [],
   "source": [
    "# Close the session\n",
    "session.close()"
   ]
  },
  {
   "cell_type": "code",
   "execution_count": null,
   "metadata": {},
   "outputs": [],
   "source": []
  }
 ],
 "metadata": {
  "celltoolbar": "Create Assignment",
  "kernelspec": {
   "display_name": "Python 3",
   "language": "python",
   "name": "python3"
  },
  "language_info": {
   "codemirror_mode": {
    "name": "ipython",
    "version": 3
   },
   "file_extension": ".py",
   "mimetype": "text/x-python",
   "name": "python",
   "nbconvert_exporter": "python",
   "pygments_lexer": "ipython3",
   "version": "3.6.10"
  },
  "varInspector": {
   "cols": {
    "lenName": 16,
    "lenType": 16,
    "lenVar": 40
   },
   "kernels_config": {
    "python": {
     "delete_cmd_postfix": "",
     "delete_cmd_prefix": "del ",
     "library": "var_list.py",
     "varRefreshCmd": "print(var_dic_list())"
    },
    "r": {
     "delete_cmd_postfix": ") ",
     "delete_cmd_prefix": "rm(",
     "library": "var_list.r",
     "varRefreshCmd": "cat(var_dic_list()) "
    }
   },
   "types_to_exclude": [
    "module",
    "function",
    "builtin_function_or_method",
    "instance",
    "_Feature"
   ],
   "window_display": false
  }
 },
 "nbformat": 4,
 "nbformat_minor": 4
}
