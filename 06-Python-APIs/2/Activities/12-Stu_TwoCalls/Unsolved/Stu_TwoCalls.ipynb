{
 "cells": [
  {
   "cell_type": "code",
   "execution_count": 4,
   "metadata": {},
   "outputs": [],
   "source": [
    "# Dependencies\n",
    "import requests\n",
    "\n",
    "api_format = \"json\"\n",
    "\n",
    "url = \"http://api.worldbank.org/v2/\""
   ]
  },
  {
   "cell_type": "code",
   "execution_count": 8,
   "metadata": {},
   "outputs": [
    {
     "data": {
      "text/plain": [
       "[{'page': '1', 'pages': '1', 'per_page': '50', 'total': '4'},\n",
       " [{'id': 'IBD', 'iso2code': 'XF', 'value': 'IBRD'},\n",
       "  {'id': 'IDB', 'iso2code': 'XH', 'value': 'Blend'},\n",
       "  {'id': 'IDX', 'iso2code': 'XI', 'value': 'IDA'},\n",
       "  {'id': 'LNX', 'iso2code': 'XX', 'value': 'Not classified'}]]"
      ]
     },
     "execution_count": 8,
     "metadata": {},
     "output_type": "execute_result"
    }
   ],
   "source": [
    "# Get the list of lending types the world bank has\n",
    "lending_response = requests.get(f\"{url}lendingTypes?format={api_format}\").json()\n",
    "lending_response"
   ]
  },
  {
   "cell_type": "code",
   "execution_count": 7,
   "metadata": {},
   "outputs": [],
   "source": [
    "lending_types = [lending_type[\"id\"] for lending_type in lending_response[1]]"
   ]
  },
  {
   "cell_type": "code",
   "execution_count": null,
   "metadata": {
    "collapsed": true
   },
   "outputs": [],
   "source": [
    "# Next, determine how many countries fall into each lending type.\n",
    "country_count_by_type = {}\n",
    "for lending_type in lending_response:\n",
    "    query = f\"{url}countries?lendingType={lending_type}&format=json\"\n",
    "    response = requests.get(query).json()\n",
    "    country_count_by_type.append\n",
    "\n",
    "# Hint: Look at the first element of the response array."
   ]
  },
  {
   "cell_type": "code",
   "execution_count": null,
   "metadata": {},
   "outputs": [],
   "source": [
    "# Print the number of countries of each lending type"
   ]
  },
  {
   "cell_type": "markdown",
   "metadata": {},
   "source": [
    "# Lending Types\n",
    "\n",
    "This activity provides an opportunity to practice making two API calls in sequence in which the second API call depends on the response of the first.\n",
    "\n",
    "## Instructions\n",
    "\n",
    "* Retrieve a list of the lending types the world bank keeps track of, and extract the ID key from each of them.\n",
    "\n",
    "* Next, determine how many countries are categorized under each lending type. Use a dict to store this information. \n",
    "\n",
    "  * This data is stored as the first element of the response array.\n",
    "\n",
    "* Finally, print the number of countries of each lending type."
   ]
  }
 ],
 "metadata": {
  "kernelspec": {
   "display_name": "Python 3",
   "language": "python",
   "name": "python3"
  },
  "language_info": {
   "codemirror_mode": {
    "name": "ipython",
    "version": 3
   },
   "file_extension": ".py",
   "mimetype": "text/x-python",
   "name": "python",
   "nbconvert_exporter": "python",
   "pygments_lexer": "ipython3",
   "version": "3.6.10"
  },
  "varInspector": {
   "cols": {
    "lenName": 16,
    "lenType": 16,
    "lenVar": 40
   },
   "kernels_config": {
    "python": {
     "delete_cmd_postfix": "",
     "delete_cmd_prefix": "del ",
     "library": "var_list.py",
     "varRefreshCmd": "print(var_dic_list())"
    },
    "r": {
     "delete_cmd_postfix": ") ",
     "delete_cmd_prefix": "rm(",
     "library": "var_list.r",
     "varRefreshCmd": "cat(var_dic_list()) "
    }
   },
   "types_to_exclude": [
    "module",
    "function",
    "builtin_function_or_method",
    "instance",
    "_Feature"
   ],
   "window_display": false
  }
 },
 "nbformat": 4,
 "nbformat_minor": 2
}
