{
 "cells": [
  {
   "cell_type": "code",
   "execution_count": 1,
   "metadata": {},
   "outputs": [],
   "source": [
    "# Dependencies\n",
    "import requests\n",
    "from pprint import pprint\n",
    "\n",
    "url = \"http://api.worldbank.org/v2/\""
   ]
  },
  {
   "cell_type": "code",
   "execution_count": 2,
   "metadata": {},
   "outputs": [],
   "source": [
    "# Get the list of lending types the world bank has\n",
    "lending_response = requests.get(f\"{url}lendingTypes?format=json\").json()\n",
    "lending_types = [lending_type[\"id\"] for lending_type in lending_response[1]]"
   ]
  },
  {
   "cell_type": "code",
   "execution_count": 3,
   "metadata": {},
   "outputs": [
    {
     "name": "stdout",
     "output_type": "stream",
     "text": [
      "[{'page': '1', 'pages': '1', 'per_page': '50', 'total': '4'},\n",
      " [{'id': 'IBD', 'iso2code': 'XF', 'value': 'IBRD'},\n",
      "  {'id': 'IDB', 'iso2code': 'XH', 'value': 'Blend'},\n",
      "  {'id': 'IDX', 'iso2code': 'XI', 'value': 'IDA'},\n",
      "  {'id': 'LNX', 'iso2code': 'XX', 'value': 'Not classified'}]]\n"
     ]
    }
   ],
   "source": [
    "pprint(lending_response)"
   ]
  },
  {
   "cell_type": "code",
   "execution_count": 4,
   "metadata": {},
   "outputs": [
    {
     "data": {
      "text/plain": [
       "{'page': '1', 'pages': '1', 'per_page': '50', 'total': '4'}"
      ]
     },
     "execution_count": 4,
     "metadata": {},
     "output_type": "execute_result"
    }
   ],
   "source": [
    "lending_response[0]"
   ]
  },
  {
   "cell_type": "code",
   "execution_count": 5,
   "metadata": {},
   "outputs": [
    {
     "data": {
      "text/plain": [
       "[{'id': 'IBD', 'iso2code': 'XF', 'value': 'IBRD'},\n",
       " {'id': 'IDB', 'iso2code': 'XH', 'value': 'Blend'},\n",
       " {'id': 'IDX', 'iso2code': 'XI', 'value': 'IDA'},\n",
       " {'id': 'LNX', 'iso2code': 'XX', 'value': 'Not classified'}]"
      ]
     },
     "execution_count": 5,
     "metadata": {},
     "output_type": "execute_result"
    }
   ],
   "source": [
    "lending_response[1]"
   ]
  },
  {
   "cell_type": "code",
   "execution_count": 6,
   "metadata": {},
   "outputs": [],
   "source": [
    "# Check video for this, tom added it, but I never got it to work.\n",
    "\n",
    "#for item in lending_response:\n",
    "#    print(item[0])"
   ]
  },
  {
   "cell_type": "code",
   "execution_count": 7,
   "metadata": {},
   "outputs": [
    {
     "data": {
      "text/plain": [
       "['IBD', 'IDB', 'IDX', 'LNX']"
      ]
     },
     "execution_count": 7,
     "metadata": {},
     "output_type": "execute_result"
    }
   ],
   "source": [
    "[lending_type[\"id\"] for lending_type in lending_response[1]]"
   ]
  },
  {
   "cell_type": "code",
   "execution_count": 8,
   "metadata": {},
   "outputs": [
    {
     "name": "stdout",
     "output_type": "stream",
     "text": [
      "http://api.worldbank.org/v2/countries?lendingType=IBD&format=json\n",
      "http://api.worldbank.org/v2/countries?lendingType=IDB&format=json\n",
      "http://api.worldbank.org/v2/countries?lendingType=IDX&format=json\n",
      "http://api.worldbank.org/v2/countries?lendingType=LNX&format=json\n"
     ]
    }
   ],
   "source": [
    "# Next, determine how many countries fall into each lending type.\n",
    "# Hint: Look at the first element of the response array.\n",
    "country_count_by_type = {}\n",
    "for lending_type in lending_types:\n",
    "    query = f\"{url}countries?lendingType={lending_type}&format=json\"\n",
    "    print(query)\n",
    "    response = requests.get(query).json()\n",
    "    country_count_by_type[lending_type] = response[0][\"total\"]"
   ]
  },
  {
   "cell_type": "code",
   "execution_count": 9,
   "metadata": {},
   "outputs": [
    {
     "data": {
      "text/plain": [
       "{'IBD': 70, 'IDB': 15, 'IDX': 59, 'LNX': 74}"
      ]
     },
     "execution_count": 9,
     "metadata": {},
     "output_type": "execute_result"
    }
   ],
   "source": [
    "country_count_by_type"
   ]
  },
  {
   "cell_type": "code",
   "execution_count": 14,
   "metadata": {},
   "outputs": [
    {
     "name": "stdout",
     "output_type": "stream",
     "text": [
      "The number of countries with lending type IBD is 70.\n",
      "The number of countries with lending type IDB is 15.\n",
      "The number of countries with lending type IDX is 59.\n",
      "The number of countries with lending type LNX is 74.\n"
     ]
    }
   ],
   "source": [
    "# Print the number of countries of each lending type\n",
    "for key, value in country_count_by_type.items():\n",
    "    print(f\"The number of countries with lending type {key} is {value}.\")"
   ]
  },
  {
   "cell_type": "code",
   "execution_count": 34,
   "metadata": {},
   "outputs": [
    {
     "data": {
      "text/plain": [
       "dict_items([('IBD', 70), ('IDB', 15), ('IDX', 59), ('LNX', 74)])"
      ]
     },
     "execution_count": 34,
     "metadata": {},
     "output_type": "execute_result"
    }
   ],
   "source": [
    "country_count_by_type.items()"
   ]
  },
  {
   "cell_type": "code",
   "execution_count": 36,
   "metadata": {},
   "outputs": [
    {
     "name": "stdout",
     "output_type": "stream",
     "text": [
      "('IBD', 70)\n",
      "('IDB', 15)\n",
      "('IDX', 59)\n",
      "('LNX', 74)\n"
     ]
    }
   ],
   "source": [
    "for item in country_count_by_type.items():\n",
    "    print(item)"
   ]
  },
  {
   "cell_type": "code",
   "execution_count": 37,
   "metadata": {},
   "outputs": [
    {
     "name": "stdout",
     "output_type": "stream",
     "text": [
      "('IBD', 70)\n",
      "The number of countries with lending type IBD is 70.\n",
      "('IDB', 15)\n",
      "The number of countries with lending type IDB is 15.\n",
      "('IDX', 59)\n",
      "The number of countries with lending type IDX is 59.\n",
      "('LNX', 74)\n",
      "The number of countries with lending type LNX is 74.\n"
     ]
    }
   ],
   "source": [
    "for item in country_count_by_type.items():\n",
    "    print(item)\n",
    "    print(f\"The number of countries with lending type {item[0]} is {item[1]}.\")"
   ]
  },
  {
   "cell_type": "code",
   "execution_count": null,
   "metadata": {},
   "outputs": [],
   "source": []
  }
 ],
 "metadata": {
  "kernelspec": {
   "display_name": "Python 3",
   "language": "python",
   "name": "python3"
  },
  "language_info": {
   "codemirror_mode": {
    "name": "ipython",
    "version": 3
   },
   "file_extension": ".py",
   "mimetype": "text/x-python",
   "name": "python",
   "nbconvert_exporter": "python",
   "pygments_lexer": "ipython3",
   "version": "3.6.10"
  },
  "varInspector": {
   "cols": {
    "lenName": 16,
    "lenType": 16,
    "lenVar": 40
   },
   "kernels_config": {
    "python": {
     "delete_cmd_postfix": "",
     "delete_cmd_prefix": "del ",
     "library": "var_list.py",
     "varRefreshCmd": "print(var_dic_list())"
    },
    "r": {
     "delete_cmd_postfix": ") ",
     "delete_cmd_prefix": "rm(",
     "library": "var_list.r",
     "varRefreshCmd": "cat(var_dic_list()) "
    }
   },
   "types_to_exclude": [
    "module",
    "function",
    "builtin_function_or_method",
    "instance",
    "_Feature"
   ],
   "window_display": false
  }
 },
 "nbformat": 4,
 "nbformat_minor": 2
}
