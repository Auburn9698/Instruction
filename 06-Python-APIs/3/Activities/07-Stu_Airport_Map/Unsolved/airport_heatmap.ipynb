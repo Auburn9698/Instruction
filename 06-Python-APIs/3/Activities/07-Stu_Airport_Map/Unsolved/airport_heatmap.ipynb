{
 "cells": [
  {
   "cell_type": "markdown",
   "metadata": {},
   "source": [
    "# Hot Airport Reviews\n",
    "\n",
    "In this activity you will create a heatmap for ratings of airports.\n",
    "\n",
    "## Instructions\n",
    "\n",
    "* If you haven't yet, navigate to your [Google Developer's Console](https://console.developers.google.com/) and enable the __Maps JavaScript API__.\n",
    "\n",
    "* Install `gmaps`\n",
    "\n",
    "* If it's not already running, start your virtual environment.\n",
    "\n",
    "  * On Windows: `activate PythonData`\n",
    "\n",
    "  * On Mac: `source activate PythonData`\n",
    "\n",
    "* Then, from the command line run: `conda install -c conda-forge gmaps`\n",
    "\n",
    "* Using the starter notebook and the airport CSV in the Resources folder, create a heat map of the airports across the country.\n",
    "\n",
    "  * Use the latitude and longitude to place the airport\n",
    "\n",
    "  * Use the rating to weight the heatmap.\n",
    "\n",
    "  * Be sure to handle `NaN` values and data type in your Airport Ratings.\n",
    "\n",
    "  * Refer to the [gmaps documentation](http://jupyter-gmaps.readthedocs.io/en/latest/tutorial.html#heatmaps) for instructions on how to implement heatmaps.\n",
    "\n",
    "  ![Airport Heatmap](../Images/08-Airport_Heatmap.png)\n",
    "\n",
    "## BONUS\n",
    "\n",
    "* Explore the [documentation](http://jupyter-gmaps.readthedocs.io/en/latest/tutorial.html#base-maps) to plot the map as two more types of maps.\n",
    "\n",
    "  ![Hybrid Map](../Images/08-Hybrid_Map.png)\n",
    "\n",
    "  ![Terrain Map](../Images/08-Terrain_Map.png)\n"
   ]
  },
  {
   "cell_type": "code",
   "execution_count": null,
   "metadata": {},
   "outputs": [],
   "source": [
    "import gmaps\n",
    "import pandas as pd\n",
    "\n",
    "# Configure gmaps\n"
   ]
  },
  {
   "cell_type": "code",
   "execution_count": 2,
   "metadata": {},
   "outputs": [],
   "source": [
    "# Create aiport dataframe"
   ]
  },
  {
   "cell_type": "code",
   "execution_count": 3,
   "metadata": {},
   "outputs": [],
   "source": [
    "# Store latitude and longitude in locations\n",
    "\n",
    "\n",
    "# Filla NaN values and convert to float\n"
   ]
  },
  {
   "cell_type": "code",
   "execution_count": 4,
   "metadata": {},
   "outputs": [],
   "source": [
    "# Plot Heatmap\n",
    "\n",
    "\n",
    "# Create heat layer\n",
    "\n",
    "\n",
    "\n",
    "\n",
    "\n",
    "# Add layer\n",
    "\n",
    "\n",
    "# Display figure\n"
   ]
  },
  {
   "cell_type": "code",
   "execution_count": null,
   "metadata": {},
   "outputs": [],
   "source": [
    "# BONUS\n",
    "# Plost as a Hybrid map\n",
    "\n",
    "\n",
    "# Create heat layer\n",
    "\n",
    "\n",
    "\n"
   ]
  },
  {
   "cell_type": "code",
   "execution_count": null,
   "metadata": {},
   "outputs": [],
   "source": [
    "# BONUS\n",
    "# Plot as a Terrain map\n",
    "\n",
    "\n",
    "# Create heat layer\n",
    "\n",
    "\n",
    "\n",
    "\n",
    "\n",
    "\n"
   ]
  }
 ],
 "metadata": {
  "kernelspec": {
   "display_name": "Python [conda env:PyData] *",
   "language": "python",
   "name": "conda-env-PyData-py"
  },
  "language_info": {
   "codemirror_mode": {
    "name": "ipython",
    "version": 3
   },
   "file_extension": ".py",
   "mimetype": "text/x-python",
   "name": "python",
   "nbconvert_exporter": "python",
   "pygments_lexer": "ipython3",
   "version": "3.6.10"
  }
 },
 "nbformat": 4,
 "nbformat_minor": 2
}
