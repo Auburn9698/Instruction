{
 "cells": [
  {
   "cell_type": "markdown",
   "metadata": {},
   "source": [
    "# Google Complex (Airport)\n",
    "\n",
    "In this activity, you are tasked with creating a DataFrame containing the rating of every airport in the top 100 metropolitan areas according to Google Users.\n",
    "\n",
    "## Instructions\n",
    "\n",
    "* Using [05-Stu_Google_Complex/Airport_Ratings.ipynb](Unsolved/Airport_Ratings.ipynb) as a starting point, utilize the Google Geocoding API, the Google Places API, and Python/Jupyter to create a script that lists the \"Airport Rating\" of the major \"International Airport\" in each of the top 100 metropolitan areas found in [05-Stu_Google_Complex/Cities.csv](Resources/Cities.csv).\n",
    "\n",
    "* Your final `ipynb` file should contain each of the following headers: \n",
    "\n",
    "  1. `City`\n",
    "\n",
    "  2. `State`\n",
    "\n",
    "  3. `Lat`\n",
    "\n",
    "  4. `Lng`\n",
    "\n",
    "  5. `Airport Name`\n",
    "\n",
    "  6. `Airport Address`\n",
    "\n",
    "  7. `Airport Rating`\n",
    "\n",
    "### Hints\n",
    "\n",
    "* You will need to obtain the lat/lng of each airport prior to sending it through the Google Places API to obtain the rating.\n",
    "\n",
    "* When using the Google Places API, be sure to use the term \"International Airport\" to ensure that the data received is for the major airport in the city and not a regional airport.\n",
    "\n",
    "* Use a try-except to skip airports for which there are no Google user's ratings.\n"
   ]
  },
  {
   "cell_type": "code",
   "execution_count": null,
   "metadata": {
    "collapsed": true
   },
   "outputs": [],
   "source": [
    "# Dependencies\n",
    "import pandas as pd\n",
    "import numpy as np\n",
    "import requests\n",
    "import json\n",
    "\n",
    "# Import API key\n",
    "from config import gkey"
   ]
  },
  {
   "cell_type": "code",
   "execution_count": null,
   "metadata": {
    "collapsed": true
   },
   "outputs": [],
   "source": [
    "# Import cities file into the cities_pd DataFrame\n",
    "cities_pd = pd.read_csv(\"../Resources/cities.csv\")\n",
    "cities_pd.head()"
   ]
  },
  {
   "cell_type": "code",
   "execution_count": null,
   "metadata": {
    "collapsed": true
   },
   "outputs": [],
   "source": [
    "# Add columns for lat, lng, airport name, airport address, airport rating.\n",
    "# Hint: Be sure to specify \"\" as the initial value for each column.\n",
    "\n",
    "cities_pd[\"lat\"]=\"\"\n",
    "cities_pd[\"lng\"]=\"\"\n",
    "cities_pd[\"Airport Name\"]=\"\"\n",
    "cities_pd[\"Airport Address\"]=\"\"\n",
    "cities_pd[\"Airport Rating\"]=\"\"\n",
    "cities_pd.head()"
   ]
  },
  {
   "cell_type": "code",
   "execution_count": null,
   "metadata": {
    "collapsed": true,
    "scrolled": true
   },
   "outputs": [],
   "source": [
    "# Loop through the cities_pd and get the lat/long for each city\n",
    "# Hint: `requests.get(target_url).json()`\n",
    "# Hint: `for index, row in cities_pd.iterrows():`\n",
    "# Hint: `cities_pd.loc`\n",
    "\n",
    "# create a params dict that will be updated with new city each iteration\n",
    "params = {\"gkey\": gkey}\n",
    "base_url = \"https://maps.googleapis.com/maps/api/geocode/json\"\n",
    "\n",
    "# Loop through the cities_pd and run a lat/long search for each city\n",
    "for index, row in cities_pd.iterrow():\n",
    "    city = row[\"city\"]\n",
    "    state = row[\"state\"]\n",
    "    \n",
    "    # update address key value\n",
    "    \n",
    "    \n",
    "    # print the cities_lat_lng url, avoid doing for public github repos in order to avoid exposing key\n",
    "    # print(cities_lat_lng.url)\n",
    "    \n",
    "    # convert to json\n",
    "    \n",
    "\n",
    "# Visualize to confirm lat lng appear\n"
   ]
  },
  {
   "cell_type": "code",
   "execution_count": null,
   "metadata": {
    "collapsed": true,
    "scrolled": false
   },
   "outputs": [],
   "source": [
    "# Use the lat/lng we recovered to identify airports\n",
    "# Hint: Code is similar to above block (i.e. you will need to use cities_pd.iterrows() again)\n",
    "# Hint: Use the keyword search for \"international+airport\"\n",
    "# Hint: Use a try-except to handle airports that are missing ratings\n",
    "\n",
    "# params dictionary to update each iteration\n",
    "\n",
    "\n",
    "# Use the lat/lng we recovered to identify airports\n",
    "\n",
    "\n",
    "\n",
    "\n",
    "\n",
    "   # change location each iteration while leaving original params in place\n",
    "\n",
    "\n",
    "    # Use the search term: \"International Airport\" and our lat/lng\n",
    "\n",
    "\n",
    "    # make request and print url\n",
    "\n",
    "\n",
    "#     print the name_address url, avoid doing for public github repos in order to avoid exposing key\n",
    "#     print(name_address.url)\n",
    "\n",
    "    # convert to json\n",
    "\n",
    "    # print(json.dumps(name_address, indent=4, sort_keys=True))\n",
    "\n",
    "    # Since some data may be missing we incorporate a try-except to skip any that are missing a data point.\n",
    "\n",
    "\n",
    "\n",
    "\n",
    "\n"
   ]
  },
  {
   "cell_type": "code",
   "execution_count": null,
   "metadata": {
    "collapsed": true
   },
   "outputs": [],
   "source": [
    "# Save Data to csv\n",
    "cities_pd.to_csv(\"Airport_Output.csv\")\n",
    "\n",
    "# Visualize to confirm airport data appears\n",
    "cities_pd.head(10)"
   ]
  }
 ],
 "metadata": {
  "anaconda-cloud": {},
  "kernelspec": {
   "display_name": "Python [conda env:PyData] *",
   "language": "python",
   "name": "conda-env-PyData-py"
  },
  "language_info": {
   "codemirror_mode": {
    "name": "ipython",
    "version": 3
   },
   "file_extension": ".py",
   "mimetype": "text/x-python",
   "name": "python",
   "nbconvert_exporter": "python",
   "pygments_lexer": "ipython3",
   "version": "3.6.10"
  }
 },
 "nbformat": 4,
 "nbformat_minor": 1
}
