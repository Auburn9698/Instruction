{
 "cells": [
  {
   "cell_type": "markdown",
   "metadata": {},
   "source": [
    "# Banking Deserts Heatmap\n",
    "\n",
    "* In this activity your broad task is to answer the question: \"What is the relationship between poverty, age, and population with the number of banks in a given area?\" To help accomplish this task, you've been given census data for every zip code across the country. We will also visualize this data by creating layered maps with Google maps.\n",
    "\n",
    "## Instructions\n",
    "\n",
    "* Using [zip_bank_data.csv](Resources/zip_bank_data.csv) and your new knowledge of the US Census API, add a column for Poverty Rate to the csv.\n",
    "\n",
    "* Using `gmap` create the following three figures:\n",
    "\n",
    "  * A map with a `heatmap_layer` of the poverty rate for each city.\n",
    "    ![Heatmap Layer](../Images/heatmap.png)\n",
    "\n",
    "  * A map with a `symbol_layer` for the number of banks located at that city.\n",
    "    ![Symbol Layer](../Images/bank_map.png)\n",
    "\n",
    "  * A map that includes both the poverty `heatmap_layer` and the bank `symbol_layer`.\n",
    "    ![Combined Map](../Images/final_map.png)\n",
    "\n",
    "* Print the summary statistics for poverty rate, bank count and population.\n",
    "\n",
    "* Create a scatter plot with linear regression for **bank count** vs. **poverty rate**.\n",
    "\n",
    "  * Be sure NaN values are dropped from the DataFrame.\n",
    "\n",
    "  * Plot the data points.\n",
    "\n",
    "  * Plot the linear regression line.\n",
    "\n",
    "  * Print the R-squared value.\n",
    "\n",
    "* Write a sentences describing your findings. Were they what you expected? What other factors could be at play?\n",
    "\n",
    "### Hints\n",
    "\n",
    "* The Census API uses code `B17001_002E` for poverty rates.\n",
    "\n",
    "* Test your code with only 5-10 cities at a time while debugging your code.\n",
    "\n",
    "* For reference, use the docs for the [layers](http://jupyter-gmaps.readthedocs.io/en/latest/api.html#figures-and-layers) and as a [refresher](http://jupyter-gmaps.readthedocs.io/en/latest/tutorial.html) for setting up the maps.\n",
    "\n",
    "* Be sure to handle zoom on the heat map.\n",
    "\n",
    "* At this point, you should not need to perform any new requests to Google's APIs.\n",
    "\n",
    "* To format the info boxes on your symbol_layer, look to use string formatting with list comprehension.\n",
    "\n",
    "Data Source: [Census Data](https://www.census.gov/developers/).\n"
   ]
  },
  {
   "cell_type": "code",
   "execution_count": null,
   "metadata": {},
   "outputs": [],
   "source": [
    "!jupyter nbextension enable --py --sys-prefix widgetsnbextension\n",
    "!pip install gmaps\n",
    "!jupyter nbextension enable --py --sys-prefix gmaps"
   ]
  },
  {
   "cell_type": "markdown",
   "metadata": {},
   "source": [
    "# Banking and Poverty\n",
    "---"
   ]
  },
  {
   "cell_type": "code",
   "execution_count": null,
   "metadata": {},
   "outputs": [],
   "source": [
    "# Dependencies\n",
    "from census import Census\n",
    "from config import (census_key, gkey)\n",
    "import gmaps\n",
    "import numpy as np\n",
    "import pandas as pd\n",
    "import requests\n",
    "import time\n",
    "from scipy.stats import linregress\n",
    "from matplotlib import pyplot as plt\n",
    "\n",
    "\n",
    "# Census API Key\n",
    "c = Census(census_key, year=2013)"
   ]
  },
  {
   "cell_type": "markdown",
   "metadata": {},
   "source": [
    "## Data Retrieval"
   ]
  },
  {
   "cell_type": "code",
   "execution_count": null,
   "metadata": {},
   "outputs": [],
   "source": [
    "# Run Census Search to retrieve data on all zip codes (2013 ACS5 Census)\n",
    "# See: https://github.com/CommerceDataService/census-wrapper for library documentation\n",
    "# See: https://gist.github.com/afhaque/60558290d6efd892351c4b64e5c01e9b for labels\n",
    "census_data = c.acs5.get((\"B01003_001E\", \"B17001_002E\"), {\n",
    "                         'for': 'zip code tabulation area:*'})\n",
    "\n",
    "# Convert to DataFrame\n",
    "census_pd = pd.DataFrame(census_data)\n",
    "\n",
    "# Column Reordering\n",
    "census_pd = census_pd.rename(columns={\"B01003_001E\": \"Population\",\n",
    "                                      \"B17001_002E\": \"Poverty Count\",\n",
    "                                      \"zip code tabulation area\": \"Zipcode\"})\n",
    "\n",
    "# Add in Poverty Rate (Poverty Count / Population)\n",
    "census_pd[\"Poverty Rate\"] = 100 * \\\n",
    "    census_pd[\"Poverty Count\"].astype(\n",
    "        int) / census_pd[\"Population\"].astype(int)\n",
    "\n",
    "# Final DataFrame with Zipcode, Population, and Poverty Rate\n",
    "\n",
    "\n",
    "# Visualize"
   ]
  },
  {
   "cell_type": "markdown",
   "metadata": {
    "collapsed": true
   },
   "source": [
    "## Combine Data"
   ]
  },
  {
   "cell_type": "code",
   "execution_count": null,
   "metadata": {
    "scrolled": true
   },
   "outputs": [],
   "source": [
    "# Import the zip bank data. Use dtype=\"object\" to ensure all data is read in accurately.\n",
    "census_data_original = pd.read_csv(\n",
    "    \"../Resources/zip_bank_data.csv\", dtype=\"object\", encoding=\"utf-8\")\n",
    "\n",
    "# Visualize"
   ]
  },
  {
   "cell_type": "code",
   "execution_count": null,
   "metadata": {},
   "outputs": [],
   "source": [
    "# Merge the two data sets along zip code\n",
    "census_data_complete = pd.merge(\n",
    "    census_data_original, census_pd, how=\"left\", on=[\"Zipcode\", \"Zipcode\"])\n",
    "\n",
    "# Remove rows missing data\n",
    "\n",
    "# Visualize"
   ]
  },
  {
   "cell_type": "markdown",
   "metadata": {},
   "source": [
    "## Heatmap of poverty rate"
   ]
  },
  {
   "cell_type": "code",
   "execution_count": null,
   "metadata": {},
   "outputs": [],
   "source": [
    "# Configure gmaps with API key\n",
    "gmaps.configure(api_key=gkey)"
   ]
  },
  {
   "cell_type": "code",
   "execution_count": null,
   "metadata": {},
   "outputs": [],
   "source": [
    "# Store 'Lat' and 'Lng' into  locations as floats\n",
    "\n",
    "# Convert Poverty Rate to float and store\n",
    "# HINT: be sure to handle NaN values\n",
    "\n"
   ]
  },
  {
   "cell_type": "code",
   "execution_count": null,
   "metadata": {},
   "outputs": [],
   "source": [
    "# Create a poverty Heatmap layer\n"
   ]
  },
  {
   "cell_type": "code",
   "execution_count": null,
   "metadata": {},
   "outputs": [],
   "source": [
    "# Convert bank rate to list\n"
   ]
  },
  {
   "cell_type": "code",
   "execution_count": null,
   "metadata": {},
   "outputs": [],
   "source": [
    "# Create bank symbol layer\n"
   ]
  },
  {
   "cell_type": "code",
   "execution_count": null,
   "metadata": {},
   "outputs": [],
   "source": [
    "# Create a combined map\n"
   ]
  },
  {
   "cell_type": "markdown",
   "metadata": {},
   "source": [
    "## Statistical Analysis"
   ]
  },
  {
   "cell_type": "markdown",
   "metadata": {},
   "source": [
    "#### Summary Statistics"
   ]
  },
  {
   "cell_type": "code",
   "execution_count": null,
   "metadata": {},
   "outputs": [],
   "source": [
    "# Mean, median, mode for Poverty Rate, Bank Count, Population"
   ]
  },
  {
   "cell_type": "code",
   "execution_count": null,
   "metadata": {},
   "outputs": [],
   "source": [
    "# Mean, median, mode for Poverty Rate"
   ]
  },
  {
   "cell_type": "code",
   "execution_count": null,
   "metadata": {},
   "outputs": [],
   "source": [
    "# Mean, median, mode for Bank Count"
   ]
  },
  {
   "cell_type": "code",
   "execution_count": null,
   "metadata": {},
   "outputs": [],
   "source": [
    "# Mean, median, mode for Population"
   ]
  },
  {
   "cell_type": "markdown",
   "metadata": {},
   "source": [
    "#### Linear Regression"
   ]
  },
  {
   "cell_type": "code",
   "execution_count": null,
   "metadata": {},
   "outputs": [],
   "source": [
    "## Convert to floats and store Poverty Rate and Bank Count as x and y values\n",
    "\n",
    "\n",
    "# Run linear regression\n",
    "\n",
    "\n",
    "# Plot scatter plot\n",
    "\n",
    "\n",
    "# Plot regression line\n",
    "\n",
    "\n",
    "# Label plot\n",
    "\n",
    "\n",
    "# Print r square value\n",
    "\n",
    "\n",
    "# Show plot\n"
   ]
  },
  {
   "cell_type": "markdown",
   "metadata": {},
   "source": [
    "### Analysis"
   ]
  },
  {
   "cell_type": "code",
   "execution_count": 1,
   "metadata": {},
   "outputs": [
    {
     "data": {
      "text/plain": [
       "list"
      ]
     },
     "execution_count": 1,
     "metadata": {},
     "output_type": "execute_result"
    }
   ],
   "source": [
    "data =[]\n",
    "type(data)"
   ]
  },
  {
   "cell_type": "code",
   "execution_count": null,
   "metadata": {},
   "outputs": [],
   "source": []
  }
 ],
 "metadata": {
  "anaconda-cloud": {},
  "kernelspec": {
   "display_name": "Python 3",
   "language": "python",
   "name": "python3"
  },
  "language_info": {
   "codemirror_mode": {
    "name": "ipython",
    "version": 3
   },
   "file_extension": ".py",
   "mimetype": "text/x-python",
   "name": "python",
   "nbconvert_exporter": "python",
   "pygments_lexer": "ipython3",
   "version": "3.6.10"
  },
  "latex_envs": {
   "LaTeX_envs_menu_present": true,
   "autoclose": false,
   "autocomplete": true,
   "bibliofile": "biblio.bib",
   "cite_by": "apalike",
   "current_citInitial": 1,
   "eqLabelWithNumbers": true,
   "eqNumInitial": 1,
   "hotkeys": {
    "equation": "Ctrl-E",
    "itemize": "Ctrl-I"
   },
   "labels_anchors": false,
   "latex_user_defs": false,
   "report_style_numbering": false,
   "user_envs_cfg": false
  }
 },
 "nbformat": 4,
 "nbformat_minor": 1
}
