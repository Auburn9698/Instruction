{
 "cells": [
  {
   "cell_type": "code",
   "execution_count": 15,
   "metadata": {},
   "outputs": [],
   "source": [
    "import requests\n",
    "import json\n",
    "from config import api_key"
   ]
  },
  {
   "cell_type": "code",
   "execution_count": 16,
   "metadata": {},
   "outputs": [],
   "source": [
    "# New Dependency! Use this to pretty print the JSON\n",
    "# https://docs.python.org/3/library/pprint.html\n",
    "from pprint import pprint"
   ]
  },
  {
   "cell_type": "code",
   "execution_count": 17,
   "metadata": {},
   "outputs": [],
   "source": [
    "# Note that the ?t= is a query param for the title of the\n",
    "# movie we want to search for.\n",
    "url = \"http://www.omdbapi.com/?t=\"\n",
    "api_key = \"&apikey=\" + api_key\n",
    "movie = \"Caddyshack\""
   ]
  },
  {
   "cell_type": "code",
   "execution_count": 18,
   "metadata": {},
   "outputs": [
    {
     "name": "stdout",
     "output_type": "stream",
     "text": [
      "http://www.omdbapi.com/?t=Caddyshack&apikey=a93adf56\n"
     ]
    }
   ],
   "source": [
    "print(url + \"Caddyshack\" + api_key)"
   ]
  },
  {
   "cell_type": "code",
   "execution_count": 19,
   "metadata": {},
   "outputs": [],
   "source": [
    "# Performing a GET request similar to the one we executed\n",
    "# earlier\n",
    "response = requests.get(url + \"Caddyshack\" + api_key)"
   ]
  },
  {
   "cell_type": "code",
   "execution_count": 20,
   "metadata": {},
   "outputs": [
    {
     "name": "stdout",
     "output_type": "stream",
     "text": [
      "{'Actors': \"Chevy Chase, Rodney Dangerfield, Ted Knight, Michael O'Keefe\",\n",
      " 'Awards': '1 nomination.',\n",
      " 'BoxOffice': 'N/A',\n",
      " 'Country': 'USA',\n",
      " 'DVD': 'N/A',\n",
      " 'Director': 'Harold Ramis',\n",
      " 'Genre': 'Comedy, Sport',\n",
      " 'Language': 'English',\n",
      " 'Metascore': '48',\n",
      " 'Plot': 'An exclusive golf course has to deal with a brash new member and a '\n",
      "         'destructive dancing gopher.',\n",
      " 'Poster': 'https://m.media-amazon.com/images/M/MV5BY2I1NWE2NzctNzNkYS00Nzg5LWEwZTQtN2I3Nzk3MTQwMDY2XkEyXkFqcGdeQXVyMTQxNzMzNDI@._V1_SX300.jpg',\n",
      " 'Production': 'Orion Pictures',\n",
      " 'Rated': 'R',\n",
      " 'Ratings': [{'Source': 'Internet Movie Database', 'Value': '7.3/10'},\n",
      "             {'Source': 'Rotten Tomatoes', 'Value': '73%'},\n",
      "             {'Source': 'Metacritic', 'Value': '48/100'}],\n",
      " 'Released': '25 Jul 1980',\n",
      " 'Response': 'True',\n",
      " 'Runtime': '98 min',\n",
      " 'Title': 'Caddyshack',\n",
      " 'Type': 'movie',\n",
      " 'Website': 'N/A',\n",
      " 'Writer': 'Brian Doyle-Murray, Harold Ramis, Douglas Kenney',\n",
      " 'Year': '1980',\n",
      " 'imdbID': 'tt0080487',\n",
      " 'imdbRating': '7.3',\n",
      " 'imdbVotes': '103,229'}\n"
     ]
    }
   ],
   "source": [
    "data = response.json()\n",
    "pprint(data)"
   ]
  },
  {
   "cell_type": "code",
   "execution_count": 21,
   "metadata": {},
   "outputs": [
    {
     "name": "stdout",
     "output_type": "stream",
     "text": [
      "Caddyshack was directed by Harold Ramis.\n",
      "Caddyshack was released on 25 Jul 1980.\n",
      "Caddyshack was rated R.\n",
      "Caddyshack's rating source was {'Source': 'Internet Movie Database', 'Value': '7.3/10'}.\n"
     ]
    }
   ],
   "source": [
    "print(f\"{movie} was directed by {data['Director']}.\")\n",
    "print(f\"{movie} was released on {data['Released']}.\")\n",
    "print(f\"{movie} was rated {data['Rated']}.\")\n",
    "print(f\"{movie}'s rating source was {data['Ratings'][0]}.\")"
   ]
  },
  {
   "cell_type": "code",
   "execution_count": null,
   "metadata": {},
   "outputs": [],
   "source": []
  },
  {
   "cell_type": "code",
   "execution_count": null,
   "metadata": {},
   "outputs": [],
   "source": []
  }
 ],
 "metadata": {
  "kernelspec": {
   "display_name": "Python [conda env:PyData] *",
   "language": "python",
   "name": "conda-env-PyData-py"
  },
  "language_info": {
   "codemirror_mode": {
    "name": "ipython",
    "version": 3
   },
   "file_extension": ".py",
   "mimetype": "text/x-python",
   "name": "python",
   "nbconvert_exporter": "python",
   "pygments_lexer": "ipython3",
   "version": "3.6.10"
  }
 },
 "nbformat": 4,
 "nbformat_minor": 4
}
